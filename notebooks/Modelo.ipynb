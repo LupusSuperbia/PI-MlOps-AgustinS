{
 "cells": [
  {
   "cell_type": "markdown",
   "metadata": {},
   "source": [
    "# Modelos de Machine Learning "
   ]
  },
  {
   "cell_type": "markdown",
   "metadata": {},
   "source": [
    "Limpie algunos datos que sentía que eran sobrantes o que no había terminado de limpiar bien, use varios modelos de regresion para probar cual era el mejor tambien use cross validation para hacer distintas busquedas, use gridsearch para buscar los mejores parametros para mis modelos que tenian varios hiperparametros como fueron RandomForest y SVR, tuve bastante complicaciones a la hora de seleccionar los datos que queria usar porque sentia que no habia mucha correlación entre algunos, pero la verdad fue muy interesante hacer todo esto"
   ]
  },
  {
   "cell_type": "markdown",
   "metadata": {},
   "source": [
    "## Importamos las librerias necesarias "
   ]
  },
  {
   "cell_type": "code",
   "execution_count": 3,
   "metadata": {},
   "outputs": [
    {
     "name": "stdout",
     "output_type": "stream",
     "text": [
      "Versión de scikit-learn: 1.0.2\n"
     ]
    }
   ],
   "source": [
    "import sklearn\n",
    "\n",
    "print(\"Versión de scikit-learn:\", sklearn.__version__)\n"
   ]
  },
  {
   "cell_type": "code",
   "execution_count": 4,
   "metadata": {},
   "outputs": [],
   "source": [
    "import pandas as pd\n",
    "import numpy as np\n",
    "import seaborn as sns\n",
    "import matplotlib.pyplot as plt"
   ]
  },
  {
   "cell_type": "markdown",
   "metadata": {},
   "source": [
    "### Abrimos nuestro archivo con pandas "
   ]
  },
  {
   "cell_type": "code",
   "execution_count": 5,
   "metadata": {},
   "outputs": [
    {
     "data": {
      "text/html": [
       "<div>\n",
       "<style scoped>\n",
       "    .dataframe tbody tr th:only-of-type {\n",
       "        vertical-align: middle;\n",
       "    }\n",
       "\n",
       "    .dataframe tbody tr th {\n",
       "        vertical-align: top;\n",
       "    }\n",
       "\n",
       "    .dataframe thead th {\n",
       "        text-align: right;\n",
       "    }\n",
       "</style>\n",
       "<table border=\"1\" class=\"dataframe\">\n",
       "  <thead>\n",
       "    <tr style=\"text-align: right;\">\n",
       "      <th></th>\n",
       "      <th>app_name</th>\n",
       "      <th>url</th>\n",
       "      <th>price</th>\n",
       "      <th>early_access</th>\n",
       "      <th>developer</th>\n",
       "      <th>sentiment</th>\n",
       "      <th>metascore</th>\n",
       "      <th>año_v</th>\n",
       "      <th>Accounting</th>\n",
       "      <th>Action</th>\n",
       "      <th>...</th>\n",
       "      <th>Steam Achievements</th>\n",
       "      <th>Steam Cloud</th>\n",
       "      <th>Steam Leaderboards</th>\n",
       "      <th>Steam Trading Cards</th>\n",
       "      <th>Steam Turn Notifications</th>\n",
       "      <th>Steam Workshop</th>\n",
       "      <th>SteamVR Collectibles</th>\n",
       "      <th>Tracked Motion Controllers</th>\n",
       "      <th>Valve Anti-Cheat enabled</th>\n",
       "      <th>Windows Mixed Reality</th>\n",
       "    </tr>\n",
       "  </thead>\n",
       "  <tbody>\n",
       "    <tr>\n",
       "      <th>0</th>\n",
       "      <td>Lost Summoner Kitty</td>\n",
       "      <td>http://store.steampowered.com/app/761140/Lost_...</td>\n",
       "      <td>4.99</td>\n",
       "      <td>0</td>\n",
       "      <td>Kotoshiro</td>\n",
       "      <td>None</td>\n",
       "      <td>NaN</td>\n",
       "      <td>2018</td>\n",
       "      <td>0</td>\n",
       "      <td>1</td>\n",
       "      <td>...</td>\n",
       "      <td>0</td>\n",
       "      <td>0</td>\n",
       "      <td>0</td>\n",
       "      <td>0</td>\n",
       "      <td>0</td>\n",
       "      <td>0</td>\n",
       "      <td>0</td>\n",
       "      <td>0</td>\n",
       "      <td>0</td>\n",
       "      <td>0</td>\n",
       "    </tr>\n",
       "    <tr>\n",
       "      <th>1</th>\n",
       "      <td>弹炸人2222</td>\n",
       "      <td>http://store.steampowered.com/app/767400/2222/</td>\n",
       "      <td>0.99</td>\n",
       "      <td>0</td>\n",
       "      <td>彼岸领域</td>\n",
       "      <td>Mostly Positive</td>\n",
       "      <td>NaN</td>\n",
       "      <td>2017</td>\n",
       "      <td>0</td>\n",
       "      <td>1</td>\n",
       "      <td>...</td>\n",
       "      <td>0</td>\n",
       "      <td>0</td>\n",
       "      <td>0</td>\n",
       "      <td>0</td>\n",
       "      <td>0</td>\n",
       "      <td>0</td>\n",
       "      <td>0</td>\n",
       "      <td>0</td>\n",
       "      <td>0</td>\n",
       "      <td>0</td>\n",
       "    </tr>\n",
       "    <tr>\n",
       "      <th>2</th>\n",
       "      <td>Log Challenge</td>\n",
       "      <td>http://store.steampowered.com/app/773570/Log_C...</td>\n",
       "      <td>2.99</td>\n",
       "      <td>0</td>\n",
       "      <td>&lt;NA&gt;</td>\n",
       "      <td>2 user reviews</td>\n",
       "      <td>NaN</td>\n",
       "      <td>2018</td>\n",
       "      <td>0</td>\n",
       "      <td>0</td>\n",
       "      <td>...</td>\n",
       "      <td>0</td>\n",
       "      <td>0</td>\n",
       "      <td>0</td>\n",
       "      <td>0</td>\n",
       "      <td>0</td>\n",
       "      <td>0</td>\n",
       "      <td>0</td>\n",
       "      <td>1</td>\n",
       "      <td>0</td>\n",
       "      <td>0</td>\n",
       "    </tr>\n",
       "    <tr>\n",
       "      <th>3</th>\n",
       "      <td>Battle Royale Trainer</td>\n",
       "      <td>http://store.steampowered.com/app/772540/Battl...</td>\n",
       "      <td>3.99</td>\n",
       "      <td>0</td>\n",
       "      <td>Trickjump Games Ltd</td>\n",
       "      <td>Mixed</td>\n",
       "      <td>NaN</td>\n",
       "      <td>2018</td>\n",
       "      <td>0</td>\n",
       "      <td>1</td>\n",
       "      <td>...</td>\n",
       "      <td>1</td>\n",
       "      <td>0</td>\n",
       "      <td>0</td>\n",
       "      <td>0</td>\n",
       "      <td>0</td>\n",
       "      <td>0</td>\n",
       "      <td>0</td>\n",
       "      <td>0</td>\n",
       "      <td>0</td>\n",
       "      <td>0</td>\n",
       "    </tr>\n",
       "    <tr>\n",
       "      <th>4</th>\n",
       "      <td>SNOW - All Access Basic Pass</td>\n",
       "      <td>http://store.steampowered.com/app/774276/SNOW_...</td>\n",
       "      <td>9.99</td>\n",
       "      <td>0</td>\n",
       "      <td>Poppermost Productions</td>\n",
       "      <td>None</td>\n",
       "      <td>NaN</td>\n",
       "      <td>2018</td>\n",
       "      <td>0</td>\n",
       "      <td>0</td>\n",
       "      <td>...</td>\n",
       "      <td>1</td>\n",
       "      <td>1</td>\n",
       "      <td>1</td>\n",
       "      <td>1</td>\n",
       "      <td>0</td>\n",
       "      <td>0</td>\n",
       "      <td>0</td>\n",
       "      <td>0</td>\n",
       "      <td>0</td>\n",
       "      <td>0</td>\n",
       "    </tr>\n",
       "    <tr>\n",
       "      <th>...</th>\n",
       "      <td>...</td>\n",
       "      <td>...</td>\n",
       "      <td>...</td>\n",
       "      <td>...</td>\n",
       "      <td>...</td>\n",
       "      <td>...</td>\n",
       "      <td>...</td>\n",
       "      <td>...</td>\n",
       "      <td>...</td>\n",
       "      <td>...</td>\n",
       "      <td>...</td>\n",
       "      <td>...</td>\n",
       "      <td>...</td>\n",
       "      <td>...</td>\n",
       "      <td>...</td>\n",
       "      <td>...</td>\n",
       "      <td>...</td>\n",
       "      <td>...</td>\n",
       "      <td>...</td>\n",
       "      <td>...</td>\n",
       "      <td>...</td>\n",
       "    </tr>\n",
       "    <tr>\n",
       "      <th>28651</th>\n",
       "      <td>Colony On Mars</td>\n",
       "      <td>http://store.steampowered.com/app/773640/Colon...</td>\n",
       "      <td>1.99</td>\n",
       "      <td>0</td>\n",
       "      <td>Nikita \"Ghost_RUS\"</td>\n",
       "      <td>Negative</td>\n",
       "      <td>NaN</td>\n",
       "      <td>2018</td>\n",
       "      <td>0</td>\n",
       "      <td>0</td>\n",
       "      <td>...</td>\n",
       "      <td>1</td>\n",
       "      <td>0</td>\n",
       "      <td>0</td>\n",
       "      <td>0</td>\n",
       "      <td>0</td>\n",
       "      <td>0</td>\n",
       "      <td>0</td>\n",
       "      <td>0</td>\n",
       "      <td>0</td>\n",
       "      <td>0</td>\n",
       "    </tr>\n",
       "    <tr>\n",
       "      <th>28652</th>\n",
       "      <td>LOGistICAL: South Africa</td>\n",
       "      <td>http://store.steampowered.com/app/733530/LOGis...</td>\n",
       "      <td>4.99</td>\n",
       "      <td>0</td>\n",
       "      <td>Sacada</td>\n",
       "      <td>5 user reviews</td>\n",
       "      <td>NaN</td>\n",
       "      <td>2018</td>\n",
       "      <td>0</td>\n",
       "      <td>0</td>\n",
       "      <td>...</td>\n",
       "      <td>1</td>\n",
       "      <td>1</td>\n",
       "      <td>1</td>\n",
       "      <td>0</td>\n",
       "      <td>0</td>\n",
       "      <td>0</td>\n",
       "      <td>0</td>\n",
       "      <td>0</td>\n",
       "      <td>0</td>\n",
       "      <td>0</td>\n",
       "    </tr>\n",
       "    <tr>\n",
       "      <th>28653</th>\n",
       "      <td>Russian Roads</td>\n",
       "      <td>http://store.steampowered.com/app/610660/Russi...</td>\n",
       "      <td>1.99</td>\n",
       "      <td>0</td>\n",
       "      <td>Laush Dmitriy Sergeevich</td>\n",
       "      <td>Mostly Positive</td>\n",
       "      <td>NaN</td>\n",
       "      <td>2018</td>\n",
       "      <td>0</td>\n",
       "      <td>0</td>\n",
       "      <td>...</td>\n",
       "      <td>1</td>\n",
       "      <td>0</td>\n",
       "      <td>0</td>\n",
       "      <td>1</td>\n",
       "      <td>0</td>\n",
       "      <td>0</td>\n",
       "      <td>0</td>\n",
       "      <td>0</td>\n",
       "      <td>0</td>\n",
       "      <td>0</td>\n",
       "    </tr>\n",
       "    <tr>\n",
       "      <th>28654</th>\n",
       "      <td>EXIT 2 - Directions</td>\n",
       "      <td>http://store.steampowered.com/app/658870/EXIT_...</td>\n",
       "      <td>4.99</td>\n",
       "      <td>0</td>\n",
       "      <td>xropi,stev3ns</td>\n",
       "      <td>1 user reviews</td>\n",
       "      <td>NaN</td>\n",
       "      <td>2017</td>\n",
       "      <td>0</td>\n",
       "      <td>0</td>\n",
       "      <td>...</td>\n",
       "      <td>1</td>\n",
       "      <td>1</td>\n",
       "      <td>0</td>\n",
       "      <td>0</td>\n",
       "      <td>0</td>\n",
       "      <td>0</td>\n",
       "      <td>0</td>\n",
       "      <td>0</td>\n",
       "      <td>0</td>\n",
       "      <td>0</td>\n",
       "    </tr>\n",
       "    <tr>\n",
       "      <th>28655</th>\n",
       "      <td>Maze Run VR</td>\n",
       "      <td>http://store.steampowered.com/app/681550/Maze_...</td>\n",
       "      <td>4.99</td>\n",
       "      <td>1</td>\n",
       "      <td>&lt;NA&gt;</td>\n",
       "      <td>Positive</td>\n",
       "      <td>NaN</td>\n",
       "      <td>2017</td>\n",
       "      <td>0</td>\n",
       "      <td>0</td>\n",
       "      <td>...</td>\n",
       "      <td>0</td>\n",
       "      <td>0</td>\n",
       "      <td>1</td>\n",
       "      <td>0</td>\n",
       "      <td>0</td>\n",
       "      <td>0</td>\n",
       "      <td>0</td>\n",
       "      <td>1</td>\n",
       "      <td>0</td>\n",
       "      <td>0</td>\n",
       "    </tr>\n",
       "  </tbody>\n",
       "</table>\n",
       "<p>28656 rows × 70 columns</p>\n",
       "</div>"
      ],
      "text/plain": [
       "                           app_name  \\\n",
       "0               Lost Summoner Kitty   \n",
       "1                           弹炸人2222   \n",
       "2                     Log Challenge   \n",
       "3             Battle Royale Trainer   \n",
       "4      SNOW - All Access Basic Pass   \n",
       "...                             ...   \n",
       "28651                Colony On Mars   \n",
       "28652      LOGistICAL: South Africa   \n",
       "28653                 Russian Roads   \n",
       "28654           EXIT 2 - Directions   \n",
       "28655                   Maze Run VR   \n",
       "\n",
       "                                                     url  price  early_access  \\\n",
       "0      http://store.steampowered.com/app/761140/Lost_...   4.99             0   \n",
       "1         http://store.steampowered.com/app/767400/2222/   0.99             0   \n",
       "2      http://store.steampowered.com/app/773570/Log_C...   2.99             0   \n",
       "3      http://store.steampowered.com/app/772540/Battl...   3.99             0   \n",
       "4      http://store.steampowered.com/app/774276/SNOW_...   9.99             0   \n",
       "...                                                  ...    ...           ...   \n",
       "28651  http://store.steampowered.com/app/773640/Colon...   1.99             0   \n",
       "28652  http://store.steampowered.com/app/733530/LOGis...   4.99             0   \n",
       "28653  http://store.steampowered.com/app/610660/Russi...   1.99             0   \n",
       "28654  http://store.steampowered.com/app/658870/EXIT_...   4.99             0   \n",
       "28655  http://store.steampowered.com/app/681550/Maze_...   4.99             1   \n",
       "\n",
       "                      developer        sentiment  metascore año_v  Accounting  \\\n",
       "0                     Kotoshiro             None        NaN  2018           0   \n",
       "1                          彼岸领域  Mostly Positive        NaN  2017           0   \n",
       "2                          <NA>   2 user reviews        NaN  2018           0   \n",
       "3           Trickjump Games Ltd            Mixed        NaN  2018           0   \n",
       "4        Poppermost Productions             None        NaN  2018           0   \n",
       "...                         ...              ...        ...   ...         ...   \n",
       "28651        Nikita \"Ghost_RUS\"         Negative        NaN  2018           0   \n",
       "28652                    Sacada   5 user reviews        NaN  2018           0   \n",
       "28653  Laush Dmitriy Sergeevich  Mostly Positive        NaN  2018           0   \n",
       "28654             xropi,stev3ns   1 user reviews        NaN  2017           0   \n",
       "28655                      <NA>         Positive        NaN  2017           0   \n",
       "\n",
       "       Action  ...  Steam Achievements  Steam Cloud  Steam Leaderboards  \\\n",
       "0           1  ...                   0            0                   0   \n",
       "1           1  ...                   0            0                   0   \n",
       "2           0  ...                   0            0                   0   \n",
       "3           1  ...                   1            0                   0   \n",
       "4           0  ...                   1            1                   1   \n",
       "...       ...  ...                 ...          ...                 ...   \n",
       "28651       0  ...                   1            0                   0   \n",
       "28652       0  ...                   1            1                   1   \n",
       "28653       0  ...                   1            0                   0   \n",
       "28654       0  ...                   1            1                   0   \n",
       "28655       0  ...                   0            0                   1   \n",
       "\n",
       "       Steam Trading Cards  Steam Turn Notifications  Steam Workshop  \\\n",
       "0                        0                         0               0   \n",
       "1                        0                         0               0   \n",
       "2                        0                         0               0   \n",
       "3                        0                         0               0   \n",
       "4                        1                         0               0   \n",
       "...                    ...                       ...             ...   \n",
       "28651                    0                         0               0   \n",
       "28652                    0                         0               0   \n",
       "28653                    1                         0               0   \n",
       "28654                    0                         0               0   \n",
       "28655                    0                         0               0   \n",
       "\n",
       "       SteamVR Collectibles  Tracked Motion Controllers  \\\n",
       "0                         0                           0   \n",
       "1                         0                           0   \n",
       "2                         0                           1   \n",
       "3                         0                           0   \n",
       "4                         0                           0   \n",
       "...                     ...                         ...   \n",
       "28651                     0                           0   \n",
       "28652                     0                           0   \n",
       "28653                     0                           0   \n",
       "28654                     0                           0   \n",
       "28655                     0                           1   \n",
       "\n",
       "       Valve Anti-Cheat enabled  Windows Mixed Reality  \n",
       "0                             0                      0  \n",
       "1                             0                      0  \n",
       "2                             0                      0  \n",
       "3                             0                      0  \n",
       "4                             0                      0  \n",
       "...                         ...                    ...  \n",
       "28651                         0                      0  \n",
       "28652                         0                      0  \n",
       "28653                         0                      0  \n",
       "28654                         0                      0  \n",
       "28655                         0                      0  \n",
       "\n",
       "[28656 rows x 70 columns]"
      ]
     },
     "execution_count": 5,
     "metadata": {},
     "output_type": "execute_result"
    }
   ],
   "source": [
    "df = pd.read_parquet(\"../data/parquet/steam_games_modelo.parquet\", engine=\"pyarrow\")\n",
    "df"
   ]
  },
  {
   "cell_type": "markdown",
   "metadata": {},
   "source": [
    "<h4>Copiamos el df para poder hacer cambios sin afectar</h4>"
   ]
  },
  {
   "cell_type": "code",
   "execution_count": 6,
   "metadata": {},
   "outputs": [],
   "source": [
    "df2 = df.copy()"
   ]
  },
  {
   "cell_type": "markdown",
   "metadata": {},
   "source": [
    "#### Transformamos los datos que son importantes en numeros para poder usar regresion lineal mas adelante "
   ]
  },
  {
   "cell_type": "code",
   "execution_count": 7,
   "metadata": {},
   "outputs": [],
   "source": [
    "df2[\"año_v\"] = df2[\"año_v\"].astype(\"int64\")"
   ]
  },
  {
   "cell_type": "code",
   "execution_count": 8,
   "metadata": {},
   "outputs": [
    {
     "data": {
      "text/plain": [
       "2747"
      ]
     },
     "execution_count": 8,
     "metadata": {},
     "output_type": "execute_result"
    }
   ],
   "source": [
    "df2[\"developer\"].isnull().sum()"
   ]
  },
  {
   "cell_type": "code",
   "execution_count": 9,
   "metadata": {},
   "outputs": [
    {
     "data": {
      "text/html": [
       "<div>\n",
       "<style scoped>\n",
       "    .dataframe tbody tr th:only-of-type {\n",
       "        vertical-align: middle;\n",
       "    }\n",
       "\n",
       "    .dataframe tbody tr th {\n",
       "        vertical-align: top;\n",
       "    }\n",
       "\n",
       "    .dataframe thead th {\n",
       "        text-align: right;\n",
       "    }\n",
       "</style>\n",
       "<table border=\"1\" class=\"dataframe\">\n",
       "  <thead>\n",
       "    <tr style=\"text-align: right;\">\n",
       "      <th></th>\n",
       "      <th>price</th>\n",
       "      <th>early_access</th>\n",
       "      <th>metascore</th>\n",
       "      <th>año_v</th>\n",
       "      <th>Accounting</th>\n",
       "      <th>Action</th>\n",
       "      <th>Adventure</th>\n",
       "      <th>Animation &amp;amp; Modeling</th>\n",
       "      <th>Audio Production</th>\n",
       "      <th>Casual</th>\n",
       "      <th>...</th>\n",
       "      <th>Steam Achievements</th>\n",
       "      <th>Steam Cloud</th>\n",
       "      <th>Steam Leaderboards</th>\n",
       "      <th>Steam Trading Cards</th>\n",
       "      <th>Steam Turn Notifications</th>\n",
       "      <th>Steam Workshop</th>\n",
       "      <th>SteamVR Collectibles</th>\n",
       "      <th>Tracked Motion Controllers</th>\n",
       "      <th>Valve Anti-Cheat enabled</th>\n",
       "      <th>Windows Mixed Reality</th>\n",
       "    </tr>\n",
       "  </thead>\n",
       "  <tbody>\n",
       "    <tr>\n",
       "      <th>price</th>\n",
       "      <td>1.000000</td>\n",
       "      <td>0.054841</td>\n",
       "      <td>0.176329</td>\n",
       "      <td>0.021826</td>\n",
       "      <td>0.054885</td>\n",
       "      <td>-0.033370</td>\n",
       "      <td>-0.038166</td>\n",
       "      <td>0.128331</td>\n",
       "      <td>0.087434</td>\n",
       "      <td>-0.197992</td>\n",
       "      <td>...</td>\n",
       "      <td>-0.022659</td>\n",
       "      <td>0.007031</td>\n",
       "      <td>-0.056694</td>\n",
       "      <td>-0.011088</td>\n",
       "      <td>0.019854</td>\n",
       "      <td>0.097615</td>\n",
       "      <td>0.046663</td>\n",
       "      <td>0.035121</td>\n",
       "      <td>-0.002364</td>\n",
       "      <td>0.033266</td>\n",
       "    </tr>\n",
       "    <tr>\n",
       "      <th>early_access</th>\n",
       "      <td>0.054841</td>\n",
       "      <td>1.000000</td>\n",
       "      <td>0.019054</td>\n",
       "      <td>0.117289</td>\n",
       "      <td>-0.003590</td>\n",
       "      <td>0.046181</td>\n",
       "      <td>0.004377</td>\n",
       "      <td>0.000103</td>\n",
       "      <td>-0.006355</td>\n",
       "      <td>-0.048114</td>\n",
       "      <td>...</td>\n",
       "      <td>-0.085405</td>\n",
       "      <td>-0.071610</td>\n",
       "      <td>-0.042881</td>\n",
       "      <td>-0.089622</td>\n",
       "      <td>0.001727</td>\n",
       "      <td>0.004705</td>\n",
       "      <td>0.012903</td>\n",
       "      <td>0.205777</td>\n",
       "      <td>-0.021926</td>\n",
       "      <td>0.066635</td>\n",
       "    </tr>\n",
       "    <tr>\n",
       "      <th>metascore</th>\n",
       "      <td>0.176329</td>\n",
       "      <td>0.019054</td>\n",
       "      <td>1.000000</td>\n",
       "      <td>-0.108627</td>\n",
       "      <td>NaN</td>\n",
       "      <td>-0.040145</td>\n",
       "      <td>-0.048358</td>\n",
       "      <td>NaN</td>\n",
       "      <td>NaN</td>\n",
       "      <td>-0.019407</td>\n",
       "      <td>...</td>\n",
       "      <td>-0.041810</td>\n",
       "      <td>0.075076</td>\n",
       "      <td>-0.005490</td>\n",
       "      <td>-0.021350</td>\n",
       "      <td>0.008863</td>\n",
       "      <td>0.078064</td>\n",
       "      <td>0.038141</td>\n",
       "      <td>0.001697</td>\n",
       "      <td>0.046235</td>\n",
       "      <td>0.026958</td>\n",
       "    </tr>\n",
       "    <tr>\n",
       "      <th>año_v</th>\n",
       "      <td>0.021826</td>\n",
       "      <td>0.117289</td>\n",
       "      <td>-0.108627</td>\n",
       "      <td>1.000000</td>\n",
       "      <td>0.005521</td>\n",
       "      <td>-0.005767</td>\n",
       "      <td>0.032086</td>\n",
       "      <td>0.014287</td>\n",
       "      <td>0.010261</td>\n",
       "      <td>0.091080</td>\n",
       "      <td>...</td>\n",
       "      <td>0.163883</td>\n",
       "      <td>0.033799</td>\n",
       "      <td>0.037706</td>\n",
       "      <td>0.127097</td>\n",
       "      <td>0.012790</td>\n",
       "      <td>0.036288</td>\n",
       "      <td>0.015925</td>\n",
       "      <td>0.126250</td>\n",
       "      <td>-0.038822</td>\n",
       "      <td>0.043664</td>\n",
       "    </tr>\n",
       "    <tr>\n",
       "      <th>Accounting</th>\n",
       "      <td>0.054885</td>\n",
       "      <td>-0.003590</td>\n",
       "      <td>NaN</td>\n",
       "      <td>0.005521</td>\n",
       "      <td>1.000000</td>\n",
       "      <td>-0.010661</td>\n",
       "      <td>-0.008515</td>\n",
       "      <td>0.036412</td>\n",
       "      <td>0.047794</td>\n",
       "      <td>-0.008735</td>\n",
       "      <td>...</td>\n",
       "      <td>-0.015152</td>\n",
       "      <td>-0.010053</td>\n",
       "      <td>-0.007262</td>\n",
       "      <td>-0.011714</td>\n",
       "      <td>-0.000746</td>\n",
       "      <td>-0.003653</td>\n",
       "      <td>-0.000428</td>\n",
       "      <td>-0.003255</td>\n",
       "      <td>-0.001782</td>\n",
       "      <td>-0.000966</td>\n",
       "    </tr>\n",
       "    <tr>\n",
       "      <th>...</th>\n",
       "      <td>...</td>\n",
       "      <td>...</td>\n",
       "      <td>...</td>\n",
       "      <td>...</td>\n",
       "      <td>...</td>\n",
       "      <td>...</td>\n",
       "      <td>...</td>\n",
       "      <td>...</td>\n",
       "      <td>...</td>\n",
       "      <td>...</td>\n",
       "      <td>...</td>\n",
       "      <td>...</td>\n",
       "      <td>...</td>\n",
       "      <td>...</td>\n",
       "      <td>...</td>\n",
       "      <td>...</td>\n",
       "      <td>...</td>\n",
       "      <td>...</td>\n",
       "      <td>...</td>\n",
       "      <td>...</td>\n",
       "      <td>...</td>\n",
       "    </tr>\n",
       "    <tr>\n",
       "      <th>Steam Workshop</th>\n",
       "      <td>0.097615</td>\n",
       "      <td>0.004705</td>\n",
       "      <td>0.078064</td>\n",
       "      <td>0.036288</td>\n",
       "      <td>-0.003653</td>\n",
       "      <td>-0.052662</td>\n",
       "      <td>-0.085309</td>\n",
       "      <td>0.022337</td>\n",
       "      <td>-0.009625</td>\n",
       "      <td>-0.078931</td>\n",
       "      <td>...</td>\n",
       "      <td>0.130728</td>\n",
       "      <td>0.170107</td>\n",
       "      <td>0.135584</td>\n",
       "      <td>0.182914</td>\n",
       "      <td>0.012711</td>\n",
       "      <td>1.000000</td>\n",
       "      <td>-0.002480</td>\n",
       "      <td>-0.038930</td>\n",
       "      <td>0.028311</td>\n",
       "      <td>-0.005776</td>\n",
       "    </tr>\n",
       "    <tr>\n",
       "      <th>SteamVR Collectibles</th>\n",
       "      <td>0.046663</td>\n",
       "      <td>0.012903</td>\n",
       "      <td>0.038141</td>\n",
       "      <td>0.015925</td>\n",
       "      <td>-0.000428</td>\n",
       "      <td>-0.019294</td>\n",
       "      <td>-0.017388</td>\n",
       "      <td>-0.001916</td>\n",
       "      <td>-0.001473</td>\n",
       "      <td>-0.017836</td>\n",
       "      <td>...</td>\n",
       "      <td>0.006924</td>\n",
       "      <td>0.007220</td>\n",
       "      <td>0.008762</td>\n",
       "      <td>-0.004582</td>\n",
       "      <td>-0.001524</td>\n",
       "      <td>-0.002480</td>\n",
       "      <td>1.000000</td>\n",
       "      <td>0.125851</td>\n",
       "      <td>-0.003639</td>\n",
       "      <td>0.175972</td>\n",
       "    </tr>\n",
       "    <tr>\n",
       "      <th>Tracked Motion Controllers</th>\n",
       "      <td>0.035121</td>\n",
       "      <td>0.205777</td>\n",
       "      <td>0.001697</td>\n",
       "      <td>0.126250</td>\n",
       "      <td>-0.003255</td>\n",
       "      <td>-0.165705</td>\n",
       "      <td>-0.132354</td>\n",
       "      <td>-0.014586</td>\n",
       "      <td>-0.011210</td>\n",
       "      <td>-0.135764</td>\n",
       "      <td>...</td>\n",
       "      <td>-0.105303</td>\n",
       "      <td>-0.103735</td>\n",
       "      <td>-0.012841</td>\n",
       "      <td>-0.128737</td>\n",
       "      <td>-0.008430</td>\n",
       "      <td>-0.038930</td>\n",
       "      <td>0.125851</td>\n",
       "      <td>1.000000</td>\n",
       "      <td>-0.027697</td>\n",
       "      <td>0.289265</td>\n",
       "    </tr>\n",
       "    <tr>\n",
       "      <th>Valve Anti-Cheat enabled</th>\n",
       "      <td>-0.002364</td>\n",
       "      <td>-0.021926</td>\n",
       "      <td>0.046235</td>\n",
       "      <td>-0.038822</td>\n",
       "      <td>-0.001782</td>\n",
       "      <td>0.137624</td>\n",
       "      <td>-0.050734</td>\n",
       "      <td>-0.007985</td>\n",
       "      <td>-0.006137</td>\n",
       "      <td>-0.069120</td>\n",
       "      <td>...</td>\n",
       "      <td>0.090532</td>\n",
       "      <td>0.116462</td>\n",
       "      <td>0.149937</td>\n",
       "      <td>0.024464</td>\n",
       "      <td>-0.006350</td>\n",
       "      <td>0.028311</td>\n",
       "      <td>-0.003639</td>\n",
       "      <td>-0.027697</td>\n",
       "      <td>1.000000</td>\n",
       "      <td>-0.008216</td>\n",
       "    </tr>\n",
       "    <tr>\n",
       "      <th>Windows Mixed Reality</th>\n",
       "      <td>0.033266</td>\n",
       "      <td>0.066635</td>\n",
       "      <td>0.026958</td>\n",
       "      <td>0.043664</td>\n",
       "      <td>-0.000966</td>\n",
       "      <td>-0.049153</td>\n",
       "      <td>-0.039260</td>\n",
       "      <td>-0.004327</td>\n",
       "      <td>-0.003325</td>\n",
       "      <td>-0.040271</td>\n",
       "      <td>...</td>\n",
       "      <td>-0.014111</td>\n",
       "      <td>-0.026169</td>\n",
       "      <td>0.009770</td>\n",
       "      <td>-0.029297</td>\n",
       "      <td>-0.003441</td>\n",
       "      <td>-0.005776</td>\n",
       "      <td>0.175972</td>\n",
       "      <td>0.289265</td>\n",
       "      <td>-0.008216</td>\n",
       "      <td>1.000000</td>\n",
       "    </tr>\n",
       "  </tbody>\n",
       "</table>\n",
       "<p>66 rows × 66 columns</p>\n",
       "</div>"
      ],
      "text/plain": [
       "                               price  early_access  metascore     año_v  \\\n",
       "price                       1.000000      0.054841   0.176329  0.021826   \n",
       "early_access                0.054841      1.000000   0.019054  0.117289   \n",
       "metascore                   0.176329      0.019054   1.000000 -0.108627   \n",
       "año_v                       0.021826      0.117289  -0.108627  1.000000   \n",
       "Accounting                  0.054885     -0.003590        NaN  0.005521   \n",
       "...                              ...           ...        ...       ...   \n",
       "Steam Workshop              0.097615      0.004705   0.078064  0.036288   \n",
       "SteamVR Collectibles        0.046663      0.012903   0.038141  0.015925   \n",
       "Tracked Motion Controllers  0.035121      0.205777   0.001697  0.126250   \n",
       "Valve Anti-Cheat enabled   -0.002364     -0.021926   0.046235 -0.038822   \n",
       "Windows Mixed Reality       0.033266      0.066635   0.026958  0.043664   \n",
       "\n",
       "                            Accounting    Action  Adventure  \\\n",
       "price                         0.054885 -0.033370  -0.038166   \n",
       "early_access                 -0.003590  0.046181   0.004377   \n",
       "metascore                          NaN -0.040145  -0.048358   \n",
       "año_v                         0.005521 -0.005767   0.032086   \n",
       "Accounting                    1.000000 -0.010661  -0.008515   \n",
       "...                                ...       ...        ...   \n",
       "Steam Workshop               -0.003653 -0.052662  -0.085309   \n",
       "SteamVR Collectibles         -0.000428 -0.019294  -0.017388   \n",
       "Tracked Motion Controllers   -0.003255 -0.165705  -0.132354   \n",
       "Valve Anti-Cheat enabled     -0.001782  0.137624  -0.050734   \n",
       "Windows Mixed Reality        -0.000966 -0.049153  -0.039260   \n",
       "\n",
       "                            Animation &amp; Modeling  Audio Production  \\\n",
       "price                                       0.128331          0.087434   \n",
       "early_access                                0.000103         -0.006355   \n",
       "metascore                                        NaN               NaN   \n",
       "año_v                                       0.014287          0.010261   \n",
       "Accounting                                  0.036412          0.047794   \n",
       "...                                              ...               ...   \n",
       "Steam Workshop                              0.022337         -0.009625   \n",
       "SteamVR Collectibles                       -0.001916         -0.001473   \n",
       "Tracked Motion Controllers                 -0.014586         -0.011210   \n",
       "Valve Anti-Cheat enabled                   -0.007985         -0.006137   \n",
       "Windows Mixed Reality                      -0.004327         -0.003325   \n",
       "\n",
       "                              Casual  ...  Steam Achievements  Steam Cloud  \\\n",
       "price                      -0.197992  ...           -0.022659     0.007031   \n",
       "early_access               -0.048114  ...           -0.085405    -0.071610   \n",
       "metascore                  -0.019407  ...           -0.041810     0.075076   \n",
       "año_v                       0.091080  ...            0.163883     0.033799   \n",
       "Accounting                 -0.008735  ...           -0.015152    -0.010053   \n",
       "...                              ...  ...                 ...          ...   \n",
       "Steam Workshop             -0.078931  ...            0.130728     0.170107   \n",
       "SteamVR Collectibles       -0.017836  ...            0.006924     0.007220   \n",
       "Tracked Motion Controllers -0.135764  ...           -0.105303    -0.103735   \n",
       "Valve Anti-Cheat enabled   -0.069120  ...            0.090532     0.116462   \n",
       "Windows Mixed Reality      -0.040271  ...           -0.014111    -0.026169   \n",
       "\n",
       "                            Steam Leaderboards  Steam Trading Cards  \\\n",
       "price                                -0.056694            -0.011088   \n",
       "early_access                         -0.042881            -0.089622   \n",
       "metascore                            -0.005490            -0.021350   \n",
       "año_v                                 0.037706             0.127097   \n",
       "Accounting                           -0.007262            -0.011714   \n",
       "...                                        ...                  ...   \n",
       "Steam Workshop                        0.135584             0.182914   \n",
       "SteamVR Collectibles                  0.008762            -0.004582   \n",
       "Tracked Motion Controllers           -0.012841            -0.128737   \n",
       "Valve Anti-Cheat enabled              0.149937             0.024464   \n",
       "Windows Mixed Reality                 0.009770            -0.029297   \n",
       "\n",
       "                            Steam Turn Notifications  Steam Workshop  \\\n",
       "price                                       0.019854        0.097615   \n",
       "early_access                                0.001727        0.004705   \n",
       "metascore                                   0.008863        0.078064   \n",
       "año_v                                       0.012790        0.036288   \n",
       "Accounting                                 -0.000746       -0.003653   \n",
       "...                                              ...             ...   \n",
       "Steam Workshop                              0.012711        1.000000   \n",
       "SteamVR Collectibles                       -0.001524       -0.002480   \n",
       "Tracked Motion Controllers                 -0.008430       -0.038930   \n",
       "Valve Anti-Cheat enabled                   -0.006350        0.028311   \n",
       "Windows Mixed Reality                      -0.003441       -0.005776   \n",
       "\n",
       "                            SteamVR Collectibles  Tracked Motion Controllers  \\\n",
       "price                                   0.046663                    0.035121   \n",
       "early_access                            0.012903                    0.205777   \n",
       "metascore                               0.038141                    0.001697   \n",
       "año_v                                   0.015925                    0.126250   \n",
       "Accounting                             -0.000428                   -0.003255   \n",
       "...                                          ...                         ...   \n",
       "Steam Workshop                         -0.002480                   -0.038930   \n",
       "SteamVR Collectibles                    1.000000                    0.125851   \n",
       "Tracked Motion Controllers              0.125851                    1.000000   \n",
       "Valve Anti-Cheat enabled               -0.003639                   -0.027697   \n",
       "Windows Mixed Reality                   0.175972                    0.289265   \n",
       "\n",
       "                            Valve Anti-Cheat enabled  Windows Mixed Reality  \n",
       "price                                      -0.002364               0.033266  \n",
       "early_access                               -0.021926               0.066635  \n",
       "metascore                                   0.046235               0.026958  \n",
       "año_v                                      -0.038822               0.043664  \n",
       "Accounting                                 -0.001782              -0.000966  \n",
       "...                                              ...                    ...  \n",
       "Steam Workshop                              0.028311              -0.005776  \n",
       "SteamVR Collectibles                       -0.003639               0.175972  \n",
       "Tracked Motion Controllers                 -0.027697               0.289265  \n",
       "Valve Anti-Cheat enabled                    1.000000              -0.008216  \n",
       "Windows Mixed Reality                      -0.008216               1.000000  \n",
       "\n",
       "[66 rows x 66 columns]"
      ]
     },
     "execution_count": 9,
     "metadata": {},
     "output_type": "execute_result"
    }
   ],
   "source": [
    "df2.corr()"
   ]
  },
  {
   "cell_type": "markdown",
   "metadata": {},
   "source": [
    "#### Extraemos las columnas que son tipos de datos numericos "
   ]
  },
  {
   "cell_type": "code",
   "execution_count": 10,
   "metadata": {},
   "outputs": [
    {
     "data": {
      "text/plain": [
       "price                             0\n",
       "early_access                      0\n",
       "metascore                     26162\n",
       "año_v                             0\n",
       "Accounting                        0\n",
       "                              ...  \n",
       "Steam Workshop                    0\n",
       "SteamVR Collectibles              0\n",
       "Tracked Motion Controllers        0\n",
       "Valve Anti-Cheat enabled          0\n",
       "Windows Mixed Reality             0\n",
       "Length: 66, dtype: int64"
      ]
     },
     "execution_count": 10,
     "metadata": {},
     "output_type": "execute_result"
    }
   ],
   "source": [
    "df2_only_numeric = df2.select_dtypes(include=\"number\")\n",
    "df2_only_numeric.isna().sum()"
   ]
  },
  {
   "cell_type": "markdown",
   "metadata": {},
   "source": [
    "## Seleccionamos que columnas queremos usar para poder entrenar nuestro modelo"
   ]
  },
  {
   "cell_type": "code",
   "execution_count": 11,
   "metadata": {},
   "outputs": [],
   "source": [
    "df_mod = df2_only_numeric.loc[:, [ \"price\",\"metascore\", \"año_v\",\"early_access\",\"Action\",\"Adventure\",\"Casual\",\"Indie\",\"Racing\",\"Simulation\",\"Sports\",\"Strategy\", \"Massively Multiplayer\", \"RPG\"]]"
   ]
  },
  {
   "cell_type": "code",
   "execution_count": 12,
   "metadata": {},
   "outputs": [],
   "source": [
    "df_mod.dropna(subset=[\"año_v\"], inplace=True)"
   ]
  },
  {
   "cell_type": "code",
   "execution_count": 13,
   "metadata": {},
   "outputs": [],
   "source": [
    "df_mod = df_mod[df_mod[\"año_v\"]<=2018]"
   ]
  },
  {
   "cell_type": "code",
   "execution_count": 14,
   "metadata": {},
   "outputs": [
    {
     "data": {
      "text/html": [
       "<div>\n",
       "<style scoped>\n",
       "    .dataframe tbody tr th:only-of-type {\n",
       "        vertical-align: middle;\n",
       "    }\n",
       "\n",
       "    .dataframe tbody tr th {\n",
       "        vertical-align: top;\n",
       "    }\n",
       "\n",
       "    .dataframe thead th {\n",
       "        text-align: right;\n",
       "    }\n",
       "</style>\n",
       "<table border=\"1\" class=\"dataframe\">\n",
       "  <thead>\n",
       "    <tr style=\"text-align: right;\">\n",
       "      <th></th>\n",
       "      <th>price</th>\n",
       "      <th>metascore</th>\n",
       "      <th>año_v</th>\n",
       "      <th>early_access</th>\n",
       "      <th>Action</th>\n",
       "      <th>Adventure</th>\n",
       "      <th>Casual</th>\n",
       "      <th>Indie</th>\n",
       "      <th>Racing</th>\n",
       "      <th>Simulation</th>\n",
       "      <th>Sports</th>\n",
       "      <th>Strategy</th>\n",
       "      <th>Massively Multiplayer</th>\n",
       "      <th>RPG</th>\n",
       "    </tr>\n",
       "  </thead>\n",
       "  <tbody>\n",
       "    <tr>\n",
       "      <th>0</th>\n",
       "      <td>4.99</td>\n",
       "      <td>NaN</td>\n",
       "      <td>2018</td>\n",
       "      <td>0</td>\n",
       "      <td>1</td>\n",
       "      <td>0</td>\n",
       "      <td>1</td>\n",
       "      <td>1</td>\n",
       "      <td>0</td>\n",
       "      <td>1</td>\n",
       "      <td>0</td>\n",
       "      <td>1</td>\n",
       "      <td>0</td>\n",
       "      <td>0</td>\n",
       "    </tr>\n",
       "    <tr>\n",
       "      <th>1</th>\n",
       "      <td>0.99</td>\n",
       "      <td>NaN</td>\n",
       "      <td>2017</td>\n",
       "      <td>0</td>\n",
       "      <td>1</td>\n",
       "      <td>1</td>\n",
       "      <td>1</td>\n",
       "      <td>0</td>\n",
       "      <td>0</td>\n",
       "      <td>0</td>\n",
       "      <td>0</td>\n",
       "      <td>0</td>\n",
       "      <td>0</td>\n",
       "      <td>0</td>\n",
       "    </tr>\n",
       "    <tr>\n",
       "      <th>2</th>\n",
       "      <td>2.99</td>\n",
       "      <td>NaN</td>\n",
       "      <td>2018</td>\n",
       "      <td>0</td>\n",
       "      <td>0</td>\n",
       "      <td>0</td>\n",
       "      <td>0</td>\n",
       "      <td>0</td>\n",
       "      <td>0</td>\n",
       "      <td>0</td>\n",
       "      <td>0</td>\n",
       "      <td>0</td>\n",
       "      <td>0</td>\n",
       "      <td>0</td>\n",
       "    </tr>\n",
       "    <tr>\n",
       "      <th>3</th>\n",
       "      <td>3.99</td>\n",
       "      <td>NaN</td>\n",
       "      <td>2018</td>\n",
       "      <td>0</td>\n",
       "      <td>1</td>\n",
       "      <td>1</td>\n",
       "      <td>0</td>\n",
       "      <td>0</td>\n",
       "      <td>0</td>\n",
       "      <td>1</td>\n",
       "      <td>0</td>\n",
       "      <td>0</td>\n",
       "      <td>0</td>\n",
       "      <td>0</td>\n",
       "    </tr>\n",
       "    <tr>\n",
       "      <th>4</th>\n",
       "      <td>9.99</td>\n",
       "      <td>NaN</td>\n",
       "      <td>2018</td>\n",
       "      <td>0</td>\n",
       "      <td>0</td>\n",
       "      <td>0</td>\n",
       "      <td>0</td>\n",
       "      <td>1</td>\n",
       "      <td>0</td>\n",
       "      <td>1</td>\n",
       "      <td>1</td>\n",
       "      <td>0</td>\n",
       "      <td>0</td>\n",
       "      <td>0</td>\n",
       "    </tr>\n",
       "    <tr>\n",
       "      <th>...</th>\n",
       "      <td>...</td>\n",
       "      <td>...</td>\n",
       "      <td>...</td>\n",
       "      <td>...</td>\n",
       "      <td>...</td>\n",
       "      <td>...</td>\n",
       "      <td>...</td>\n",
       "      <td>...</td>\n",
       "      <td>...</td>\n",
       "      <td>...</td>\n",
       "      <td>...</td>\n",
       "      <td>...</td>\n",
       "      <td>...</td>\n",
       "      <td>...</td>\n",
       "    </tr>\n",
       "    <tr>\n",
       "      <th>28651</th>\n",
       "      <td>1.99</td>\n",
       "      <td>NaN</td>\n",
       "      <td>2018</td>\n",
       "      <td>0</td>\n",
       "      <td>0</td>\n",
       "      <td>0</td>\n",
       "      <td>1</td>\n",
       "      <td>1</td>\n",
       "      <td>0</td>\n",
       "      <td>1</td>\n",
       "      <td>0</td>\n",
       "      <td>1</td>\n",
       "      <td>0</td>\n",
       "      <td>0</td>\n",
       "    </tr>\n",
       "    <tr>\n",
       "      <th>28652</th>\n",
       "      <td>4.99</td>\n",
       "      <td>NaN</td>\n",
       "      <td>2018</td>\n",
       "      <td>0</td>\n",
       "      <td>0</td>\n",
       "      <td>0</td>\n",
       "      <td>1</td>\n",
       "      <td>1</td>\n",
       "      <td>0</td>\n",
       "      <td>0</td>\n",
       "      <td>0</td>\n",
       "      <td>1</td>\n",
       "      <td>0</td>\n",
       "      <td>0</td>\n",
       "    </tr>\n",
       "    <tr>\n",
       "      <th>28653</th>\n",
       "      <td>1.99</td>\n",
       "      <td>NaN</td>\n",
       "      <td>2018</td>\n",
       "      <td>0</td>\n",
       "      <td>0</td>\n",
       "      <td>0</td>\n",
       "      <td>0</td>\n",
       "      <td>1</td>\n",
       "      <td>1</td>\n",
       "      <td>1</td>\n",
       "      <td>0</td>\n",
       "      <td>0</td>\n",
       "      <td>0</td>\n",
       "      <td>0</td>\n",
       "    </tr>\n",
       "    <tr>\n",
       "      <th>28654</th>\n",
       "      <td>4.99</td>\n",
       "      <td>NaN</td>\n",
       "      <td>2017</td>\n",
       "      <td>0</td>\n",
       "      <td>0</td>\n",
       "      <td>0</td>\n",
       "      <td>1</td>\n",
       "      <td>1</td>\n",
       "      <td>0</td>\n",
       "      <td>0</td>\n",
       "      <td>0</td>\n",
       "      <td>0</td>\n",
       "      <td>0</td>\n",
       "      <td>0</td>\n",
       "    </tr>\n",
       "    <tr>\n",
       "      <th>28655</th>\n",
       "      <td>4.99</td>\n",
       "      <td>NaN</td>\n",
       "      <td>2017</td>\n",
       "      <td>1</td>\n",
       "      <td>0</td>\n",
       "      <td>0</td>\n",
       "      <td>0</td>\n",
       "      <td>0</td>\n",
       "      <td>0</td>\n",
       "      <td>0</td>\n",
       "      <td>0</td>\n",
       "      <td>0</td>\n",
       "      <td>0</td>\n",
       "      <td>0</td>\n",
       "    </tr>\n",
       "  </tbody>\n",
       "</table>\n",
       "<p>28603 rows × 14 columns</p>\n",
       "</div>"
      ],
      "text/plain": [
       "       price  metascore  año_v  early_access  Action  Adventure  Casual  \\\n",
       "0       4.99        NaN   2018             0       1          0       1   \n",
       "1       0.99        NaN   2017             0       1          1       1   \n",
       "2       2.99        NaN   2018             0       0          0       0   \n",
       "3       3.99        NaN   2018             0       1          1       0   \n",
       "4       9.99        NaN   2018             0       0          0       0   \n",
       "...      ...        ...    ...           ...     ...        ...     ...   \n",
       "28651   1.99        NaN   2018             0       0          0       1   \n",
       "28652   4.99        NaN   2018             0       0          0       1   \n",
       "28653   1.99        NaN   2018             0       0          0       0   \n",
       "28654   4.99        NaN   2017             0       0          0       1   \n",
       "28655   4.99        NaN   2017             1       0          0       0   \n",
       "\n",
       "       Indie  Racing  Simulation  Sports  Strategy  Massively Multiplayer  RPG  \n",
       "0          1       0           1       0         1                      0    0  \n",
       "1          0       0           0       0         0                      0    0  \n",
       "2          0       0           0       0         0                      0    0  \n",
       "3          0       0           1       0         0                      0    0  \n",
       "4          1       0           1       1         0                      0    0  \n",
       "...      ...     ...         ...     ...       ...                    ...  ...  \n",
       "28651      1       0           1       0         1                      0    0  \n",
       "28652      1       0           0       0         1                      0    0  \n",
       "28653      1       1           1       0         0                      0    0  \n",
       "28654      1       0           0       0         0                      0    0  \n",
       "28655      0       0           0       0         0                      0    0  \n",
       "\n",
       "[28603 rows x 14 columns]"
      ]
     },
     "execution_count": 14,
     "metadata": {},
     "output_type": "execute_result"
    }
   ],
   "source": [
    "df_mod"
   ]
  },
  {
   "cell_type": "code",
   "execution_count": 15,
   "metadata": {},
   "outputs": [
    {
     "data": {
      "text/html": [
       "<div>\n",
       "<style scoped>\n",
       "    .dataframe tbody tr th:only-of-type {\n",
       "        vertical-align: middle;\n",
       "    }\n",
       "\n",
       "    .dataframe tbody tr th {\n",
       "        vertical-align: top;\n",
       "    }\n",
       "\n",
       "    .dataframe thead th {\n",
       "        text-align: right;\n",
       "    }\n",
       "</style>\n",
       "<table border=\"1\" class=\"dataframe\">\n",
       "  <thead>\n",
       "    <tr style=\"text-align: right;\">\n",
       "      <th></th>\n",
       "      <th>price</th>\n",
       "      <th>metascore</th>\n",
       "      <th>año_v</th>\n",
       "      <th>early_access</th>\n",
       "      <th>Action</th>\n",
       "      <th>Adventure</th>\n",
       "      <th>Casual</th>\n",
       "      <th>Indie</th>\n",
       "      <th>Racing</th>\n",
       "      <th>Simulation</th>\n",
       "      <th>Sports</th>\n",
       "      <th>Strategy</th>\n",
       "      <th>Massively Multiplayer</th>\n",
       "      <th>RPG</th>\n",
       "    </tr>\n",
       "  </thead>\n",
       "  <tbody>\n",
       "    <tr>\n",
       "      <th>0</th>\n",
       "      <td>4.99</td>\n",
       "      <td>NaN</td>\n",
       "      <td>2018</td>\n",
       "      <td>0</td>\n",
       "      <td>1</td>\n",
       "      <td>0</td>\n",
       "      <td>1</td>\n",
       "      <td>1</td>\n",
       "      <td>0</td>\n",
       "      <td>1</td>\n",
       "      <td>0</td>\n",
       "      <td>1</td>\n",
       "      <td>0</td>\n",
       "      <td>0</td>\n",
       "    </tr>\n",
       "    <tr>\n",
       "      <th>1</th>\n",
       "      <td>0.99</td>\n",
       "      <td>NaN</td>\n",
       "      <td>2017</td>\n",
       "      <td>0</td>\n",
       "      <td>1</td>\n",
       "      <td>1</td>\n",
       "      <td>1</td>\n",
       "      <td>0</td>\n",
       "      <td>0</td>\n",
       "      <td>0</td>\n",
       "      <td>0</td>\n",
       "      <td>0</td>\n",
       "      <td>0</td>\n",
       "      <td>0</td>\n",
       "    </tr>\n",
       "    <tr>\n",
       "      <th>2</th>\n",
       "      <td>2.99</td>\n",
       "      <td>NaN</td>\n",
       "      <td>2018</td>\n",
       "      <td>0</td>\n",
       "      <td>0</td>\n",
       "      <td>0</td>\n",
       "      <td>0</td>\n",
       "      <td>0</td>\n",
       "      <td>0</td>\n",
       "      <td>0</td>\n",
       "      <td>0</td>\n",
       "      <td>0</td>\n",
       "      <td>0</td>\n",
       "      <td>0</td>\n",
       "    </tr>\n",
       "    <tr>\n",
       "      <th>3</th>\n",
       "      <td>3.99</td>\n",
       "      <td>NaN</td>\n",
       "      <td>2018</td>\n",
       "      <td>0</td>\n",
       "      <td>1</td>\n",
       "      <td>1</td>\n",
       "      <td>0</td>\n",
       "      <td>0</td>\n",
       "      <td>0</td>\n",
       "      <td>1</td>\n",
       "      <td>0</td>\n",
       "      <td>0</td>\n",
       "      <td>0</td>\n",
       "      <td>0</td>\n",
       "    </tr>\n",
       "    <tr>\n",
       "      <th>4</th>\n",
       "      <td>9.99</td>\n",
       "      <td>NaN</td>\n",
       "      <td>2018</td>\n",
       "      <td>0</td>\n",
       "      <td>0</td>\n",
       "      <td>0</td>\n",
       "      <td>0</td>\n",
       "      <td>1</td>\n",
       "      <td>0</td>\n",
       "      <td>1</td>\n",
       "      <td>1</td>\n",
       "      <td>0</td>\n",
       "      <td>0</td>\n",
       "      <td>0</td>\n",
       "    </tr>\n",
       "  </tbody>\n",
       "</table>\n",
       "</div>"
      ],
      "text/plain": [
       "   price  metascore  año_v  early_access  Action  Adventure  Casual  Indie  \\\n",
       "0   4.99        NaN   2018             0       1          0       1      1   \n",
       "1   0.99        NaN   2017             0       1          1       1      0   \n",
       "2   2.99        NaN   2018             0       0          0       0      0   \n",
       "3   3.99        NaN   2018             0       1          1       0      0   \n",
       "4   9.99        NaN   2018             0       0          0       0      1   \n",
       "\n",
       "   Racing  Simulation  Sports  Strategy  Massively Multiplayer  RPG  \n",
       "0       0           1       0         1                      0    0  \n",
       "1       0           0       0         0                      0    0  \n",
       "2       0           0       0         0                      0    0  \n",
       "3       0           1       0         0                      0    0  \n",
       "4       0           1       1         0                      0    0  "
      ]
     },
     "execution_count": 15,
     "metadata": {},
     "output_type": "execute_result"
    }
   ],
   "source": [
    "df_mod.head()"
   ]
  },
  {
   "cell_type": "code",
   "execution_count": 16,
   "metadata": {},
   "outputs": [
    {
     "data": {
      "text/html": [
       "<div>\n",
       "<style scoped>\n",
       "    .dataframe tbody tr th:only-of-type {\n",
       "        vertical-align: middle;\n",
       "    }\n",
       "\n",
       "    .dataframe tbody tr th {\n",
       "        vertical-align: top;\n",
       "    }\n",
       "\n",
       "    .dataframe thead th {\n",
       "        text-align: right;\n",
       "    }\n",
       "</style>\n",
       "<table border=\"1\" class=\"dataframe\">\n",
       "  <thead>\n",
       "    <tr style=\"text-align: right;\">\n",
       "      <th></th>\n",
       "      <th>price</th>\n",
       "      <th>metascore</th>\n",
       "      <th>año_v</th>\n",
       "      <th>early_access</th>\n",
       "      <th>Action</th>\n",
       "      <th>Adventure</th>\n",
       "      <th>Casual</th>\n",
       "      <th>Indie</th>\n",
       "      <th>Racing</th>\n",
       "      <th>Simulation</th>\n",
       "      <th>Sports</th>\n",
       "      <th>Strategy</th>\n",
       "      <th>Massively Multiplayer</th>\n",
       "      <th>RPG</th>\n",
       "    </tr>\n",
       "  </thead>\n",
       "  <tbody>\n",
       "    <tr>\n",
       "      <th>price</th>\n",
       "      <td>1.000000</td>\n",
       "      <td>0.176329</td>\n",
       "      <td>0.020632</td>\n",
       "      <td>0.052314</td>\n",
       "      <td>-0.032801</td>\n",
       "      <td>-0.037704</td>\n",
       "      <td>-0.197667</td>\n",
       "      <td>-0.190736</td>\n",
       "      <td>-0.003646</td>\n",
       "      <td>0.069783</td>\n",
       "      <td>0.035056</td>\n",
       "      <td>0.028887</td>\n",
       "      <td>0.191354</td>\n",
       "      <td>0.058156</td>\n",
       "    </tr>\n",
       "    <tr>\n",
       "      <th>metascore</th>\n",
       "      <td>0.176329</td>\n",
       "      <td>1.000000</td>\n",
       "      <td>-0.108627</td>\n",
       "      <td>0.019054</td>\n",
       "      <td>-0.040145</td>\n",
       "      <td>-0.048358</td>\n",
       "      <td>-0.019407</td>\n",
       "      <td>-0.082380</td>\n",
       "      <td>-0.009380</td>\n",
       "      <td>-0.048767</td>\n",
       "      <td>0.019172</td>\n",
       "      <td>0.013920</td>\n",
       "      <td>0.044180</td>\n",
       "      <td>0.048786</td>\n",
       "    </tr>\n",
       "    <tr>\n",
       "      <th>año_v</th>\n",
       "      <td>0.020632</td>\n",
       "      <td>-0.108627</td>\n",
       "      <td>1.000000</td>\n",
       "      <td>0.108190</td>\n",
       "      <td>-0.003752</td>\n",
       "      <td>0.033630</td>\n",
       "      <td>0.093059</td>\n",
       "      <td>0.229212</td>\n",
       "      <td>0.001917</td>\n",
       "      <td>0.026439</td>\n",
       "      <td>0.052014</td>\n",
       "      <td>-0.010495</td>\n",
       "      <td>0.050030</td>\n",
       "      <td>0.051181</td>\n",
       "    </tr>\n",
       "    <tr>\n",
       "      <th>early_access</th>\n",
       "      <td>0.052314</td>\n",
       "      <td>0.019054</td>\n",
       "      <td>0.108190</td>\n",
       "      <td>1.000000</td>\n",
       "      <td>0.051827</td>\n",
       "      <td>0.008327</td>\n",
       "      <td>-0.044529</td>\n",
       "      <td>0.087556</td>\n",
       "      <td>0.011972</td>\n",
       "      <td>0.002992</td>\n",
       "      <td>0.007826</td>\n",
       "      <td>-0.000413</td>\n",
       "      <td>0.029476</td>\n",
       "      <td>0.025274</td>\n",
       "    </tr>\n",
       "    <tr>\n",
       "      <th>Action</th>\n",
       "      <td>-0.032801</td>\n",
       "      <td>-0.040145</td>\n",
       "      <td>-0.003752</td>\n",
       "      <td>0.051827</td>\n",
       "      <td>1.000000</td>\n",
       "      <td>0.148847</td>\n",
       "      <td>-0.120463</td>\n",
       "      <td>0.194364</td>\n",
       "      <td>0.021319</td>\n",
       "      <td>-0.224514</td>\n",
       "      <td>-0.019490</td>\n",
       "      <td>-0.152252</td>\n",
       "      <td>0.074406</td>\n",
       "      <td>-0.022392</td>\n",
       "    </tr>\n",
       "    <tr>\n",
       "      <th>Adventure</th>\n",
       "      <td>-0.037704</td>\n",
       "      <td>-0.048358</td>\n",
       "      <td>0.033630</td>\n",
       "      <td>0.008327</td>\n",
       "      <td>0.148847</td>\n",
       "      <td>1.000000</td>\n",
       "      <td>0.059938</td>\n",
       "      <td>0.236572</td>\n",
       "      <td>-0.061428</td>\n",
       "      <td>-0.167028</td>\n",
       "      <td>-0.073460</td>\n",
       "      <td>-0.116323</td>\n",
       "      <td>0.005375</td>\n",
       "      <td>0.127434</td>\n",
       "    </tr>\n",
       "    <tr>\n",
       "      <th>Casual</th>\n",
       "      <td>-0.197667</td>\n",
       "      <td>-0.019407</td>\n",
       "      <td>0.093059</td>\n",
       "      <td>-0.044529</td>\n",
       "      <td>-0.120463</td>\n",
       "      <td>0.059938</td>\n",
       "      <td>1.000000</td>\n",
       "      <td>0.165085</td>\n",
       "      <td>-0.029876</td>\n",
       "      <td>0.188820</td>\n",
       "      <td>0.042627</td>\n",
       "      <td>-0.034555</td>\n",
       "      <td>-0.030562</td>\n",
       "      <td>-0.125381</td>\n",
       "    </tr>\n",
       "    <tr>\n",
       "      <th>Indie</th>\n",
       "      <td>-0.190736</td>\n",
       "      <td>-0.082380</td>\n",
       "      <td>0.229212</td>\n",
       "      <td>0.087556</td>\n",
       "      <td>0.194364</td>\n",
       "      <td>0.236572</td>\n",
       "      <td>0.165085</td>\n",
       "      <td>1.000000</td>\n",
       "      <td>-0.015151</td>\n",
       "      <td>-0.142696</td>\n",
       "      <td>-0.003674</td>\n",
       "      <td>0.139015</td>\n",
       "      <td>-0.033736</td>\n",
       "      <td>0.173157</td>\n",
       "    </tr>\n",
       "    <tr>\n",
       "      <th>Racing</th>\n",
       "      <td>-0.003646</td>\n",
       "      <td>-0.009380</td>\n",
       "      <td>0.001917</td>\n",
       "      <td>0.011972</td>\n",
       "      <td>0.021319</td>\n",
       "      <td>-0.061428</td>\n",
       "      <td>-0.029876</td>\n",
       "      <td>-0.015151</td>\n",
       "      <td>1.000000</td>\n",
       "      <td>0.081331</td>\n",
       "      <td>0.371716</td>\n",
       "      <td>-0.076248</td>\n",
       "      <td>0.014863</td>\n",
       "      <td>-0.072420</td>\n",
       "    </tr>\n",
       "    <tr>\n",
       "      <th>Simulation</th>\n",
       "      <td>0.069783</td>\n",
       "      <td>-0.048767</td>\n",
       "      <td>0.026439</td>\n",
       "      <td>0.002992</td>\n",
       "      <td>-0.224514</td>\n",
       "      <td>-0.167028</td>\n",
       "      <td>0.188820</td>\n",
       "      <td>-0.142696</td>\n",
       "      <td>0.081331</td>\n",
       "      <td>1.000000</td>\n",
       "      <td>0.206384</td>\n",
       "      <td>0.042626</td>\n",
       "      <td>0.008508</td>\n",
       "      <td>-0.114109</td>\n",
       "    </tr>\n",
       "    <tr>\n",
       "      <th>Sports</th>\n",
       "      <td>0.035056</td>\n",
       "      <td>0.019172</td>\n",
       "      <td>0.052014</td>\n",
       "      <td>0.007826</td>\n",
       "      <td>-0.019490</td>\n",
       "      <td>-0.073460</td>\n",
       "      <td>0.042627</td>\n",
       "      <td>-0.003674</td>\n",
       "      <td>0.371716</td>\n",
       "      <td>0.206384</td>\n",
       "      <td>1.000000</td>\n",
       "      <td>0.001336</td>\n",
       "      <td>0.039364</td>\n",
       "      <td>-0.079530</td>\n",
       "    </tr>\n",
       "    <tr>\n",
       "      <th>Strategy</th>\n",
       "      <td>0.028887</td>\n",
       "      <td>0.013920</td>\n",
       "      <td>-0.010495</td>\n",
       "      <td>-0.000413</td>\n",
       "      <td>-0.152252</td>\n",
       "      <td>-0.116323</td>\n",
       "      <td>-0.034555</td>\n",
       "      <td>0.139015</td>\n",
       "      <td>-0.076248</td>\n",
       "      <td>0.042626</td>\n",
       "      <td>0.001336</td>\n",
       "      <td>1.000000</td>\n",
       "      <td>0.017123</td>\n",
       "      <td>0.214325</td>\n",
       "    </tr>\n",
       "    <tr>\n",
       "      <th>Massively Multiplayer</th>\n",
       "      <td>0.191354</td>\n",
       "      <td>0.044180</td>\n",
       "      <td>0.050030</td>\n",
       "      <td>0.029476</td>\n",
       "      <td>0.074406</td>\n",
       "      <td>0.005375</td>\n",
       "      <td>-0.030562</td>\n",
       "      <td>-0.033736</td>\n",
       "      <td>0.014863</td>\n",
       "      <td>0.008508</td>\n",
       "      <td>0.039364</td>\n",
       "      <td>0.017123</td>\n",
       "      <td>1.000000</td>\n",
       "      <td>0.148642</td>\n",
       "    </tr>\n",
       "    <tr>\n",
       "      <th>RPG</th>\n",
       "      <td>0.058156</td>\n",
       "      <td>0.048786</td>\n",
       "      <td>0.051181</td>\n",
       "      <td>0.025274</td>\n",
       "      <td>-0.022392</td>\n",
       "      <td>0.127434</td>\n",
       "      <td>-0.125381</td>\n",
       "      <td>0.173157</td>\n",
       "      <td>-0.072420</td>\n",
       "      <td>-0.114109</td>\n",
       "      <td>-0.079530</td>\n",
       "      <td>0.214325</td>\n",
       "      <td>0.148642</td>\n",
       "      <td>1.000000</td>\n",
       "    </tr>\n",
       "  </tbody>\n",
       "</table>\n",
       "</div>"
      ],
      "text/plain": [
       "                          price  metascore     año_v  early_access    Action  \\\n",
       "price                  1.000000   0.176329  0.020632      0.052314 -0.032801   \n",
       "metascore              0.176329   1.000000 -0.108627      0.019054 -0.040145   \n",
       "año_v                  0.020632  -0.108627  1.000000      0.108190 -0.003752   \n",
       "early_access           0.052314   0.019054  0.108190      1.000000  0.051827   \n",
       "Action                -0.032801  -0.040145 -0.003752      0.051827  1.000000   \n",
       "Adventure             -0.037704  -0.048358  0.033630      0.008327  0.148847   \n",
       "Casual                -0.197667  -0.019407  0.093059     -0.044529 -0.120463   \n",
       "Indie                 -0.190736  -0.082380  0.229212      0.087556  0.194364   \n",
       "Racing                -0.003646  -0.009380  0.001917      0.011972  0.021319   \n",
       "Simulation             0.069783  -0.048767  0.026439      0.002992 -0.224514   \n",
       "Sports                 0.035056   0.019172  0.052014      0.007826 -0.019490   \n",
       "Strategy               0.028887   0.013920 -0.010495     -0.000413 -0.152252   \n",
       "Massively Multiplayer  0.191354   0.044180  0.050030      0.029476  0.074406   \n",
       "RPG                    0.058156   0.048786  0.051181      0.025274 -0.022392   \n",
       "\n",
       "                       Adventure    Casual     Indie    Racing  Simulation  \\\n",
       "price                  -0.037704 -0.197667 -0.190736 -0.003646    0.069783   \n",
       "metascore              -0.048358 -0.019407 -0.082380 -0.009380   -0.048767   \n",
       "año_v                   0.033630  0.093059  0.229212  0.001917    0.026439   \n",
       "early_access            0.008327 -0.044529  0.087556  0.011972    0.002992   \n",
       "Action                  0.148847 -0.120463  0.194364  0.021319   -0.224514   \n",
       "Adventure               1.000000  0.059938  0.236572 -0.061428   -0.167028   \n",
       "Casual                  0.059938  1.000000  0.165085 -0.029876    0.188820   \n",
       "Indie                   0.236572  0.165085  1.000000 -0.015151   -0.142696   \n",
       "Racing                 -0.061428 -0.029876 -0.015151  1.000000    0.081331   \n",
       "Simulation             -0.167028  0.188820 -0.142696  0.081331    1.000000   \n",
       "Sports                 -0.073460  0.042627 -0.003674  0.371716    0.206384   \n",
       "Strategy               -0.116323 -0.034555  0.139015 -0.076248    0.042626   \n",
       "Massively Multiplayer   0.005375 -0.030562 -0.033736  0.014863    0.008508   \n",
       "RPG                     0.127434 -0.125381  0.173157 -0.072420   -0.114109   \n",
       "\n",
       "                         Sports  Strategy  Massively Multiplayer       RPG  \n",
       "price                  0.035056  0.028887               0.191354  0.058156  \n",
       "metascore              0.019172  0.013920               0.044180  0.048786  \n",
       "año_v                  0.052014 -0.010495               0.050030  0.051181  \n",
       "early_access           0.007826 -0.000413               0.029476  0.025274  \n",
       "Action                -0.019490 -0.152252               0.074406 -0.022392  \n",
       "Adventure             -0.073460 -0.116323               0.005375  0.127434  \n",
       "Casual                 0.042627 -0.034555              -0.030562 -0.125381  \n",
       "Indie                 -0.003674  0.139015              -0.033736  0.173157  \n",
       "Racing                 0.371716 -0.076248               0.014863 -0.072420  \n",
       "Simulation             0.206384  0.042626               0.008508 -0.114109  \n",
       "Sports                 1.000000  0.001336               0.039364 -0.079530  \n",
       "Strategy               0.001336  1.000000               0.017123  0.214325  \n",
       "Massively Multiplayer  0.039364  0.017123               1.000000  0.148642  \n",
       "RPG                   -0.079530  0.214325               0.148642  1.000000  "
      ]
     },
     "execution_count": 16,
     "metadata": {},
     "output_type": "execute_result"
    }
   ],
   "source": [
    "df_mod.corr()"
   ]
  },
  {
   "cell_type": "code",
   "execution_count": 17,
   "metadata": {},
   "outputs": [
    {
     "data": {
      "text/plain": [
       "<AxesSubplot:>"
      ]
     },
     "execution_count": 17,
     "metadata": {},
     "output_type": "execute_result"
    },
    {
     "data": {
      "image/png": "[encoded data removed]",
      "text/plain": [
       "<Figure size 640x480 with 2 Axes>"
      ]
     },
     "metadata": {},
     "output_type": "display_data"
    }
   ],
   "source": [
    "sns.heatmap(data=df_mod.corr(), annot=True)"
   ]
  },
  {
   "cell_type": "code",
   "execution_count": 18,
   "metadata": {},
   "outputs": [
    {
     "data": {
      "text/html": [
       "<div>\n",
       "<style scoped>\n",
       "    .dataframe tbody tr th:only-of-type {\n",
       "        vertical-align: middle;\n",
       "    }\n",
       "\n",
       "    .dataframe tbody tr th {\n",
       "        vertical-align: top;\n",
       "    }\n",
       "\n",
       "    .dataframe thead th {\n",
       "        text-align: right;\n",
       "    }\n",
       "</style>\n",
       "<table border=\"1\" class=\"dataframe\">\n",
       "  <thead>\n",
       "    <tr style=\"text-align: right;\">\n",
       "      <th></th>\n",
       "      <th>price</th>\n",
       "      <th>metascore</th>\n",
       "      <th>año_v</th>\n",
       "      <th>early_access</th>\n",
       "      <th>Action</th>\n",
       "      <th>Adventure</th>\n",
       "      <th>Casual</th>\n",
       "      <th>Indie</th>\n",
       "      <th>Racing</th>\n",
       "      <th>Simulation</th>\n",
       "      <th>Sports</th>\n",
       "      <th>Strategy</th>\n",
       "      <th>Massively Multiplayer</th>\n",
       "      <th>RPG</th>\n",
       "    </tr>\n",
       "  </thead>\n",
       "  <tbody>\n",
       "    <tr>\n",
       "      <th>count</th>\n",
       "      <td>28603.000000</td>\n",
       "      <td>2494.000000</td>\n",
       "      <td>28603.000000</td>\n",
       "      <td>28603.000000</td>\n",
       "      <td>28603.000000</td>\n",
       "      <td>28603.000000</td>\n",
       "      <td>28603.000000</td>\n",
       "      <td>28603.000000</td>\n",
       "      <td>28603.000000</td>\n",
       "      <td>28603.000000</td>\n",
       "      <td>28603.000000</td>\n",
       "      <td>28603.000000</td>\n",
       "      <td>28603.000000</td>\n",
       "      <td>28603.000000</td>\n",
       "    </tr>\n",
       "    <tr>\n",
       "      <th>mean</th>\n",
       "      <td>8.771905</td>\n",
       "      <td>72.244988</td>\n",
       "      <td>2014.815474</td>\n",
       "      <td>0.056323</td>\n",
       "      <td>0.352411</td>\n",
       "      <td>0.257595</td>\n",
       "      <td>0.267524</td>\n",
       "      <td>0.498025</td>\n",
       "      <td>0.034507</td>\n",
       "      <td>0.218404</td>\n",
       "      <td>0.039681</td>\n",
       "      <td>0.221061</td>\n",
       "      <td>0.025172</td>\n",
       "      <td>0.165752</td>\n",
       "    </tr>\n",
       "    <tr>\n",
       "      <th>std</th>\n",
       "      <td>9.329503</td>\n",
       "      <td>10.789183</td>\n",
       "      <td>3.510252</td>\n",
       "      <td>0.230548</td>\n",
       "      <td>0.477729</td>\n",
       "      <td>0.437318</td>\n",
       "      <td>0.442676</td>\n",
       "      <td>0.500005</td>\n",
       "      <td>0.182530</td>\n",
       "      <td>0.413170</td>\n",
       "      <td>0.195212</td>\n",
       "      <td>0.414969</td>\n",
       "      <td>0.156651</td>\n",
       "      <td>0.371864</td>\n",
       "    </tr>\n",
       "    <tr>\n",
       "      <th>min</th>\n",
       "      <td>0.490000</td>\n",
       "      <td>20.000000</td>\n",
       "      <td>1970.000000</td>\n",
       "      <td>0.000000</td>\n",
       "      <td>0.000000</td>\n",
       "      <td>0.000000</td>\n",
       "      <td>0.000000</td>\n",
       "      <td>0.000000</td>\n",
       "      <td>0.000000</td>\n",
       "      <td>0.000000</td>\n",
       "      <td>0.000000</td>\n",
       "      <td>0.000000</td>\n",
       "      <td>0.000000</td>\n",
       "      <td>0.000000</td>\n",
       "    </tr>\n",
       "    <tr>\n",
       "      <th>25%</th>\n",
       "      <td>2.990000</td>\n",
       "      <td>66.000000</td>\n",
       "      <td>2014.000000</td>\n",
       "      <td>0.000000</td>\n",
       "      <td>0.000000</td>\n",
       "      <td>0.000000</td>\n",
       "      <td>0.000000</td>\n",
       "      <td>0.000000</td>\n",
       "      <td>0.000000</td>\n",
       "      <td>0.000000</td>\n",
       "      <td>0.000000</td>\n",
       "      <td>0.000000</td>\n",
       "      <td>0.000000</td>\n",
       "      <td>0.000000</td>\n",
       "    </tr>\n",
       "    <tr>\n",
       "      <th>50%</th>\n",
       "      <td>4.990000</td>\n",
       "      <td>74.000000</td>\n",
       "      <td>2016.000000</td>\n",
       "      <td>0.000000</td>\n",
       "      <td>0.000000</td>\n",
       "      <td>0.000000</td>\n",
       "      <td>0.000000</td>\n",
       "      <td>0.000000</td>\n",
       "      <td>0.000000</td>\n",
       "      <td>0.000000</td>\n",
       "      <td>0.000000</td>\n",
       "      <td>0.000000</td>\n",
       "      <td>0.000000</td>\n",
       "      <td>0.000000</td>\n",
       "    </tr>\n",
       "    <tr>\n",
       "      <th>75%</th>\n",
       "      <td>9.990000</td>\n",
       "      <td>80.000000</td>\n",
       "      <td>2017.000000</td>\n",
       "      <td>0.000000</td>\n",
       "      <td>1.000000</td>\n",
       "      <td>1.000000</td>\n",
       "      <td>1.000000</td>\n",
       "      <td>1.000000</td>\n",
       "      <td>0.000000</td>\n",
       "      <td>0.000000</td>\n",
       "      <td>0.000000</td>\n",
       "      <td>0.000000</td>\n",
       "      <td>0.000000</td>\n",
       "      <td>0.000000</td>\n",
       "    </tr>\n",
       "    <tr>\n",
       "      <th>max</th>\n",
       "      <td>89.990000</td>\n",
       "      <td>96.000000</td>\n",
       "      <td>2018.000000</td>\n",
       "      <td>1.000000</td>\n",
       "      <td>1.000000</td>\n",
       "      <td>1.000000</td>\n",
       "      <td>1.000000</td>\n",
       "      <td>1.000000</td>\n",
       "      <td>1.000000</td>\n",
       "      <td>1.000000</td>\n",
       "      <td>1.000000</td>\n",
       "      <td>1.000000</td>\n",
       "      <td>1.000000</td>\n",
       "      <td>1.000000</td>\n",
       "    </tr>\n",
       "  </tbody>\n",
       "</table>\n",
       "</div>"
      ],
      "text/plain": [
       "              price    metascore         año_v  early_access        Action  \\\n",
       "count  28603.000000  2494.000000  28603.000000  28603.000000  28603.000000   \n",
       "mean       8.771905    72.244988   2014.815474      0.056323      0.352411   \n",
       "std        9.329503    10.789183      3.510252      0.230548      0.477729   \n",
       "min        0.490000    20.000000   1970.000000      0.000000      0.000000   \n",
       "25%        2.990000    66.000000   2014.000000      0.000000      0.000000   \n",
       "50%        4.990000    74.000000   2016.000000      0.000000      0.000000   \n",
       "75%        9.990000    80.000000   2017.000000      0.000000      1.000000   \n",
       "max       89.990000    96.000000   2018.000000      1.000000      1.000000   \n",
       "\n",
       "          Adventure        Casual         Indie        Racing    Simulation  \\\n",
       "count  28603.000000  28603.000000  28603.000000  28603.000000  28603.000000   \n",
       "mean       0.257595      0.267524      0.498025      0.034507      0.218404   \n",
       "std        0.437318      0.442676      0.500005      0.182530      0.413170   \n",
       "min        0.000000      0.000000      0.000000      0.000000      0.000000   \n",
       "25%        0.000000      0.000000      0.000000      0.000000      0.000000   \n",
       "50%        0.000000      0.000000      0.000000      0.000000      0.000000   \n",
       "75%        1.000000      1.000000      1.000000      0.000000      0.000000   \n",
       "max        1.000000      1.000000      1.000000      1.000000      1.000000   \n",
       "\n",
       "             Sports      Strategy  Massively Multiplayer           RPG  \n",
       "count  28603.000000  28603.000000           28603.000000  28603.000000  \n",
       "mean       0.039681      0.221061               0.025172      0.165752  \n",
       "std        0.195212      0.414969               0.156651      0.371864  \n",
       "min        0.000000      0.000000               0.000000      0.000000  \n",
       "25%        0.000000      0.000000               0.000000      0.000000  \n",
       "50%        0.000000      0.000000               0.000000      0.000000  \n",
       "75%        0.000000      0.000000               0.000000      0.000000  \n",
       "max        1.000000      1.000000               1.000000      1.000000  "
      ]
     },
     "execution_count": 18,
     "metadata": {},
     "output_type": "execute_result"
    }
   ],
   "source": [
    "df_mod.describe()"
   ]
  },
  {
   "cell_type": "markdown",
   "metadata": {},
   "source": [
    "## Momento de entrenar el modelo"
   ]
  },
  {
   "cell_type": "code",
   "execution_count": 19,
   "metadata": {},
   "outputs": [],
   "source": [
    "from sklearn.preprocessing import PolynomialFeatures, StandardScaler, MinMaxScaler\n",
    "from sklearn.model_selection import train_test_split, GridSearchCV, cross_val_score, cross_validate\n",
    "from sklearn.linear_model import LinearRegression,  Ridge, Lasso\n",
    "from sklearn.metrics import mean_squared_error, r2_score\n",
    "from sklearn.impute import SimpleImputer \n",
    "from sklearn.ensemble import GradientBoostingRegressor,RandomForestRegressor\n",
    "from sklearn.svm import SVR"
   ]
  },
  {
   "cell_type": "code",
   "execution_count": 20,
   "metadata": {},
   "outputs": [],
   "source": [
    "features_to_normalize = [\"metascore\", \"año_v\"]\n",
    "scaler = StandardScaler()\n",
    "df_mod[features_to_normalize] = scaler.fit_transform(df_mod[features_to_normalize])"
   ]
  },
  {
   "cell_type": "code",
   "execution_count": 21,
   "metadata": {},
   "outputs": [],
   "source": [
    "df_destransformed = df_mod.copy()\n",
    "features_to_destransform = [\"metascore\", \"año_v\"]"
   ]
  },
  {
   "cell_type": "code",
   "execution_count": 22,
   "metadata": {},
   "outputs": [],
   "source": [
    "df_destransformed[features_to_destransform] = scaler.inverse_transform(df_destransformed[features_to_destransform])"
   ]
  },
  {
   "cell_type": "code",
   "execution_count": 23,
   "metadata": {},
   "outputs": [
    {
     "data": {
      "text/plain": [
       "0.49"
      ]
     },
     "execution_count": 23,
     "metadata": {},
     "output_type": "execute_result"
    }
   ],
   "source": [
    "df_mod[\"price\"].min()"
   ]
  },
  {
   "cell_type": "code",
   "execution_count": 24,
   "metadata": {},
   "outputs": [
    {
     "data": {
      "text/plain": [
       "89.99"
      ]
     },
     "execution_count": 24,
     "metadata": {},
     "output_type": "execute_result"
    }
   ],
   "source": [
    "df_mod[\"price\"].max()"
   ]
  },
  {
   "cell_type": "markdown",
   "metadata": {},
   "source": [
    "## Funcion que nos permite ver el modelo y poder saber el valor de RMSE que maneja"
   ]
  },
  {
   "cell_type": "code",
   "execution_count": 25,
   "metadata": {},
   "outputs": [],
   "source": [
    "def RMSE_AND_R2(modelo, X_test, y_test) : \n",
    "    y_pred = modelo.predict(X_test)\n",
    "    mse = mean_squared_error(y_test, y_pred)\n",
    "    rmse = np.sqrt(mse)\n",
    "    r2 = r2_score(y_test, y_pred)\n",
    "    return {F\"El RMSE de tu {modelo} es {rmse}, y el r2 {r2}\"}"
   ]
  },
  {
   "cell_type": "code",
   "execution_count": 26,
   "metadata": {},
   "outputs": [],
   "source": [
    "df_mod.rename(columns={\"Massively Multiplayer\" : \"Massively_Multiplayer\", \"RPG\": \"Rol\"}, inplace=True)"
   ]
  },
  {
   "cell_type": "markdown",
   "metadata": {},
   "source": [
    "### Separe los diferentes df dependiendo de si haciamos un dropna o un drop a la columna metascore"
   ]
  },
  {
   "cell_type": "code",
   "execution_count": 27,
   "metadata": {},
   "outputs": [],
   "source": [
    "df_mod_sinmetascore = df_mod.drop(columns=\"metascore\")\n",
    "df_mod_predecirmetascore_dropna = df_mod.dropna(subset=\"metascore\")## dropna metascore"
   ]
  },
  {
   "cell_type": "code",
   "execution_count": 28,
   "metadata": {},
   "outputs": [],
   "source": [
    "X_predecirmetascore = df_mod_predecirmetascore_dropna.drop(columns=\"price\")\n",
    "y_predecirmetascore = df_mod_predecirmetascore_dropna[\"price\"]"
   ]
  },
  {
   "cell_type": "code",
   "execution_count": 29,
   "metadata": {},
   "outputs": [],
   "source": [
    "X_sinmetascore = df_mod_sinmetascore.drop(columns=\"price\")\n",
    "y_sinmetascore  = df_mod_sinmetascore[\"price\"]"
   ]
  },
  {
   "cell_type": "markdown",
   "metadata": {},
   "source": [
    "## Lo que hacemos es usar el metascore sin dropna para poder inputarlo con la media, la mediana o la moda, yo use la moda para probar porque habia una cantidad de dato Nulo en metascore que habia que probar que pasaba"
   ]
  },
  {
   "cell_type": "code",
   "execution_count": 30,
   "metadata": {},
   "outputs": [],
   "source": [
    "X = df_mod.drop(columns=\"price\")\n",
    "y = df_mod[\"price\"]\n",
    "y_values = y.values.flatten()"
   ]
  },
  {
   "cell_type": "code",
   "execution_count": 31,
   "metadata": {},
   "outputs": [
    {
     "data": {
      "text/plain": [
       "0.16269665947864997"
      ]
     },
     "execution_count": 31,
     "metadata": {},
     "output_type": "execute_result"
    }
   ],
   "source": [
    "df_mod[\"metascore\"].median()"
   ]
  },
  {
   "cell_type": "code",
   "execution_count": 32,
   "metadata": {},
   "outputs": [
    {
     "data": {
      "text/html": [
       "<div>\n",
       "<style scoped>\n",
       "    .dataframe tbody tr th:only-of-type {\n",
       "        vertical-align: middle;\n",
       "    }\n",
       "\n",
       "    .dataframe tbody tr th {\n",
       "        vertical-align: top;\n",
       "    }\n",
       "\n",
       "    .dataframe thead th {\n",
       "        text-align: right;\n",
       "    }\n",
       "</style>\n",
       "<table border=\"1\" class=\"dataframe\">\n",
       "  <thead>\n",
       "    <tr style=\"text-align: right;\">\n",
       "      <th></th>\n",
       "      <th>price</th>\n",
       "      <th>metascore</th>\n",
       "      <th>año_v</th>\n",
       "      <th>early_access</th>\n",
       "      <th>Action</th>\n",
       "      <th>Adventure</th>\n",
       "      <th>Casual</th>\n",
       "      <th>Indie</th>\n",
       "      <th>Racing</th>\n",
       "      <th>Simulation</th>\n",
       "      <th>Sports</th>\n",
       "      <th>Strategy</th>\n",
       "      <th>Massively_Multiplayer</th>\n",
       "      <th>Rol</th>\n",
       "    </tr>\n",
       "  </thead>\n",
       "  <tbody>\n",
       "    <tr>\n",
       "      <th>0</th>\n",
       "      <td>4.99</td>\n",
       "      <td>NaN</td>\n",
       "      <td>0.907223</td>\n",
       "      <td>0</td>\n",
       "      <td>1</td>\n",
       "      <td>0</td>\n",
       "      <td>1</td>\n",
       "      <td>1</td>\n",
       "      <td>0</td>\n",
       "      <td>1</td>\n",
       "      <td>0</td>\n",
       "      <td>1</td>\n",
       "      <td>0</td>\n",
       "      <td>0</td>\n",
       "    </tr>\n",
       "    <tr>\n",
       "      <th>1</th>\n",
       "      <td>0.99</td>\n",
       "      <td>NaN</td>\n",
       "      <td>0.622338</td>\n",
       "      <td>0</td>\n",
       "      <td>1</td>\n",
       "      <td>1</td>\n",
       "      <td>1</td>\n",
       "      <td>0</td>\n",
       "      <td>0</td>\n",
       "      <td>0</td>\n",
       "      <td>0</td>\n",
       "      <td>0</td>\n",
       "      <td>0</td>\n",
       "      <td>0</td>\n",
       "    </tr>\n",
       "    <tr>\n",
       "      <th>2</th>\n",
       "      <td>2.99</td>\n",
       "      <td>NaN</td>\n",
       "      <td>0.907223</td>\n",
       "      <td>0</td>\n",
       "      <td>0</td>\n",
       "      <td>0</td>\n",
       "      <td>0</td>\n",
       "      <td>0</td>\n",
       "      <td>0</td>\n",
       "      <td>0</td>\n",
       "      <td>0</td>\n",
       "      <td>0</td>\n",
       "      <td>0</td>\n",
       "      <td>0</td>\n",
       "    </tr>\n",
       "    <tr>\n",
       "      <th>3</th>\n",
       "      <td>3.99</td>\n",
       "      <td>NaN</td>\n",
       "      <td>0.907223</td>\n",
       "      <td>0</td>\n",
       "      <td>1</td>\n",
       "      <td>1</td>\n",
       "      <td>0</td>\n",
       "      <td>0</td>\n",
       "      <td>0</td>\n",
       "      <td>1</td>\n",
       "      <td>0</td>\n",
       "      <td>0</td>\n",
       "      <td>0</td>\n",
       "      <td>0</td>\n",
       "    </tr>\n",
       "    <tr>\n",
       "      <th>4</th>\n",
       "      <td>9.99</td>\n",
       "      <td>NaN</td>\n",
       "      <td>0.907223</td>\n",
       "      <td>0</td>\n",
       "      <td>0</td>\n",
       "      <td>0</td>\n",
       "      <td>0</td>\n",
       "      <td>1</td>\n",
       "      <td>0</td>\n",
       "      <td>1</td>\n",
       "      <td>1</td>\n",
       "      <td>0</td>\n",
       "      <td>0</td>\n",
       "      <td>0</td>\n",
       "    </tr>\n",
       "    <tr>\n",
       "      <th>...</th>\n",
       "      <td>...</td>\n",
       "      <td>...</td>\n",
       "      <td>...</td>\n",
       "      <td>...</td>\n",
       "      <td>...</td>\n",
       "      <td>...</td>\n",
       "      <td>...</td>\n",
       "      <td>...</td>\n",
       "      <td>...</td>\n",
       "      <td>...</td>\n",
       "      <td>...</td>\n",
       "      <td>...</td>\n",
       "      <td>...</td>\n",
       "      <td>...</td>\n",
       "    </tr>\n",
       "    <tr>\n",
       "      <th>28651</th>\n",
       "      <td>1.99</td>\n",
       "      <td>NaN</td>\n",
       "      <td>0.907223</td>\n",
       "      <td>0</td>\n",
       "      <td>0</td>\n",
       "      <td>0</td>\n",
       "      <td>1</td>\n",
       "      <td>1</td>\n",
       "      <td>0</td>\n",
       "      <td>1</td>\n",
       "      <td>0</td>\n",
       "      <td>1</td>\n",
       "      <td>0</td>\n",
       "      <td>0</td>\n",
       "    </tr>\n",
       "    <tr>\n",
       "      <th>28652</th>\n",
       "      <td>4.99</td>\n",
       "      <td>NaN</td>\n",
       "      <td>0.907223</td>\n",
       "      <td>0</td>\n",
       "      <td>0</td>\n",
       "      <td>0</td>\n",
       "      <td>1</td>\n",
       "      <td>1</td>\n",
       "      <td>0</td>\n",
       "      <td>0</td>\n",
       "      <td>0</td>\n",
       "      <td>1</td>\n",
       "      <td>0</td>\n",
       "      <td>0</td>\n",
       "    </tr>\n",
       "    <tr>\n",
       "      <th>28653</th>\n",
       "      <td>1.99</td>\n",
       "      <td>NaN</td>\n",
       "      <td>0.907223</td>\n",
       "      <td>0</td>\n",
       "      <td>0</td>\n",
       "      <td>0</td>\n",
       "      <td>0</td>\n",
       "      <td>1</td>\n",
       "      <td>1</td>\n",
       "      <td>1</td>\n",
       "      <td>0</td>\n",
       "      <td>0</td>\n",
       "      <td>0</td>\n",
       "      <td>0</td>\n",
       "    </tr>\n",
       "    <tr>\n",
       "      <th>28654</th>\n",
       "      <td>4.99</td>\n",
       "      <td>NaN</td>\n",
       "      <td>0.622338</td>\n",
       "      <td>0</td>\n",
       "      <td>0</td>\n",
       "      <td>0</td>\n",
       "      <td>1</td>\n",
       "      <td>1</td>\n",
       "      <td>0</td>\n",
       "      <td>0</td>\n",
       "      <td>0</td>\n",
       "      <td>0</td>\n",
       "      <td>0</td>\n",
       "      <td>0</td>\n",
       "    </tr>\n",
       "    <tr>\n",
       "      <th>28655</th>\n",
       "      <td>4.99</td>\n",
       "      <td>NaN</td>\n",
       "      <td>0.622338</td>\n",
       "      <td>1</td>\n",
       "      <td>0</td>\n",
       "      <td>0</td>\n",
       "      <td>0</td>\n",
       "      <td>0</td>\n",
       "      <td>0</td>\n",
       "      <td>0</td>\n",
       "      <td>0</td>\n",
       "      <td>0</td>\n",
       "      <td>0</td>\n",
       "      <td>0</td>\n",
       "    </tr>\n",
       "  </tbody>\n",
       "</table>\n",
       "<p>28603 rows × 14 columns</p>\n",
       "</div>"
      ],
      "text/plain": [
       "       price  metascore     año_v  early_access  Action  Adventure  Casual  \\\n",
       "0       4.99        NaN  0.907223             0       1          0       1   \n",
       "1       0.99        NaN  0.622338             0       1          1       1   \n",
       "2       2.99        NaN  0.907223             0       0          0       0   \n",
       "3       3.99        NaN  0.907223             0       1          1       0   \n",
       "4       9.99        NaN  0.907223             0       0          0       0   \n",
       "...      ...        ...       ...           ...     ...        ...     ...   \n",
       "28651   1.99        NaN  0.907223             0       0          0       1   \n",
       "28652   4.99        NaN  0.907223             0       0          0       1   \n",
       "28653   1.99        NaN  0.907223             0       0          0       0   \n",
       "28654   4.99        NaN  0.622338             0       0          0       1   \n",
       "28655   4.99        NaN  0.622338             1       0          0       0   \n",
       "\n",
       "       Indie  Racing  Simulation  Sports  Strategy  Massively_Multiplayer  Rol  \n",
       "0          1       0           1       0         1                      0    0  \n",
       "1          0       0           0       0         0                      0    0  \n",
       "2          0       0           0       0         0                      0    0  \n",
       "3          0       0           1       0         0                      0    0  \n",
       "4          1       0           1       1         0                      0    0  \n",
       "...      ...     ...         ...     ...       ...                    ...  ...  \n",
       "28651      1       0           1       0         1                      0    0  \n",
       "28652      1       0           0       0         1                      0    0  \n",
       "28653      1       1           1       0         0                      0    0  \n",
       "28654      1       0           0       0         0                      0    0  \n",
       "28655      0       0           0       0         0                      0    0  \n",
       "\n",
       "[28603 rows x 14 columns]"
      ]
     },
     "execution_count": 32,
     "metadata": {},
     "output_type": "execute_result"
    }
   ],
   "source": [
    "df_mod"
   ]
  },
  {
   "cell_type": "markdown",
   "metadata": {},
   "source": [
    "## Hacemos imputaciones en los valores nan"
   ]
  },
  {
   "cell_type": "code",
   "execution_count": 33,
   "metadata": {},
   "outputs": [
    {
     "name": "stderr",
     "output_type": "stream",
     "text": [
      "c:\\Users\\Agus_\\anaconda3\\lib\\site-packages\\sklearn\\impute\\_base.py:49: FutureWarning: Unlike other reduction functions (e.g. `skew`, `kurtosis`), the default behavior of `mode` typically preserves the axis it acts along. In SciPy 1.11.0, this behavior will change: the default value of `keepdims` will become False, the `axis` over which the statistic is taken will be eliminated, and the value None will no longer be accepted. Set `keepdims` to True or False to avoid this warning.\n",
      "  mode = stats.mode(array)\n"
     ]
    },
    {
     "data": {
      "text/plain": [
       "array([[0.71892074, 0.90722316, 0.        , ..., 1.        , 0.        ,\n",
       "        0.        ],\n",
       "       [0.71892074, 0.62233833, 0.        , ..., 0.        , 0.        ,\n",
       "        0.        ],\n",
       "       [0.71892074, 0.90722316, 0.        , ..., 0.        , 0.        ,\n",
       "        0.        ],\n",
       "       ...,\n",
       "       [0.71892074, 0.90722316, 0.        , ..., 0.        , 0.        ,\n",
       "        0.        ],\n",
       "       [0.71892074, 0.62233833, 0.        , ..., 0.        , 0.        ,\n",
       "        0.        ],\n",
       "       [0.71892074, 0.62233833, 1.        , ..., 0.        , 0.        ,\n",
       "        0.        ]])"
      ]
     },
     "execution_count": 33,
     "metadata": {},
     "output_type": "execute_result"
    }
   ],
   "source": [
    "imp_mean = SimpleImputer(missing_values=np.nan, strategy='most_frequent')\n",
    "imp_mean.fit(X)\n",
    "X_Transform = imp_mean.transform(X)\n",
    "\n",
    "X_Transform"
   ]
  },
  {
   "cell_type": "markdown",
   "metadata": {},
   "source": [
    "## Con Metascore pero los NA dropeados"
   ]
  },
  {
   "cell_type": "code",
   "execution_count": 34,
   "metadata": {},
   "outputs": [
    {
     "data": {
      "text/plain": [
       "{'El RMSE de tu LinearRegression() es 8.271483186539358, y el r2 0.30201106467763716'}"
      ]
     },
     "execution_count": 34,
     "metadata": {},
     "output_type": "execute_result"
    }
   ],
   "source": [
    "X_train, X_test, y_train, y_test= train_test_split(X_predecirmetascore, y_predecirmetascore, test_size=0.33, random_state = 42)\n",
    "model1dropna = LinearRegression()\n",
    "model1dropna.fit(X_train, y_train)\n",
    "RMSE_AND_R2(model1dropna, X_test, y_test)"
   ]
  },
  {
   "cell_type": "markdown",
   "metadata": {},
   "source": [
    "### Cross valid hacer crossvalid"
   ]
  },
  {
   "cell_type": "code",
   "execution_count": 35,
   "metadata": {},
   "outputs": [
    {
     "data": {
      "text/plain": [
       "array([0.06655351, 0.24162054, 0.30856624, 0.07269017])"
      ]
     },
     "execution_count": 35,
     "metadata": {},
     "output_type": "execute_result"
    }
   ],
   "source": [
    "# Crear una tubería con StandardScaler y LinearRegression\n",
    "model = LinearRegression()\n",
    "linearmodel = cross_val_score(model, X_predecirmetascore, y_predecirmetascore, cv=4 )\n",
    "linearmodel"
   ]
  },
  {
   "cell_type": "code",
   "execution_count": 36,
   "metadata": {},
   "outputs": [
    {
     "data": {
      "text/plain": [
       "{'fit_time': array([0.00500011, 0.00199938, 0.00199986, 0.00199962, 0.00400043]),\n",
       " 'score_time': array([0.00299954, 0.00200081, 0.00199986, 0.00200033, 0.00199986]),\n",
       " 'test_neg_root_mean_squared_error': array([ -6.49614505,  -9.95662571, -11.65993999,  -7.92702839,\n",
       "         -6.64226731]),\n",
       " 'test_r2': array([ 0.0208635 ,  0.2931085 ,  0.28394552,  0.28499538, -0.02032175])}"
      ]
     },
     "execution_count": 36,
     "metadata": {},
     "output_type": "execute_result"
    }
   ],
   "source": [
    "linearmodel = cross_validate(model, X_predecirmetascore, y_predecirmetascore, cv=5, scoring =[\"neg_root_mean_squared_error\", \"r2\"])\n",
    "linearmodel"
   ]
  },
  {
   "cell_type": "code",
   "execution_count": 37,
   "metadata": {},
   "outputs": [],
   "source": [
    "linearmodel = cross_validate(model, X_sinmetascore, y_sinmetascore, cv=5, scoring =[\"neg_root_mean_squared_error\", \"r2\"])"
   ]
  },
  {
   "cell_type": "markdown",
   "metadata": {},
   "source": [
    "## Grid Search"
   ]
  },
  {
   "cell_type": "code",
   "execution_count": 38,
   "metadata": {},
   "outputs": [
    {
     "data": {
      "text/plain": [
       "GridSearchCV(cv=5, estimator=Lasso(), param_grid={'alpha': [0.1, 1.0, 10.0]},\n",
       "             scoring='neg_mean_squared_error')"
      ]
     },
     "execution_count": 38,
     "metadata": {},
     "output_type": "execute_result"
    }
   ],
   "source": [
    "param_grid = {\n",
    "    'alpha': [0.1, 1.0, 10.0]\n",
    "}\n",
    "\n",
    "ridge = Ridge()\n",
    "lasso = Lasso()\n",
    "\n",
    "grid_search_ridge = GridSearchCV(ridge, param_grid, cv=5, scoring='neg_mean_squared_error')\n",
    "grid_search_lasso = GridSearchCV(lasso, param_grid, cv=5, scoring='neg_mean_squared_error')\n",
    "\n",
    "grid_search_ridge.fit(X_train, y_train)\n",
    "grid_search_lasso.fit(X_train, y_train)"
   ]
  },
  {
   "cell_type": "code",
   "execution_count": 39,
   "metadata": {},
   "outputs": [
    {
     "data": {
      "text/plain": [
       "{'El RMSE de tu Lasso(alpha=0.1) es 8.296470085460237, y el r2 0.29778765727760725'}"
      ]
     },
     "execution_count": 39,
     "metadata": {},
     "output_type": "execute_result"
    }
   ],
   "source": [
    "best_lasso = grid_search_lasso.best_estimator_\n",
    "RMSE_AND_R2(best_lasso, X_test, y_test)"
   ]
  },
  {
   "cell_type": "code",
   "execution_count": 44,
   "metadata": {},
   "outputs": [
    {
     "data": {
      "text/plain": [
       "{'El RMSE de tu Ridge(alpha=10.0) es 8.262598155665035, y el r2 0.30350978558805863'}"
      ]
     },
     "execution_count": 44,
     "metadata": {},
     "output_type": "execute_result"
    }
   ],
   "source": [
    "best_ridge = grid_search_ridge.best_estimator_\n",
    "RMSE_AND_R2(best_ridge, X_test, y_test)"
   ]
  },
  {
   "cell_type": "markdown",
   "metadata": {},
   "source": [
    "### Grid Search para encontrar el mejor modelo"
   ]
  },
  {
   "cell_type": "code",
   "execution_count": 110,
   "metadata": {},
   "outputs": [
    {
     "data": {
      "text/html": [
       "<style>#sk-container-id-12 {color: black;}#sk-container-id-12 pre{padding: 0;}#sk-container-id-12 div.sk-toggleable {background-color: white;}#sk-container-id-12 label.sk-toggleable__label {cursor: pointer;display: block;width: 100%;margin-bottom: 0;padding: 0.3em;box-sizing: border-box;text-align: center;}#sk-container-id-12 label.sk-toggleable__label-arrow:before {content: \"▸\";float: left;margin-right: 0.25em;color: #696969;}#sk-container-id-12 label.sk-toggleable__label-arrow:hover:before {color: black;}#sk-container-id-12 div.sk-estimator:hover label.sk-toggleable__label-arrow:before {color: black;}#sk-container-id-12 div.sk-toggleable__content {max-height: 0;max-width: 0;overflow: hidden;text-align: left;background-color: #f0f8ff;}#sk-container-id-12 div.sk-toggleable__content pre {margin: 0.2em;color: black;border-radius: 0.25em;background-color: #f0f8ff;}#sk-container-id-12 input.sk-toggleable__control:checked~div.sk-toggleable__content {max-height: 200px;max-width: 100%;overflow: auto;}#sk-container-id-12 input.sk-toggleable__control:checked~label.sk-toggleable__label-arrow:before {content: \"▾\";}#sk-container-id-12 div.sk-estimator input.sk-toggleable__control:checked~label.sk-toggleable__label {background-color: #d4ebff;}#sk-container-id-12 div.sk-label input.sk-toggleable__control:checked~label.sk-toggleable__label {background-color: #d4ebff;}#sk-container-id-12 input.sk-hidden--visually {border: 0;clip: rect(1px 1px 1px 1px);clip: rect(1px, 1px, 1px, 1px);height: 1px;margin: -1px;overflow: hidden;padding: 0;position: absolute;width: 1px;}#sk-container-id-12 div.sk-estimator {font-family: monospace;background-color: #f0f8ff;border: 1px dotted black;border-radius: 0.25em;box-sizing: border-box;margin-bottom: 0.5em;}#sk-container-id-12 div.sk-estimator:hover {background-color: #d4ebff;}#sk-container-id-12 div.sk-parallel-item::after {content: \"\";width: 100%;border-bottom: 1px solid gray;flex-grow: 1;}#sk-container-id-12 div.sk-label:hover label.sk-toggleable__label {background-color: #d4ebff;}#sk-container-id-12 div.sk-serial::before {content: \"\";position: absolute;border-left: 1px solid gray;box-sizing: border-box;top: 0;bottom: 0;left: 50%;z-index: 0;}#sk-container-id-12 div.sk-serial {display: flex;flex-direction: column;align-items: center;background-color: white;padding-right: 0.2em;padding-left: 0.2em;position: relative;}#sk-container-id-12 div.sk-item {position: relative;z-index: 1;}#sk-container-id-12 div.sk-parallel {display: flex;align-items: stretch;justify-content: center;background-color: white;position: relative;}#sk-container-id-12 div.sk-item::before, #sk-container-id-12 div.sk-parallel-item::before {content: \"\";position: absolute;border-left: 1px solid gray;box-sizing: border-box;top: 0;bottom: 0;left: 50%;z-index: -1;}#sk-container-id-12 div.sk-parallel-item {display: flex;flex-direction: column;z-index: 1;position: relative;background-color: white;}#sk-container-id-12 div.sk-parallel-item:first-child::after {align-self: flex-end;width: 50%;}#sk-container-id-12 div.sk-parallel-item:last-child::after {align-self: flex-start;width: 50%;}#sk-container-id-12 div.sk-parallel-item:only-child::after {width: 0;}#sk-container-id-12 div.sk-dashed-wrapped {border: 1px dashed gray;margin: 0 0.4em 0.5em 0.4em;box-sizing: border-box;padding-bottom: 0.4em;background-color: white;}#sk-container-id-12 div.sk-label label {font-family: monospace;font-weight: bold;display: inline-block;line-height: 1.2em;}#sk-container-id-12 div.sk-label-container {text-align: center;}#sk-container-id-12 div.sk-container {/* jupyter's `normalize.less` sets `[hidden] { display: none; }` but bootstrap.min.css set `[hidden] { display: none !important; }` so we also need the `!important` here to be able to override the default hidden behavior on the sphinx rendered scikit-learn.org. See: https://github.com/scikit-learn/scikit-learn/issues/21755 */display: inline-block !important;position: relative;}#sk-container-id-12 div.sk-text-repr-fallback {display: none;}</style><div id=\"sk-container-id-12\" class=\"sk-top-container\"><div class=\"sk-text-repr-fallback\"><pre>GridSearchCV(cv=5, estimator=Lasso(), param_grid={&#x27;alpha&#x27;: [0.1, 1.0, 10.0]},\n",
       "             scoring=&#x27;neg_mean_squared_error&#x27;)</pre><b>In a Jupyter environment, please rerun this cell to show the HTML representation or trust the notebook. <br />On GitHub, the HTML representation is unable to render, please try loading this page with nbviewer.org.</b></div><div class=\"sk-container\" hidden><div class=\"sk-item sk-dashed-wrapped\"><div class=\"sk-label-container\"><div class=\"sk-label sk-toggleable\"><input class=\"sk-toggleable__control sk-hidden--visually\" id=\"sk-estimator-id-24\" type=\"checkbox\" ><label for=\"sk-estimator-id-24\" class=\"sk-toggleable__label sk-toggleable__label-arrow\">GridSearchCV</label><div class=\"sk-toggleable__content\"><pre>GridSearchCV(cv=5, estimator=Lasso(), param_grid={&#x27;alpha&#x27;: [0.1, 1.0, 10.0]},\n",
       "             scoring=&#x27;neg_mean_squared_error&#x27;)</pre></div></div></div><div class=\"sk-parallel\"><div class=\"sk-parallel-item\"><div class=\"sk-item\"><div class=\"sk-label-container\"><div class=\"sk-label sk-toggleable\"><input class=\"sk-toggleable__control sk-hidden--visually\" id=\"sk-estimator-id-25\" type=\"checkbox\" ><label for=\"sk-estimator-id-25\" class=\"sk-toggleable__label sk-toggleable__label-arrow\">estimator: Lasso</label><div class=\"sk-toggleable__content\"><pre>Lasso()</pre></div></div></div><div class=\"sk-serial\"><div class=\"sk-item\"><div class=\"sk-estimator sk-toggleable\"><input class=\"sk-toggleable__control sk-hidden--visually\" id=\"sk-estimator-id-26\" type=\"checkbox\" ><label for=\"sk-estimator-id-26\" class=\"sk-toggleable__label sk-toggleable__label-arrow\">Lasso</label><div class=\"sk-toggleable__content\"><pre>Lasso()</pre></div></div></div></div></div></div></div></div></div></div>"
      ],
      "text/plain": [
       "GridSearchCV(cv=5, estimator=Lasso(), param_grid={'alpha': [0.1, 1.0, 10.0]},\n",
       "             scoring='neg_mean_squared_error')"
      ]
     },
     "execution_count": 110,
     "metadata": {},
     "output_type": "execute_result"
    }
   ],
   "source": [
    "\n",
    "\n",
    "param_grid = {\n",
    "    'alpha': [0.1, 1.0, 10.0]\n",
    "}\n",
    "\n",
    "ridge = Ridge()\n",
    "lasso = Lasso()\n",
    "\n",
    "grid_search_ridge = GridSearchCV(ridge, param_grid, cv=5, scoring='neg_mean_squared_error')\n",
    "grid_search_lasso = GridSearchCV(lasso, param_grid, cv=5, scoring='neg_mean_squared_error')\n",
    "\n",
    "grid_search_ridge.fit(X_train, y_train)\n",
    "grid_search_lasso.fit(X_train, y_train)"
   ]
  },
  {
   "cell_type": "code",
   "execution_count": 46,
   "metadata": {},
   "outputs": [
    {
     "data": {
      "text/plain": [
       "{'El RMSE de tu Lasso(alpha=0.1) es 8.296470085460237, y el r2 0.29778765727760725'}"
      ]
     },
     "execution_count": 46,
     "metadata": {},
     "output_type": "execute_result"
    }
   ],
   "source": [
    "best_lasso = grid_search_lasso.best_estimator_\n",
    "RMSE_AND_R2(best_lasso, X_test, y_test)"
   ]
  },
  {
   "cell_type": "code",
   "execution_count": 47,
   "metadata": {},
   "outputs": [
    {
     "data": {
      "text/plain": [
       "{'El RMSE de tu Ridge(alpha=10.0) es 8.262598155665035, y el r2 0.30350978558805863'}"
      ]
     },
     "execution_count": 47,
     "metadata": {},
     "output_type": "execute_result"
    }
   ],
   "source": [
    "best_ridge = grid_search_ridge.best_estimator_\n",
    "RMSE_AND_R2(best_ridge, X_test, y_test)"
   ]
  },
  {
   "cell_type": "markdown",
   "metadata": {},
   "source": [
    "### Polinomico Regresion"
   ]
  },
  {
   "cell_type": "code",
   "execution_count": 48,
   "metadata": {},
   "outputs": [],
   "source": [
    "df_destransformed.dropna(subset=\"metascore\", inplace=True)\n",
    "X_polinomionoescalado = df_destransformed.drop(columns=\"price\")\n",
    "y_polinomionoescalado = df_destransformed[\"price\"]"
   ]
  },
  {
   "cell_type": "code",
   "execution_count": 49,
   "metadata": {},
   "outputs": [],
   "source": [
    "X_train, X_test, y_train, y_test= train_test_split(X_polinomionoescalado, y_polinomionoescalado, test_size=0.33, random_state = 42)"
   ]
  },
  {
   "cell_type": "code",
   "execution_count": 50,
   "metadata": {},
   "outputs": [],
   "source": [
    "degree = 3\n",
    "poly = PolynomialFeatures(degree)\n",
    "X_train_poly = poly.fit_transform(X_train)\n",
    "X_test_poly = poly.transform(X_test)"
   ]
  },
  {
   "cell_type": "code",
   "execution_count": 51,
   "metadata": {},
   "outputs": [
    {
     "data": {
      "text/plain": [
       "{'El RMSE de tu LinearRegression() es 1670.9073365580293, y el r2 -28482.049681212153'}"
      ]
     },
     "execution_count": 51,
     "metadata": {},
     "output_type": "execute_result"
    }
   ],
   "source": [
    "modelploy_dropna_metascore = LinearRegression()\n",
    "modelploy_dropna_metascore.fit(X_train_poly, y_train)\n",
    "RMSE_AND_R2(modelploy_dropna_metascore, X_test_poly, y_test) ## ESTE NO FUNCIONA PORQUE ESTA ESCALADO A OTRO NIVEL MIS DATOS "
   ]
  },
  {
   "cell_type": "markdown",
   "metadata": {},
   "source": [
    "# SIN METASCORE "
   ]
  },
  {
   "cell_type": "code",
   "execution_count": 52,
   "metadata": {},
   "outputs": [],
   "source": [
    "X_train, X_test, y_train, y_test= train_test_split(X_sinmetascore, y_sinmetascore, test_size=0.33, random_state = 42)"
   ]
  },
  {
   "cell_type": "code",
   "execution_count": 53,
   "metadata": {},
   "outputs": [
    {
     "data": {
      "text/html": [
       "<style>#sk-container-id-3 {color: black;}#sk-container-id-3 pre{padding: 0;}#sk-container-id-3 div.sk-toggleable {background-color: white;}#sk-container-id-3 label.sk-toggleable__label {cursor: pointer;display: block;width: 100%;margin-bottom: 0;padding: 0.3em;box-sizing: border-box;text-align: center;}#sk-container-id-3 label.sk-toggleable__label-arrow:before {content: \"▸\";float: left;margin-right: 0.25em;color: #696969;}#sk-container-id-3 label.sk-toggleable__label-arrow:hover:before {color: black;}#sk-container-id-3 div.sk-estimator:hover label.sk-toggleable__label-arrow:before {color: black;}#sk-container-id-3 div.sk-toggleable__content {max-height: 0;max-width: 0;overflow: hidden;text-align: left;background-color: #f0f8ff;}#sk-container-id-3 div.sk-toggleable__content pre {margin: 0.2em;color: black;border-radius: 0.25em;background-color: #f0f8ff;}#sk-container-id-3 input.sk-toggleable__control:checked~div.sk-toggleable__content {max-height: 200px;max-width: 100%;overflow: auto;}#sk-container-id-3 input.sk-toggleable__control:checked~label.sk-toggleable__label-arrow:before {content: \"▾\";}#sk-container-id-3 div.sk-estimator input.sk-toggleable__control:checked~label.sk-toggleable__label {background-color: #d4ebff;}#sk-container-id-3 div.sk-label input.sk-toggleable__control:checked~label.sk-toggleable__label {background-color: #d4ebff;}#sk-container-id-3 input.sk-hidden--visually {border: 0;clip: rect(1px 1px 1px 1px);clip: rect(1px, 1px, 1px, 1px);height: 1px;margin: -1px;overflow: hidden;padding: 0;position: absolute;width: 1px;}#sk-container-id-3 div.sk-estimator {font-family: monospace;background-color: #f0f8ff;border: 1px dotted black;border-radius: 0.25em;box-sizing: border-box;margin-bottom: 0.5em;}#sk-container-id-3 div.sk-estimator:hover {background-color: #d4ebff;}#sk-container-id-3 div.sk-parallel-item::after {content: \"\";width: 100%;border-bottom: 1px solid gray;flex-grow: 1;}#sk-container-id-3 div.sk-label:hover label.sk-toggleable__label {background-color: #d4ebff;}#sk-container-id-3 div.sk-serial::before {content: \"\";position: absolute;border-left: 1px solid gray;box-sizing: border-box;top: 0;bottom: 0;left: 50%;z-index: 0;}#sk-container-id-3 div.sk-serial {display: flex;flex-direction: column;align-items: center;background-color: white;padding-right: 0.2em;padding-left: 0.2em;position: relative;}#sk-container-id-3 div.sk-item {position: relative;z-index: 1;}#sk-container-id-3 div.sk-parallel {display: flex;align-items: stretch;justify-content: center;background-color: white;position: relative;}#sk-container-id-3 div.sk-item::before, #sk-container-id-3 div.sk-parallel-item::before {content: \"\";position: absolute;border-left: 1px solid gray;box-sizing: border-box;top: 0;bottom: 0;left: 50%;z-index: -1;}#sk-container-id-3 div.sk-parallel-item {display: flex;flex-direction: column;z-index: 1;position: relative;background-color: white;}#sk-container-id-3 div.sk-parallel-item:first-child::after {align-self: flex-end;width: 50%;}#sk-container-id-3 div.sk-parallel-item:last-child::after {align-self: flex-start;width: 50%;}#sk-container-id-3 div.sk-parallel-item:only-child::after {width: 0;}#sk-container-id-3 div.sk-dashed-wrapped {border: 1px dashed gray;margin: 0 0.4em 0.5em 0.4em;box-sizing: border-box;padding-bottom: 0.4em;background-color: white;}#sk-container-id-3 div.sk-label label {font-family: monospace;font-weight: bold;display: inline-block;line-height: 1.2em;}#sk-container-id-3 div.sk-label-container {text-align: center;}#sk-container-id-3 div.sk-container {/* jupyter's `normalize.less` sets `[hidden] { display: none; }` but bootstrap.min.css set `[hidden] { display: none !important; }` so we also need the `!important` here to be able to override the default hidden behavior on the sphinx rendered scikit-learn.org. See: https://github.com/scikit-learn/scikit-learn/issues/21755 */display: inline-block !important;position: relative;}#sk-container-id-3 div.sk-text-repr-fallback {display: none;}</style><div id=\"sk-container-id-3\" class=\"sk-top-container\"><div class=\"sk-text-repr-fallback\"><pre>LinearRegression()</pre><b>In a Jupyter environment, please rerun this cell to show the HTML representation or trust the notebook. <br />On GitHub, the HTML representation is unable to render, please try loading this page with nbviewer.org.</b></div><div class=\"sk-container\" hidden><div class=\"sk-item\"><div class=\"sk-estimator sk-toggleable\"><input class=\"sk-toggleable__control sk-hidden--visually\" id=\"sk-estimator-id-7\" type=\"checkbox\" checked><label for=\"sk-estimator-id-7\" class=\"sk-toggleable__label sk-toggleable__label-arrow\">LinearRegression</label><div class=\"sk-toggleable__content\"><pre>LinearRegression()</pre></div></div></div></div></div>"
      ],
      "text/plain": [
       "LinearRegression()"
      ]
     },
     "execution_count": 53,
     "metadata": {},
     "output_type": "execute_result"
    }
   ],
   "source": [
    "model_sin_metascore = LinearRegression()\n",
    "model_sin_metascore.fit(X_train, y_train)"
   ]
  },
  {
   "cell_type": "code",
   "execution_count": 54,
   "metadata": {},
   "outputs": [
    {
     "data": {
      "text/plain": [
       "{'El RMSE de tu LinearRegression() es 8.853454593495252, y el r2 0.10357757567364012'}"
      ]
     },
     "execution_count": 54,
     "metadata": {},
     "output_type": "execute_result"
    }
   ],
   "source": [
    "RMSE_AND_R2(model_sin_metascore, X_test, y_test)"
   ]
  },
  {
   "cell_type": "markdown",
   "metadata": {},
   "source": [
    "### Regresion Polinomica sin metascore"
   ]
  },
  {
   "cell_type": "code",
   "execution_count": 55,
   "metadata": {},
   "outputs": [],
   "source": [
    "modelploy = LinearRegression()"
   ]
  },
  {
   "cell_type": "code",
   "execution_count": 56,
   "metadata": {},
   "outputs": [
    {
     "data": {
      "text/html": [
       "<style>#sk-container-id-4 {color: black;}#sk-container-id-4 pre{padding: 0;}#sk-container-id-4 div.sk-toggleable {background-color: white;}#sk-container-id-4 label.sk-toggleable__label {cursor: pointer;display: block;width: 100%;margin-bottom: 0;padding: 0.3em;box-sizing: border-box;text-align: center;}#sk-container-id-4 label.sk-toggleable__label-arrow:before {content: \"▸\";float: left;margin-right: 0.25em;color: #696969;}#sk-container-id-4 label.sk-toggleable__label-arrow:hover:before {color: black;}#sk-container-id-4 div.sk-estimator:hover label.sk-toggleable__label-arrow:before {color: black;}#sk-container-id-4 div.sk-toggleable__content {max-height: 0;max-width: 0;overflow: hidden;text-align: left;background-color: #f0f8ff;}#sk-container-id-4 div.sk-toggleable__content pre {margin: 0.2em;color: black;border-radius: 0.25em;background-color: #f0f8ff;}#sk-container-id-4 input.sk-toggleable__control:checked~div.sk-toggleable__content {max-height: 200px;max-width: 100%;overflow: auto;}#sk-container-id-4 input.sk-toggleable__control:checked~label.sk-toggleable__label-arrow:before {content: \"▾\";}#sk-container-id-4 div.sk-estimator input.sk-toggleable__control:checked~label.sk-toggleable__label {background-color: #d4ebff;}#sk-container-id-4 div.sk-label input.sk-toggleable__control:checked~label.sk-toggleable__label {background-color: #d4ebff;}#sk-container-id-4 input.sk-hidden--visually {border: 0;clip: rect(1px 1px 1px 1px);clip: rect(1px, 1px, 1px, 1px);height: 1px;margin: -1px;overflow: hidden;padding: 0;position: absolute;width: 1px;}#sk-container-id-4 div.sk-estimator {font-family: monospace;background-color: #f0f8ff;border: 1px dotted black;border-radius: 0.25em;box-sizing: border-box;margin-bottom: 0.5em;}#sk-container-id-4 div.sk-estimator:hover {background-color: #d4ebff;}#sk-container-id-4 div.sk-parallel-item::after {content: \"\";width: 100%;border-bottom: 1px solid gray;flex-grow: 1;}#sk-container-id-4 div.sk-label:hover label.sk-toggleable__label {background-color: #d4ebff;}#sk-container-id-4 div.sk-serial::before {content: \"\";position: absolute;border-left: 1px solid gray;box-sizing: border-box;top: 0;bottom: 0;left: 50%;z-index: 0;}#sk-container-id-4 div.sk-serial {display: flex;flex-direction: column;align-items: center;background-color: white;padding-right: 0.2em;padding-left: 0.2em;position: relative;}#sk-container-id-4 div.sk-item {position: relative;z-index: 1;}#sk-container-id-4 div.sk-parallel {display: flex;align-items: stretch;justify-content: center;background-color: white;position: relative;}#sk-container-id-4 div.sk-item::before, #sk-container-id-4 div.sk-parallel-item::before {content: \"\";position: absolute;border-left: 1px solid gray;box-sizing: border-box;top: 0;bottom: 0;left: 50%;z-index: -1;}#sk-container-id-4 div.sk-parallel-item {display: flex;flex-direction: column;z-index: 1;position: relative;background-color: white;}#sk-container-id-4 div.sk-parallel-item:first-child::after {align-self: flex-end;width: 50%;}#sk-container-id-4 div.sk-parallel-item:last-child::after {align-self: flex-start;width: 50%;}#sk-container-id-4 div.sk-parallel-item:only-child::after {width: 0;}#sk-container-id-4 div.sk-dashed-wrapped {border: 1px dashed gray;margin: 0 0.4em 0.5em 0.4em;box-sizing: border-box;padding-bottom: 0.4em;background-color: white;}#sk-container-id-4 div.sk-label label {font-family: monospace;font-weight: bold;display: inline-block;line-height: 1.2em;}#sk-container-id-4 div.sk-label-container {text-align: center;}#sk-container-id-4 div.sk-container {/* jupyter's `normalize.less` sets `[hidden] { display: none; }` but bootstrap.min.css set `[hidden] { display: none !important; }` so we also need the `!important` here to be able to override the default hidden behavior on the sphinx rendered scikit-learn.org. See: https://github.com/scikit-learn/scikit-learn/issues/21755 */display: inline-block !important;position: relative;}#sk-container-id-4 div.sk-text-repr-fallback {display: none;}</style><div id=\"sk-container-id-4\" class=\"sk-top-container\"><div class=\"sk-text-repr-fallback\"><pre>LinearRegression()</pre><b>In a Jupyter environment, please rerun this cell to show the HTML representation or trust the notebook. <br />On GitHub, the HTML representation is unable to render, please try loading this page with nbviewer.org.</b></div><div class=\"sk-container\" hidden><div class=\"sk-item\"><div class=\"sk-estimator sk-toggleable\"><input class=\"sk-toggleable__control sk-hidden--visually\" id=\"sk-estimator-id-8\" type=\"checkbox\" checked><label for=\"sk-estimator-id-8\" class=\"sk-toggleable__label sk-toggleable__label-arrow\">LinearRegression</label><div class=\"sk-toggleable__content\"><pre>LinearRegression()</pre></div></div></div></div></div>"
      ],
      "text/plain": [
       "LinearRegression()"
      ]
     },
     "execution_count": 56,
     "metadata": {},
     "output_type": "execute_result"
    }
   ],
   "source": [
    "X_train_poly = poly.fit_transform(X_train)\n",
    "X_test_poly = poly.transform(X_test)\n",
    "modelploy.fit(X_train_poly, y_train)"
   ]
  },
  {
   "cell_type": "code",
   "execution_count": 57,
   "metadata": {},
   "outputs": [
    {
     "data": {
      "text/plain": [
       "{'El RMSE de tu LinearRegression() es 4757996.164648815, y el r2 -258901972210.49857'}"
      ]
     },
     "execution_count": 57,
     "metadata": {},
     "output_type": "execute_result"
    }
   ],
   "source": [
    "RMSE_AND_R2(modelploy, X_test_poly, y_test)  ## acá lo mismo que me paso arriba con los polinomios"
   ]
  },
  {
   "cell_type": "markdown",
   "metadata": {},
   "source": [
    "### GridSearch sin metascore"
   ]
  },
  {
   "cell_type": "code",
   "execution_count": 58,
   "metadata": {},
   "outputs": [
    {
     "data": {
      "text/html": [
       "<style>#sk-container-id-5 {color: black;}#sk-container-id-5 pre{padding: 0;}#sk-container-id-5 div.sk-toggleable {background-color: white;}#sk-container-id-5 label.sk-toggleable__label {cursor: pointer;display: block;width: 100%;margin-bottom: 0;padding: 0.3em;box-sizing: border-box;text-align: center;}#sk-container-id-5 label.sk-toggleable__label-arrow:before {content: \"▸\";float: left;margin-right: 0.25em;color: #696969;}#sk-container-id-5 label.sk-toggleable__label-arrow:hover:before {color: black;}#sk-container-id-5 div.sk-estimator:hover label.sk-toggleable__label-arrow:before {color: black;}#sk-container-id-5 div.sk-toggleable__content {max-height: 0;max-width: 0;overflow: hidden;text-align: left;background-color: #f0f8ff;}#sk-container-id-5 div.sk-toggleable__content pre {margin: 0.2em;color: black;border-radius: 0.25em;background-color: #f0f8ff;}#sk-container-id-5 input.sk-toggleable__control:checked~div.sk-toggleable__content {max-height: 200px;max-width: 100%;overflow: auto;}#sk-container-id-5 input.sk-toggleable__control:checked~label.sk-toggleable__label-arrow:before {content: \"▾\";}#sk-container-id-5 div.sk-estimator input.sk-toggleable__control:checked~label.sk-toggleable__label {background-color: #d4ebff;}#sk-container-id-5 div.sk-label input.sk-toggleable__control:checked~label.sk-toggleable__label {background-color: #d4ebff;}#sk-container-id-5 input.sk-hidden--visually {border: 0;clip: rect(1px 1px 1px 1px);clip: rect(1px, 1px, 1px, 1px);height: 1px;margin: -1px;overflow: hidden;padding: 0;position: absolute;width: 1px;}#sk-container-id-5 div.sk-estimator {font-family: monospace;background-color: #f0f8ff;border: 1px dotted black;border-radius: 0.25em;box-sizing: border-box;margin-bottom: 0.5em;}#sk-container-id-5 div.sk-estimator:hover {background-color: #d4ebff;}#sk-container-id-5 div.sk-parallel-item::after {content: \"\";width: 100%;border-bottom: 1px solid gray;flex-grow: 1;}#sk-container-id-5 div.sk-label:hover label.sk-toggleable__label {background-color: #d4ebff;}#sk-container-id-5 div.sk-serial::before {content: \"\";position: absolute;border-left: 1px solid gray;box-sizing: border-box;top: 0;bottom: 0;left: 50%;z-index: 0;}#sk-container-id-5 div.sk-serial {display: flex;flex-direction: column;align-items: center;background-color: white;padding-right: 0.2em;padding-left: 0.2em;position: relative;}#sk-container-id-5 div.sk-item {position: relative;z-index: 1;}#sk-container-id-5 div.sk-parallel {display: flex;align-items: stretch;justify-content: center;background-color: white;position: relative;}#sk-container-id-5 div.sk-item::before, #sk-container-id-5 div.sk-parallel-item::before {content: \"\";position: absolute;border-left: 1px solid gray;box-sizing: border-box;top: 0;bottom: 0;left: 50%;z-index: -1;}#sk-container-id-5 div.sk-parallel-item {display: flex;flex-direction: column;z-index: 1;position: relative;background-color: white;}#sk-container-id-5 div.sk-parallel-item:first-child::after {align-self: flex-end;width: 50%;}#sk-container-id-5 div.sk-parallel-item:last-child::after {align-self: flex-start;width: 50%;}#sk-container-id-5 div.sk-parallel-item:only-child::after {width: 0;}#sk-container-id-5 div.sk-dashed-wrapped {border: 1px dashed gray;margin: 0 0.4em 0.5em 0.4em;box-sizing: border-box;padding-bottom: 0.4em;background-color: white;}#sk-container-id-5 div.sk-label label {font-family: monospace;font-weight: bold;display: inline-block;line-height: 1.2em;}#sk-container-id-5 div.sk-label-container {text-align: center;}#sk-container-id-5 div.sk-container {/* jupyter's `normalize.less` sets `[hidden] { display: none; }` but bootstrap.min.css set `[hidden] { display: none !important; }` so we also need the `!important` here to be able to override the default hidden behavior on the sphinx rendered scikit-learn.org. See: https://github.com/scikit-learn/scikit-learn/issues/21755 */display: inline-block !important;position: relative;}#sk-container-id-5 div.sk-text-repr-fallback {display: none;}</style><div id=\"sk-container-id-5\" class=\"sk-top-container\"><div class=\"sk-text-repr-fallback\"><pre>GridSearchCV(cv=5, estimator=Lasso(), param_grid={&#x27;alpha&#x27;: [0.1, 1.0, 10.0]},\n",
       "             scoring=&#x27;neg_mean_squared_error&#x27;)</pre><b>In a Jupyter environment, please rerun this cell to show the HTML representation or trust the notebook. <br />On GitHub, the HTML representation is unable to render, please try loading this page with nbviewer.org.</b></div><div class=\"sk-container\" hidden><div class=\"sk-item sk-dashed-wrapped\"><div class=\"sk-label-container\"><div class=\"sk-label sk-toggleable\"><input class=\"sk-toggleable__control sk-hidden--visually\" id=\"sk-estimator-id-9\" type=\"checkbox\" ><label for=\"sk-estimator-id-9\" class=\"sk-toggleable__label sk-toggleable__label-arrow\">GridSearchCV</label><div class=\"sk-toggleable__content\"><pre>GridSearchCV(cv=5, estimator=Lasso(), param_grid={&#x27;alpha&#x27;: [0.1, 1.0, 10.0]},\n",
       "             scoring=&#x27;neg_mean_squared_error&#x27;)</pre></div></div></div><div class=\"sk-parallel\"><div class=\"sk-parallel-item\"><div class=\"sk-item\"><div class=\"sk-label-container\"><div class=\"sk-label sk-toggleable\"><input class=\"sk-toggleable__control sk-hidden--visually\" id=\"sk-estimator-id-10\" type=\"checkbox\" ><label for=\"sk-estimator-id-10\" class=\"sk-toggleable__label sk-toggleable__label-arrow\">estimator: Lasso</label><div class=\"sk-toggleable__content\"><pre>Lasso()</pre></div></div></div><div class=\"sk-serial\"><div class=\"sk-item\"><div class=\"sk-estimator sk-toggleable\"><input class=\"sk-toggleable__control sk-hidden--visually\" id=\"sk-estimator-id-11\" type=\"checkbox\" ><label for=\"sk-estimator-id-11\" class=\"sk-toggleable__label sk-toggleable__label-arrow\">Lasso</label><div class=\"sk-toggleable__content\"><pre>Lasso()</pre></div></div></div></div></div></div></div></div></div></div>"
      ],
      "text/plain": [
       "GridSearchCV(cv=5, estimator=Lasso(), param_grid={'alpha': [0.1, 1.0, 10.0]},\n",
       "             scoring='neg_mean_squared_error')"
      ]
     },
     "execution_count": 58,
     "metadata": {},
     "output_type": "execute_result"
    }
   ],
   "source": [
    "\n",
    "param_grid = {\n",
    "    'alpha': [0.1, 1.0, 10.0]\n",
    "}\n",
    "\n",
    "ridge = Ridge()\n",
    "lasso = Lasso()\n",
    "\n",
    "grid_search_ridge = GridSearchCV(ridge, param_grid, cv=5, scoring='neg_mean_squared_error')\n",
    "grid_search_lasso = GridSearchCV(lasso, param_grid, cv=5, scoring='neg_mean_squared_error')\n",
    "\n",
    "grid_search_ridge.fit(X_train, y_train)\n",
    "grid_search_lasso.fit(X_train, y_train)"
   ]
  },
  {
   "cell_type": "code",
   "execution_count": 59,
   "metadata": {},
   "outputs": [
    {
     "data": {
      "text/plain": [
       "{'El RMSE de tu Lasso(alpha=0.1) es 8.881685062019626, y el r2 0.09785172678815557'}"
      ]
     },
     "execution_count": 59,
     "metadata": {},
     "output_type": "execute_result"
    }
   ],
   "source": [
    "## lasso\n",
    "best_lasso = grid_search_lasso.best_estimator_\n",
    "RMSE_AND_R2(best_lasso, X_test, y_test)"
   ]
  },
  {
   "cell_type": "code",
   "execution_count": 60,
   "metadata": {},
   "outputs": [
    {
     "data": {
      "text/plain": [
       "{'El RMSE de tu Ridge() es 8.853290234928041, y el r2 0.10361085835129702'}"
      ]
     },
     "execution_count": 60,
     "metadata": {},
     "output_type": "execute_result"
    }
   ],
   "source": [
    "best_ridge = grid_search_ridge.best_estimator_\n",
    "RMSE_AND_R2(best_ridge, X_test, y_test)"
   ]
  },
  {
   "cell_type": "markdown",
   "metadata": {},
   "source": [
    "# IMPUTANDO CON LA MEDIA EN METASCORE"
   ]
  },
  {
   "cell_type": "code",
   "execution_count": 61,
   "metadata": {},
   "outputs": [],
   "source": [
    "X_train, X_test, y_train, y_test= train_test_split(X_Transform, y, test_size=0.33, random_state = 42)"
   ]
  },
  {
   "cell_type": "code",
   "execution_count": 62,
   "metadata": {},
   "outputs": [
    {
     "data": {
      "text/html": [
       "<style>#sk-container-id-6 {color: black;}#sk-container-id-6 pre{padding: 0;}#sk-container-id-6 div.sk-toggleable {background-color: white;}#sk-container-id-6 label.sk-toggleable__label {cursor: pointer;display: block;width: 100%;margin-bottom: 0;padding: 0.3em;box-sizing: border-box;text-align: center;}#sk-container-id-6 label.sk-toggleable__label-arrow:before {content: \"▸\";float: left;margin-right: 0.25em;color: #696969;}#sk-container-id-6 label.sk-toggleable__label-arrow:hover:before {color: black;}#sk-container-id-6 div.sk-estimator:hover label.sk-toggleable__label-arrow:before {color: black;}#sk-container-id-6 div.sk-toggleable__content {max-height: 0;max-width: 0;overflow: hidden;text-align: left;background-color: #f0f8ff;}#sk-container-id-6 div.sk-toggleable__content pre {margin: 0.2em;color: black;border-radius: 0.25em;background-color: #f0f8ff;}#sk-container-id-6 input.sk-toggleable__control:checked~div.sk-toggleable__content {max-height: 200px;max-width: 100%;overflow: auto;}#sk-container-id-6 input.sk-toggleable__control:checked~label.sk-toggleable__label-arrow:before {content: \"▾\";}#sk-container-id-6 div.sk-estimator input.sk-toggleable__control:checked~label.sk-toggleable__label {background-color: #d4ebff;}#sk-container-id-6 div.sk-label input.sk-toggleable__control:checked~label.sk-toggleable__label {background-color: #d4ebff;}#sk-container-id-6 input.sk-hidden--visually {border: 0;clip: rect(1px 1px 1px 1px);clip: rect(1px, 1px, 1px, 1px);height: 1px;margin: -1px;overflow: hidden;padding: 0;position: absolute;width: 1px;}#sk-container-id-6 div.sk-estimator {font-family: monospace;background-color: #f0f8ff;border: 1px dotted black;border-radius: 0.25em;box-sizing: border-box;margin-bottom: 0.5em;}#sk-container-id-6 div.sk-estimator:hover {background-color: #d4ebff;}#sk-container-id-6 div.sk-parallel-item::after {content: \"\";width: 100%;border-bottom: 1px solid gray;flex-grow: 1;}#sk-container-id-6 div.sk-label:hover label.sk-toggleable__label {background-color: #d4ebff;}#sk-container-id-6 div.sk-serial::before {content: \"\";position: absolute;border-left: 1px solid gray;box-sizing: border-box;top: 0;bottom: 0;left: 50%;z-index: 0;}#sk-container-id-6 div.sk-serial {display: flex;flex-direction: column;align-items: center;background-color: white;padding-right: 0.2em;padding-left: 0.2em;position: relative;}#sk-container-id-6 div.sk-item {position: relative;z-index: 1;}#sk-container-id-6 div.sk-parallel {display: flex;align-items: stretch;justify-content: center;background-color: white;position: relative;}#sk-container-id-6 div.sk-item::before, #sk-container-id-6 div.sk-parallel-item::before {content: \"\";position: absolute;border-left: 1px solid gray;box-sizing: border-box;top: 0;bottom: 0;left: 50%;z-index: -1;}#sk-container-id-6 div.sk-parallel-item {display: flex;flex-direction: column;z-index: 1;position: relative;background-color: white;}#sk-container-id-6 div.sk-parallel-item:first-child::after {align-self: flex-end;width: 50%;}#sk-container-id-6 div.sk-parallel-item:last-child::after {align-self: flex-start;width: 50%;}#sk-container-id-6 div.sk-parallel-item:only-child::after {width: 0;}#sk-container-id-6 div.sk-dashed-wrapped {border: 1px dashed gray;margin: 0 0.4em 0.5em 0.4em;box-sizing: border-box;padding-bottom: 0.4em;background-color: white;}#sk-container-id-6 div.sk-label label {font-family: monospace;font-weight: bold;display: inline-block;line-height: 1.2em;}#sk-container-id-6 div.sk-label-container {text-align: center;}#sk-container-id-6 div.sk-container {/* jupyter's `normalize.less` sets `[hidden] { display: none; }` but bootstrap.min.css set `[hidden] { display: none !important; }` so we also need the `!important` here to be able to override the default hidden behavior on the sphinx rendered scikit-learn.org. See: https://github.com/scikit-learn/scikit-learn/issues/21755 */display: inline-block !important;position: relative;}#sk-container-id-6 div.sk-text-repr-fallback {display: none;}</style><div id=\"sk-container-id-6\" class=\"sk-top-container\"><div class=\"sk-text-repr-fallback\"><pre>LinearRegression()</pre><b>In a Jupyter environment, please rerun this cell to show the HTML representation or trust the notebook. <br />On GitHub, the HTML representation is unable to render, please try loading this page with nbviewer.org.</b></div><div class=\"sk-container\" hidden><div class=\"sk-item\"><div class=\"sk-estimator sk-toggleable\"><input class=\"sk-toggleable__control sk-hidden--visually\" id=\"sk-estimator-id-12\" type=\"checkbox\" checked><label for=\"sk-estimator-id-12\" class=\"sk-toggleable__label sk-toggleable__label-arrow\">LinearRegression</label><div class=\"sk-toggleable__content\"><pre>LinearRegression()</pre></div></div></div></div></div>"
      ],
      "text/plain": [
       "LinearRegression()"
      ]
     },
     "execution_count": 62,
     "metadata": {},
     "output_type": "execute_result"
    }
   ],
   "source": [
    "model_inputado = LinearRegression()\n",
    "model_inputado.fit(X_train, y_train)"
   ]
  },
  {
   "cell_type": "code",
   "execution_count": 63,
   "metadata": {},
   "outputs": [
    {
     "data": {
      "text/plain": [
       "{'El RMSE de tu LinearRegression() es 8.83097839377787, y el r2 0.10812328022848972'}"
      ]
     },
     "execution_count": 63,
     "metadata": {},
     "output_type": "execute_result"
    }
   ],
   "source": [
    "RMSE_AND_R2(model_inputado, X_test, y_test)"
   ]
  },
  {
   "cell_type": "markdown",
   "metadata": {},
   "source": [
    "### Regresion Polinomica con valores MetaScore Inputados con la media "
   ]
  },
  {
   "cell_type": "code",
   "execution_count": 64,
   "metadata": {},
   "outputs": [],
   "source": [
    "degree = 2\n",
    "poly = PolynomialFeatures(degree)\n",
    "X_train_poly = poly.fit_transform(X_train)\n",
    "X_test_poly = poly.transform(X_test)"
   ]
  },
  {
   "cell_type": "code",
   "execution_count": 65,
   "metadata": {},
   "outputs": [],
   "source": [
    "modelploy = LinearRegression()"
   ]
  },
  {
   "cell_type": "code",
   "execution_count": 66,
   "metadata": {},
   "outputs": [
    {
     "data": {
      "text/html": [
       "<style>#sk-container-id-7 {color: black;}#sk-container-id-7 pre{padding: 0;}#sk-container-id-7 div.sk-toggleable {background-color: white;}#sk-container-id-7 label.sk-toggleable__label {cursor: pointer;display: block;width: 100%;margin-bottom: 0;padding: 0.3em;box-sizing: border-box;text-align: center;}#sk-container-id-7 label.sk-toggleable__label-arrow:before {content: \"▸\";float: left;margin-right: 0.25em;color: #696969;}#sk-container-id-7 label.sk-toggleable__label-arrow:hover:before {color: black;}#sk-container-id-7 div.sk-estimator:hover label.sk-toggleable__label-arrow:before {color: black;}#sk-container-id-7 div.sk-toggleable__content {max-height: 0;max-width: 0;overflow: hidden;text-align: left;background-color: #f0f8ff;}#sk-container-id-7 div.sk-toggleable__content pre {margin: 0.2em;color: black;border-radius: 0.25em;background-color: #f0f8ff;}#sk-container-id-7 input.sk-toggleable__control:checked~div.sk-toggleable__content {max-height: 200px;max-width: 100%;overflow: auto;}#sk-container-id-7 input.sk-toggleable__control:checked~label.sk-toggleable__label-arrow:before {content: \"▾\";}#sk-container-id-7 div.sk-estimator input.sk-toggleable__control:checked~label.sk-toggleable__label {background-color: #d4ebff;}#sk-container-id-7 div.sk-label input.sk-toggleable__control:checked~label.sk-toggleable__label {background-color: #d4ebff;}#sk-container-id-7 input.sk-hidden--visually {border: 0;clip: rect(1px 1px 1px 1px);clip: rect(1px, 1px, 1px, 1px);height: 1px;margin: -1px;overflow: hidden;padding: 0;position: absolute;width: 1px;}#sk-container-id-7 div.sk-estimator {font-family: monospace;background-color: #f0f8ff;border: 1px dotted black;border-radius: 0.25em;box-sizing: border-box;margin-bottom: 0.5em;}#sk-container-id-7 div.sk-estimator:hover {background-color: #d4ebff;}#sk-container-id-7 div.sk-parallel-item::after {content: \"\";width: 100%;border-bottom: 1px solid gray;flex-grow: 1;}#sk-container-id-7 div.sk-label:hover label.sk-toggleable__label {background-color: #d4ebff;}#sk-container-id-7 div.sk-serial::before {content: \"\";position: absolute;border-left: 1px solid gray;box-sizing: border-box;top: 0;bottom: 0;left: 50%;z-index: 0;}#sk-container-id-7 div.sk-serial {display: flex;flex-direction: column;align-items: center;background-color: white;padding-right: 0.2em;padding-left: 0.2em;position: relative;}#sk-container-id-7 div.sk-item {position: relative;z-index: 1;}#sk-container-id-7 div.sk-parallel {display: flex;align-items: stretch;justify-content: center;background-color: white;position: relative;}#sk-container-id-7 div.sk-item::before, #sk-container-id-7 div.sk-parallel-item::before {content: \"\";position: absolute;border-left: 1px solid gray;box-sizing: border-box;top: 0;bottom: 0;left: 50%;z-index: -1;}#sk-container-id-7 div.sk-parallel-item {display: flex;flex-direction: column;z-index: 1;position: relative;background-color: white;}#sk-container-id-7 div.sk-parallel-item:first-child::after {align-self: flex-end;width: 50%;}#sk-container-id-7 div.sk-parallel-item:last-child::after {align-self: flex-start;width: 50%;}#sk-container-id-7 div.sk-parallel-item:only-child::after {width: 0;}#sk-container-id-7 div.sk-dashed-wrapped {border: 1px dashed gray;margin: 0 0.4em 0.5em 0.4em;box-sizing: border-box;padding-bottom: 0.4em;background-color: white;}#sk-container-id-7 div.sk-label label {font-family: monospace;font-weight: bold;display: inline-block;line-height: 1.2em;}#sk-container-id-7 div.sk-label-container {text-align: center;}#sk-container-id-7 div.sk-container {/* jupyter's `normalize.less` sets `[hidden] { display: none; }` but bootstrap.min.css set `[hidden] { display: none !important; }` so we also need the `!important` here to be able to override the default hidden behavior on the sphinx rendered scikit-learn.org. See: https://github.com/scikit-learn/scikit-learn/issues/21755 */display: inline-block !important;position: relative;}#sk-container-id-7 div.sk-text-repr-fallback {display: none;}</style><div id=\"sk-container-id-7\" class=\"sk-top-container\"><div class=\"sk-text-repr-fallback\"><pre>LinearRegression()</pre><b>In a Jupyter environment, please rerun this cell to show the HTML representation or trust the notebook. <br />On GitHub, the HTML representation is unable to render, please try loading this page with nbviewer.org.</b></div><div class=\"sk-container\" hidden><div class=\"sk-item\"><div class=\"sk-estimator sk-toggleable\"><input class=\"sk-toggleable__control sk-hidden--visually\" id=\"sk-estimator-id-13\" type=\"checkbox\" checked><label for=\"sk-estimator-id-13\" class=\"sk-toggleable__label sk-toggleable__label-arrow\">LinearRegression</label><div class=\"sk-toggleable__content\"><pre>LinearRegression()</pre></div></div></div></div></div>"
      ],
      "text/plain": [
       "LinearRegression()"
      ]
     },
     "execution_count": 66,
     "metadata": {},
     "output_type": "execute_result"
    }
   ],
   "source": [
    "modelploy.fit(X_train_poly, y_train)"
   ]
  },
  {
   "cell_type": "code",
   "execution_count": 67,
   "metadata": {},
   "outputs": [
    {
     "data": {
      "text/html": [
       "<style>#sk-container-id-8 {color: black;}#sk-container-id-8 pre{padding: 0;}#sk-container-id-8 div.sk-toggleable {background-color: white;}#sk-container-id-8 label.sk-toggleable__label {cursor: pointer;display: block;width: 100%;margin-bottom: 0;padding: 0.3em;box-sizing: border-box;text-align: center;}#sk-container-id-8 label.sk-toggleable__label-arrow:before {content: \"▸\";float: left;margin-right: 0.25em;color: #696969;}#sk-container-id-8 label.sk-toggleable__label-arrow:hover:before {color: black;}#sk-container-id-8 div.sk-estimator:hover label.sk-toggleable__label-arrow:before {color: black;}#sk-container-id-8 div.sk-toggleable__content {max-height: 0;max-width: 0;overflow: hidden;text-align: left;background-color: #f0f8ff;}#sk-container-id-8 div.sk-toggleable__content pre {margin: 0.2em;color: black;border-radius: 0.25em;background-color: #f0f8ff;}#sk-container-id-8 input.sk-toggleable__control:checked~div.sk-toggleable__content {max-height: 200px;max-width: 100%;overflow: auto;}#sk-container-id-8 input.sk-toggleable__control:checked~label.sk-toggleable__label-arrow:before {content: \"▾\";}#sk-container-id-8 div.sk-estimator input.sk-toggleable__control:checked~label.sk-toggleable__label {background-color: #d4ebff;}#sk-container-id-8 div.sk-label input.sk-toggleable__control:checked~label.sk-toggleable__label {background-color: #d4ebff;}#sk-container-id-8 input.sk-hidden--visually {border: 0;clip: rect(1px 1px 1px 1px);clip: rect(1px, 1px, 1px, 1px);height: 1px;margin: -1px;overflow: hidden;padding: 0;position: absolute;width: 1px;}#sk-container-id-8 div.sk-estimator {font-family: monospace;background-color: #f0f8ff;border: 1px dotted black;border-radius: 0.25em;box-sizing: border-box;margin-bottom: 0.5em;}#sk-container-id-8 div.sk-estimator:hover {background-color: #d4ebff;}#sk-container-id-8 div.sk-parallel-item::after {content: \"\";width: 100%;border-bottom: 1px solid gray;flex-grow: 1;}#sk-container-id-8 div.sk-label:hover label.sk-toggleable__label {background-color: #d4ebff;}#sk-container-id-8 div.sk-serial::before {content: \"\";position: absolute;border-left: 1px solid gray;box-sizing: border-box;top: 0;bottom: 0;left: 50%;z-index: 0;}#sk-container-id-8 div.sk-serial {display: flex;flex-direction: column;align-items: center;background-color: white;padding-right: 0.2em;padding-left: 0.2em;position: relative;}#sk-container-id-8 div.sk-item {position: relative;z-index: 1;}#sk-container-id-8 div.sk-parallel {display: flex;align-items: stretch;justify-content: center;background-color: white;position: relative;}#sk-container-id-8 div.sk-item::before, #sk-container-id-8 div.sk-parallel-item::before {content: \"\";position: absolute;border-left: 1px solid gray;box-sizing: border-box;top: 0;bottom: 0;left: 50%;z-index: -1;}#sk-container-id-8 div.sk-parallel-item {display: flex;flex-direction: column;z-index: 1;position: relative;background-color: white;}#sk-container-id-8 div.sk-parallel-item:first-child::after {align-self: flex-end;width: 50%;}#sk-container-id-8 div.sk-parallel-item:last-child::after {align-self: flex-start;width: 50%;}#sk-container-id-8 div.sk-parallel-item:only-child::after {width: 0;}#sk-container-id-8 div.sk-dashed-wrapped {border: 1px dashed gray;margin: 0 0.4em 0.5em 0.4em;box-sizing: border-box;padding-bottom: 0.4em;background-color: white;}#sk-container-id-8 div.sk-label label {font-family: monospace;font-weight: bold;display: inline-block;line-height: 1.2em;}#sk-container-id-8 div.sk-label-container {text-align: center;}#sk-container-id-8 div.sk-container {/* jupyter's `normalize.less` sets `[hidden] { display: none; }` but bootstrap.min.css set `[hidden] { display: none !important; }` so we also need the `!important` here to be able to override the default hidden behavior on the sphinx rendered scikit-learn.org. See: https://github.com/scikit-learn/scikit-learn/issues/21755 */display: inline-block !important;position: relative;}#sk-container-id-8 div.sk-text-repr-fallback {display: none;}</style><div id=\"sk-container-id-8\" class=\"sk-top-container\"><div class=\"sk-text-repr-fallback\"><pre>GridSearchCV(cv=5, estimator=Lasso(), param_grid={&#x27;alpha&#x27;: [0.1, 1.0, 10.0]},\n",
       "             scoring=&#x27;neg_mean_squared_error&#x27;)</pre><b>In a Jupyter environment, please rerun this cell to show the HTML representation or trust the notebook. <br />On GitHub, the HTML representation is unable to render, please try loading this page with nbviewer.org.</b></div><div class=\"sk-container\" hidden><div class=\"sk-item sk-dashed-wrapped\"><div class=\"sk-label-container\"><div class=\"sk-label sk-toggleable\"><input class=\"sk-toggleable__control sk-hidden--visually\" id=\"sk-estimator-id-14\" type=\"checkbox\" ><label for=\"sk-estimator-id-14\" class=\"sk-toggleable__label sk-toggleable__label-arrow\">GridSearchCV</label><div class=\"sk-toggleable__content\"><pre>GridSearchCV(cv=5, estimator=Lasso(), param_grid={&#x27;alpha&#x27;: [0.1, 1.0, 10.0]},\n",
       "             scoring=&#x27;neg_mean_squared_error&#x27;)</pre></div></div></div><div class=\"sk-parallel\"><div class=\"sk-parallel-item\"><div class=\"sk-item\"><div class=\"sk-label-container\"><div class=\"sk-label sk-toggleable\"><input class=\"sk-toggleable__control sk-hidden--visually\" id=\"sk-estimator-id-15\" type=\"checkbox\" ><label for=\"sk-estimator-id-15\" class=\"sk-toggleable__label sk-toggleable__label-arrow\">estimator: Lasso</label><div class=\"sk-toggleable__content\"><pre>Lasso()</pre></div></div></div><div class=\"sk-serial\"><div class=\"sk-item\"><div class=\"sk-estimator sk-toggleable\"><input class=\"sk-toggleable__control sk-hidden--visually\" id=\"sk-estimator-id-16\" type=\"checkbox\" ><label for=\"sk-estimator-id-16\" class=\"sk-toggleable__label sk-toggleable__label-arrow\">Lasso</label><div class=\"sk-toggleable__content\"><pre>Lasso()</pre></div></div></div></div></div></div></div></div></div></div>"
      ],
      "text/plain": [
       "GridSearchCV(cv=5, estimator=Lasso(), param_grid={'alpha': [0.1, 1.0, 10.0]},\n",
       "             scoring='neg_mean_squared_error')"
      ]
     },
     "execution_count": 67,
     "metadata": {},
     "output_type": "execute_result"
    }
   ],
   "source": [
    "param_grid = {\n",
    "    'alpha': [0.1, 1.0, 10.0]\n",
    "}\n",
    "\n",
    "ridge = Ridge()\n",
    "lasso = Lasso()\n",
    "\n",
    "grid_search_ridge = GridSearchCV(ridge, param_grid, cv=5, scoring='neg_mean_squared_error')\n",
    "grid_search_lasso = GridSearchCV(lasso, param_grid, cv=5, scoring='neg_mean_squared_error')\n",
    "\n",
    "grid_search_ridge.fit(X_train, y_train)\n",
    "grid_search_lasso.fit(X_train, y_train)"
   ]
  },
  {
   "cell_type": "code",
   "execution_count": 68,
   "metadata": {},
   "outputs": [
    {
     "data": {
      "text/plain": [
       "{'El RMSE de tu Lasso(alpha=0.1) es 8.861851506558004, y el r2 0.10187637517602877'}"
      ]
     },
     "execution_count": 68,
     "metadata": {},
     "output_type": "execute_result"
    }
   ],
   "source": [
    "## lasso\n",
    "best_lasso = grid_search_lasso.best_estimator_\n",
    "RMSE_AND_R2(best_lasso, X_test, y_test)"
   ]
  },
  {
   "cell_type": "code",
   "execution_count": 69,
   "metadata": {},
   "outputs": [
    {
     "data": {
      "text/plain": [
       "{'El RMSE de tu Lasso(alpha=0.1) es 8.861851506558004, y el r2 0.10187637517602877'}"
      ]
     },
     "execution_count": 69,
     "metadata": {},
     "output_type": "execute_result"
    }
   ],
   "source": [
    "## ridge\n",
    "best_ridge = grid_search_ridge.best_estimator_\n",
    "RMSE_AND_R2(best_lasso, X_test, y_test)"
   ]
  },
  {
   "cell_type": "markdown",
   "metadata": {},
   "source": [
    "# RandomForest"
   ]
  },
  {
   "cell_type": "code",
   "execution_count": 40,
   "metadata": {},
   "outputs": [],
   "source": [
    "X_train, X_test, y_train, y_test= train_test_split(X_predecirmetascore, y_predecirmetascore, test_size=0.33, random_state = 42)"
   ]
  },
  {
   "cell_type": "code",
   "execution_count": 41,
   "metadata": {},
   "outputs": [],
   "source": [
    "## Hice esta función para que se haga un poco más fácil crear modelos para randomforest\n",
    "def RandomForest(X, y, profundidad):\n",
    "    X_train, X_test, y_train, y_test= train_test_split(X, y, test_size=0.33, random_state = 42)\n",
    "    RandomForest = RandomForestRegressor(max_depth=profundidad)\n",
    "    RandomForest.fit(X_train, y_train)\n",
    "    print(RMSE_AND_R2(RandomForest, X_test, y_test))\n",
    "    return RandomForest"
   ]
  },
  {
   "cell_type": "markdown",
   "metadata": {},
   "source": [
    "### RandomForestRegressor con dropna"
   ]
  },
  {
   "cell_type": "code",
   "execution_count": 42,
   "metadata": {},
   "outputs": [],
   "source": [
    "param_grid = {\n",
    "    'n_estimators': [50, 100, 200],\n",
    "    'max_depth': [None, 10, 20],\n",
    "    'min_samples_split': [2, 5, 10],\n",
    "    'min_samples_leaf': [1, 2, 4]\n",
    "}"
   ]
  },
  {
   "cell_type": "code",
   "execution_count": 43,
   "metadata": {},
   "outputs": [
    {
     "data": {
      "text/plain": [
       "GridSearchCV(cv=5, estimator=RandomForestRegressor(), n_jobs=-1,\n",
       "             param_grid={'max_depth': [None, 10, 20],\n",
       "                         'min_samples_leaf': [1, 2, 4],\n",
       "                         'min_samples_split': [2, 5, 10],\n",
       "                         'n_estimators': [50, 100, 200]},\n",
       "             scoring='neg_mean_squared_error')"
      ]
     },
     "execution_count": 43,
     "metadata": {},
     "output_type": "execute_result"
    }
   ],
   "source": [
    "# Crear el modelo de Random Forest\n",
    "rf_model = RandomForestRegressor()\n",
    "\n",
    "# Crear un objeto GridSearchCV\n",
    "grid_search = GridSearchCV(rf_model, param_grid, cv=5, n_jobs=-1, scoring='neg_mean_squared_error')\n",
    "\n",
    "# Realizar la búsqueda de hiperparámetros\n",
    "grid_search.fit(X_train, y_train)\n"
   ]
  },
  {
   "cell_type": "code",
   "execution_count": 44,
   "metadata": {},
   "outputs": [
    {
     "name": "stdout",
     "output_type": "stream",
     "text": [
      "Mejores hiperparámetros: {'max_depth': 10, 'min_samples_leaf': 2, 'min_samples_split': 10, 'n_estimators': 50}\n",
      "Mejor puntaje: 8.432620467329443\n"
     ]
    },
    {
     "data": {
      "text/plain": [
       "{'El RMSE de tu RandomForestRegressor(max_depth=10, min_samples_leaf=2, min_samples_split=10,\\n                      n_estimators=50) es 7.918355069327722, y el r2 0.3603363086909447'}"
      ]
     },
     "execution_count": 44,
     "metadata": {},
     "output_type": "execute_result"
    }
   ],
   "source": [
    "print(\"Mejores hiperparámetros:\", grid_search.best_params_)\n",
    "print(\"Mejor puntaje:\", np.sqrt(grid_search.best_score_*-1))\n",
    "RMSE_AND_R2(grid_search.best_estimator_, X_test, y_test)"
   ]
  },
  {
   "cell_type": "code",
   "execution_count": 46,
   "metadata": {},
   "outputs": [],
   "source": [
    "best_random_for = grid_search.best_estimator_"
   ]
  },
  {
   "cell_type": "code",
   "execution_count": 120,
   "metadata": {},
   "outputs": [
    {
     "name": "stdout",
     "output_type": "stream",
     "text": [
      "{'El RMSE de tu RandomForestRegressor(max_depth=5) es 7.965684308230009, y el r2 0.3526667172223412'}\n"
     ]
    }
   ],
   "source": [
    "rand_for = RandomForest(X_predecirmetascore,y_predecirmetascore, 5)"
   ]
  },
  {
   "cell_type": "code",
   "execution_count": 121,
   "metadata": {},
   "outputs": [
    {
     "name": "stdout",
     "output_type": "stream",
     "text": [
      "{'El RMSE de tu RandomForestRegressor(max_depth=5) es 8.675525279027992, y el r2 0.13924660832103664'}\n"
     ]
    },
    {
     "data": {
      "text/html": [
       "<style>#sk-container-id-13 {color: black;}#sk-container-id-13 pre{padding: 0;}#sk-container-id-13 div.sk-toggleable {background-color: white;}#sk-container-id-13 label.sk-toggleable__label {cursor: pointer;display: block;width: 100%;margin-bottom: 0;padding: 0.3em;box-sizing: border-box;text-align: center;}#sk-container-id-13 label.sk-toggleable__label-arrow:before {content: \"▸\";float: left;margin-right: 0.25em;color: #696969;}#sk-container-id-13 label.sk-toggleable__label-arrow:hover:before {color: black;}#sk-container-id-13 div.sk-estimator:hover label.sk-toggleable__label-arrow:before {color: black;}#sk-container-id-13 div.sk-toggleable__content {max-height: 0;max-width: 0;overflow: hidden;text-align: left;background-color: #f0f8ff;}#sk-container-id-13 div.sk-toggleable__content pre {margin: 0.2em;color: black;border-radius: 0.25em;background-color: #f0f8ff;}#sk-container-id-13 input.sk-toggleable__control:checked~div.sk-toggleable__content {max-height: 200px;max-width: 100%;overflow: auto;}#sk-container-id-13 input.sk-toggleable__control:checked~label.sk-toggleable__label-arrow:before {content: \"▾\";}#sk-container-id-13 div.sk-estimator input.sk-toggleable__control:checked~label.sk-toggleable__label {background-color: #d4ebff;}#sk-container-id-13 div.sk-label input.sk-toggleable__control:checked~label.sk-toggleable__label {background-color: #d4ebff;}#sk-container-id-13 input.sk-hidden--visually {border: 0;clip: rect(1px 1px 1px 1px);clip: rect(1px, 1px, 1px, 1px);height: 1px;margin: -1px;overflow: hidden;padding: 0;position: absolute;width: 1px;}#sk-container-id-13 div.sk-estimator {font-family: monospace;background-color: #f0f8ff;border: 1px dotted black;border-radius: 0.25em;box-sizing: border-box;margin-bottom: 0.5em;}#sk-container-id-13 div.sk-estimator:hover {background-color: #d4ebff;}#sk-container-id-13 div.sk-parallel-item::after {content: \"\";width: 100%;border-bottom: 1px solid gray;flex-grow: 1;}#sk-container-id-13 div.sk-label:hover label.sk-toggleable__label {background-color: #d4ebff;}#sk-container-id-13 div.sk-serial::before {content: \"\";position: absolute;border-left: 1px solid gray;box-sizing: border-box;top: 0;bottom: 0;left: 50%;z-index: 0;}#sk-container-id-13 div.sk-serial {display: flex;flex-direction: column;align-items: center;background-color: white;padding-right: 0.2em;padding-left: 0.2em;position: relative;}#sk-container-id-13 div.sk-item {position: relative;z-index: 1;}#sk-container-id-13 div.sk-parallel {display: flex;align-items: stretch;justify-content: center;background-color: white;position: relative;}#sk-container-id-13 div.sk-item::before, #sk-container-id-13 div.sk-parallel-item::before {content: \"\";position: absolute;border-left: 1px solid gray;box-sizing: border-box;top: 0;bottom: 0;left: 50%;z-index: -1;}#sk-container-id-13 div.sk-parallel-item {display: flex;flex-direction: column;z-index: 1;position: relative;background-color: white;}#sk-container-id-13 div.sk-parallel-item:first-child::after {align-self: flex-end;width: 50%;}#sk-container-id-13 div.sk-parallel-item:last-child::after {align-self: flex-start;width: 50%;}#sk-container-id-13 div.sk-parallel-item:only-child::after {width: 0;}#sk-container-id-13 div.sk-dashed-wrapped {border: 1px dashed gray;margin: 0 0.4em 0.5em 0.4em;box-sizing: border-box;padding-bottom: 0.4em;background-color: white;}#sk-container-id-13 div.sk-label label {font-family: monospace;font-weight: bold;display: inline-block;line-height: 1.2em;}#sk-container-id-13 div.sk-label-container {text-align: center;}#sk-container-id-13 div.sk-container {/* jupyter's `normalize.less` sets `[hidden] { display: none; }` but bootstrap.min.css set `[hidden] { display: none !important; }` so we also need the `!important` here to be able to override the default hidden behavior on the sphinx rendered scikit-learn.org. See: https://github.com/scikit-learn/scikit-learn/issues/21755 */display: inline-block !important;position: relative;}#sk-container-id-13 div.sk-text-repr-fallback {display: none;}</style><div id=\"sk-container-id-13\" class=\"sk-top-container\"><div class=\"sk-text-repr-fallback\"><pre>RandomForestRegressor(max_depth=5)</pre><b>In a Jupyter environment, please rerun this cell to show the HTML representation or trust the notebook. <br />On GitHub, the HTML representation is unable to render, please try loading this page with nbviewer.org.</b></div><div class=\"sk-container\" hidden><div class=\"sk-item\"><div class=\"sk-estimator sk-toggleable\"><input class=\"sk-toggleable__control sk-hidden--visually\" id=\"sk-estimator-id-27\" type=\"checkbox\" checked><label for=\"sk-estimator-id-27\" class=\"sk-toggleable__label sk-toggleable__label-arrow\">RandomForestRegressor</label><div class=\"sk-toggleable__content\"><pre>RandomForestRegressor(max_depth=5)</pre></div></div></div></div></div>"
      ],
      "text/plain": [
       "RandomForestRegressor(max_depth=5)"
      ]
     },
     "execution_count": 121,
     "metadata": {},
     "output_type": "execute_result"
    }
   ],
   "source": [
    "RandomForest(X_sinmetascore,y_sinmetascore, 5)"
   ]
  },
  {
   "cell_type": "markdown",
   "metadata": {},
   "source": [
    "### RandomForestRegressor sin metascore"
   ]
  },
  {
   "cell_type": "code",
   "execution_count": 122,
   "metadata": {},
   "outputs": [
    {
     "name": "stdout",
     "output_type": "stream",
     "text": [
      "{'El RMSE de tu RandomForestRegressor(max_depth=3) es 8.879467463401632, y el r2 0.09830217126856378'}\n"
     ]
    }
   ],
   "source": [
    "model = RandomForest(X_sinmetascore,y_sinmetascore,3)"
   ]
  },
  {
   "cell_type": "markdown",
   "metadata": {},
   "source": [
    "## Zona de Prueba"
   ]
  },
  {
   "cell_type": "code",
   "execution_count": 123,
   "metadata": {},
   "outputs": [],
   "source": [
    "sinmetascore = pd.DataFrame({ \n",
    "                    # Ejemplo: metascore\n",
    "    \"año_v\": [2010],  # Ejemplo: año\n",
    "    \"early_access\": [1],  # Ejemplo: early_access\n",
    "    \"Action\": [0],  # Ejemplo: género Action\n",
    "    \"Adventure\": [1],\n",
    "    \"Casual\" : [0],\n",
    "    \"Indie\" : [0],\n",
    "    \"Racing\" : [0],\n",
    "    \"Simulation\" : [0],\n",
    "    \"Sports\" : [0],\n",
    "    \"Strategy\" : [0] ,\n",
    "    \"Massively_Multiplayer\" : [0],\n",
    "    \"Rol\" : [0] # Ejemplo: género Adventure\n",
    "    # ... (proporciona los valores correspondientes para otras características)\n",
    "})\n",
    "\n",
    "conmetascore = pd.DataFrame({ \n",
    "    \"metascore\" : [64],         # Ejemplo: metascore\n",
    "    \"año_v\": [2014],  # Ejemplo: año\n",
    "    \"early_access\": [1],  # Ejemplo: early_access\n",
    "    \"Action\": [1],  # Ejemplo: género Action\n",
    "    \"Adventure\": [0],\n",
    "    \"Casual\" : [0],\n",
    "    \"Indie\" : [0],\n",
    "    \"Racing\" : [0],\n",
    "    \"Simulation\" : [0],\n",
    "    \"Sports\" : [0],\n",
    "    \"Strategy\" : [0] ,\n",
    "    \"Massively_Multiplayer\" : [0],\n",
    "    \"Rol\" : [0] # Ejemplo: género Adventure\n",
    "    # ... (proporciona los valores correspondientes para otras características)\n",
    "})"
   ]
  },
  {
   "cell_type": "code",
   "execution_count": 124,
   "metadata": {},
   "outputs": [],
   "source": [
    "# Columnas a normalizar\n",
    "columns_to_normalize = [\"año_v\"]\n",
    "\n",
    "# Crear un escalador MinMaxScaler\n",
    "scaler = MinMaxScaler()\n",
    "\n",
    "# Aplicar la normalización a las columnas seleccionadas\n",
    "sinmetascore[columns_to_normalize] = scaler.fit_transform(sinmetascore[columns_to_normalize])"
   ]
  },
  {
   "cell_type": "code",
   "execution_count": 144,
   "metadata": {},
   "outputs": [],
   "source": [
    "# Columnas a normalizar\n",
    "columns_to_normalize = [\"año_v\", \"metascore\"]\n",
    "\n",
    "# Crear un escalador MinMaxScaler\n",
    "scaler = MinMaxScaler()\n",
    "\n",
    "# Aplicar la normalización a las columnas seleccionadas\n",
    "conmetascore[columns_to_normalize] = scaler.fit_transform(conmetascore[columns_to_normalize])"
   ]
  },
  {
   "cell_type": "code",
   "execution_count": 126,
   "metadata": {},
   "outputs": [
    {
     "name": "stdout",
     "output_type": "stream",
     "text": [
      "[11.32836089]\n",
      "[13.3517067]\n"
     ]
    },
    {
     "name": "stderr",
     "output_type": "stream",
     "text": [
      "c:\\Users\\Agus_\\anaconda3\\lib\\site-packages\\sklearn\\base.py:457: UserWarning: X has feature names, but Lasso was fitted without feature names\n",
      "  warnings.warn(\n",
      "c:\\Users\\Agus_\\anaconda3\\lib\\site-packages\\sklearn\\base.py:457: UserWarning: X has feature names, but Ridge was fitted without feature names\n",
      "  warnings.warn(\n"
     ]
    }
   ],
   "source": [
    "print(best_lasso.predict(conmetascore))\n",
    "print(best_ridge.predict(conmetascore))"
   ]
  },
  {
   "cell_type": "code",
   "execution_count": null,
   "metadata": {},
   "outputs": [],
   "source": [
    "model1dropna.predict(conmetascore)"
   ]
  },
  {
   "cell_type": "code",
   "execution_count": 148,
   "metadata": {},
   "outputs": [
    {
     "data": {
      "text/plain": [
       "array([31.12892533])"
      ]
     },
     "execution_count": 148,
     "metadata": {},
     "output_type": "execute_result"
    }
   ],
   "source": [
    "best_random_for.predict(conmetascore)"
   ]
  },
  {
   "cell_type": "code",
   "execution_count": 146,
   "metadata": {},
   "outputs": [
    {
     "data": {
      "text/plain": [
       "array([25.66936236])"
      ]
     },
     "execution_count": 146,
     "metadata": {},
     "output_type": "execute_result"
    }
   ],
   "source": [
    "rand_for.predict(conmetascore)"
   ]
  },
  {
   "cell_type": "code",
   "execution_count": null,
   "metadata": {},
   "outputs": [],
   "source": [
    "y_predict = model.predict(sinmetascore)\n",
    "y_predict"
   ]
  },
  {
   "cell_type": "markdown",
   "metadata": {},
   "source": [
    "#### RandomForestRegressor metascore inputado"
   ]
  },
  {
   "cell_type": "code",
   "execution_count": 133,
   "metadata": {},
   "outputs": [
    {
     "name": "stdout",
     "output_type": "stream",
     "text": [
      "{'El RMSE de tu RandomForestRegressor(max_depth=4) es 8.713454047303356, y el r2 0.1317038531025455'}\n"
     ]
    }
   ],
   "source": [
    "model2 = RandomForest(X_Transform, y, 4)"
   ]
  },
  {
   "cell_type": "code",
   "execution_count": 134,
   "metadata": {},
   "outputs": [
    {
     "name": "stderr",
     "output_type": "stream",
     "text": [
      "c:\\Users\\Agus_\\anaconda3\\lib\\site-packages\\sklearn\\base.py:457: UserWarning: X has feature names, but RandomForestRegressor was fitted without feature names\n",
      "  warnings.warn(\n"
     ]
    },
    {
     "data": {
      "text/plain": [
       "array([15.22398401])"
      ]
     },
     "execution_count": 134,
     "metadata": {},
     "output_type": "execute_result"
    }
   ],
   "source": [
    "y_predict = model2.predict(conmetascore)\n",
    "y_predict"
   ]
  },
  {
   "cell_type": "markdown",
   "metadata": {},
   "source": [
    "# SVR"
   ]
  },
  {
   "cell_type": "code",
   "execution_count": null,
   "metadata": {},
   "outputs": [],
   "source": [
    "X_train, X_test, y_train, y_test= train_test_split(X_predecirmetascore, y_predecirmetascore, test_size=0.33, random_state = 42)"
   ]
  },
  {
   "cell_type": "code",
   "execution_count": null,
   "metadata": {},
   "outputs": [],
   "source": [
    "def SVRModel(X, y):\n",
    "    X_train, X_test, y_train, y_test= train_test_split(X, y, test_size=0.33, random_state = 42)\n",
    "    model = SVR()\n",
    "    model.fit(X_train, y_train)\n",
    "    print(RMSE_AND_R2(model, X_test, y_test))\n",
    "    return model"
   ]
  },
  {
   "cell_type": "code",
   "execution_count": null,
   "metadata": {},
   "outputs": [
    {
     "name": "stdout",
     "output_type": "stream",
     "text": [
      "{'El RMSE de tu SVR() es 8.38613302581329, y el r2 0.28252751614720817'}\n"
     ]
    }
   ],
   "source": [
    "model_svr =  SVRModel(X_predecirmetascore, y_predecirmetascore)"
   ]
  },
  {
   "cell_type": "code",
   "execution_count": null,
   "metadata": {},
   "outputs": [
    {
     "data": {
      "text/plain": [
       "array([19.05104978])"
      ]
     },
     "execution_count": 1993,
     "metadata": {},
     "output_type": "execute_result"
    }
   ],
   "source": [
    "y_predict = model_svr.predict(conmetascore)\n",
    "y_predict"
   ]
  },
  {
   "cell_type": "code",
   "execution_count": null,
   "metadata": {},
   "outputs": [
    {
     "name": "stdout",
     "output_type": "stream",
     "text": [
      "{'El RMSE de tu SVR() es 9.087330062339333, y el r2 0.0555917150803491'}\n"
     ]
    },
    {
     "data": {
      "text/plain": [
       "SVR()"
      ]
     },
     "execution_count": 1994,
     "metadata": {},
     "output_type": "execute_result"
    }
   ],
   "source": [
    "SVRModel(X_sinmetascore, y_sinmetascore)"
   ]
  },
  {
   "cell_type": "markdown",
   "metadata": {},
   "source": [
    "# Ensamble"
   ]
  },
  {
   "cell_type": "code",
   "execution_count": 135,
   "metadata": {},
   "outputs": [
    {
     "name": "stdout",
     "output_type": "stream",
     "text": [
      "RMSE para Gradient Boosting Regressor: 8.170299000201691\n"
     ]
    }
   ],
   "source": [
    "\n",
    "# Crear el modelo\n",
    "model = GradientBoostingRegressor(max_depth=2, learning_rate=0.3)\n",
    "\n",
    "# Entrenar el modelo\n",
    "model.fit(X_train, y_train)\n",
    "\n",
    "# Realizar predicciones\n",
    "y_pred = model.predict(X_test)\n",
    "\n",
    "# Calcular el error cuadrático medio (MSE)\n",
    "mse = mean_squared_error(y_test, y_pred)\n",
    "\n",
    "# Calcular el RMSE\n",
    "rmse = np.sqrt(mse)\n",
    "\n",
    "print(f\"RMSE para Gradient Boosting Regressor: {rmse}\")"
   ]
  },
  {
   "cell_type": "code",
   "execution_count": null,
   "metadata": {},
   "outputs": [
    {
     "data": {
      "text/plain": [
       "GridSearchCV(cv=5, estimator=GradientBoostingRegressor(),\n",
       "             param_grid={'learning_rate': [0.01, 0.1, 0.2],\n",
       "                         'max_depth': [3, 4, 5],\n",
       "                         'n_estimators': [50, 100, 200]},\n",
       "             refit='neg_mean_squared_error', scoring='neg_mean_squared_error')"
      ]
     },
     "execution_count": 1996,
     "metadata": {},
     "output_type": "execute_result"
    }
   ],
   "source": [
    "param_grid = {\n",
    "        'n_estimators': [50, 100, 200],\n",
    "        'learning_rate': [0.01, 0.1, 0.2],\n",
    "        'max_depth': [3, 4, 5]\n",
    "    }\n",
    "\n",
    "gbr = GradientBoostingRegressor()\n",
    "grid_search = GridSearchCV(gbr, param_grid, cv=5, scoring='neg_mean_squared_error', refit=\"neg_mean_squared_error\")\n",
    "grid_search.fit(X_train, y_train)"
   ]
  },
  {
   "cell_type": "code",
   "execution_count": null,
   "metadata": {},
   "outputs": [
    {
     "data": {
      "text/plain": [
       "8.363755708377074"
      ]
     },
     "execution_count": 1997,
     "metadata": {},
     "output_type": "execute_result"
    }
   ],
   "source": [
    "best_params = grid_search.best_params_\n",
    "best_score = grid_search.best_score_\n",
    "best_est = grid_search.best_estimator_\n",
    "\n",
    "np.sqrt(best_score*-1)"
   ]
  },
  {
   "cell_type": "code",
   "execution_count": 137,
   "metadata": {},
   "outputs": [],
   "source": [
    "new_data = pd.DataFrame({\n",
    "    \"metascore\": [54],  # Ejemplo: metascore\n",
    "    \"año_v\": [2009],  # Ejemplo: año\n",
    "    \"early_access\": [1],  # Ejemplo: early_access\n",
    "    \"Action\": [1],  # Ejemplo: género Action\n",
    "    \"Adventure\": [0],\n",
    "    \"Casual\" : [0],\n",
    "    \"Indie\" : [0],\n",
    "    \"Racing\" : [0],\n",
    "    \"Simulation\" : [0],\n",
    "    \"Sports\" : [0],\n",
    "    \"Strategy\" : [1] ,\n",
    "    \"Massively Multiplayer\" : [0],\n",
    "    \"RPG\" : [1] # Ejemplo: género Adventure\n",
    "    # ... (proporciona los valores correspondientes para otras características)\n",
    "})\n",
    "# Columnas a normalizar\n",
    "columns_to_normalize = [\"metascore\", \"año_v\"]\n",
    "# Crear un escalador MinMaxScaler\n",
    "scaler = MinMaxScaler()\n",
    "# Aplicar la normalización a las columnas seleccionadas\n",
    "new_data[columns_to_normalize] = scaler.fit_transform(new_data[columns_to_normalize])"
   ]
  },
  {
   "cell_type": "code",
   "execution_count": 138,
   "metadata": {},
   "outputs": [
    {
     "data": {
      "text/plain": [
       "array([25.38814405])"
      ]
     },
     "execution_count": 138,
     "metadata": {},
     "output_type": "execute_result"
    }
   ],
   "source": [
    "y_pred = model.predict(conmetascore)\n",
    "y_pred"
   ]
  },
  {
   "cell_type": "code",
   "execution_count": 139,
   "metadata": {},
   "outputs": [],
   "source": [
    "X_train, X_test, y_train, y_test= train_test_split(X_predecirmetascore, y_predecirmetascore, test_size=0.33, random_state = 42)"
   ]
  },
  {
   "cell_type": "code",
   "execution_count": 140,
   "metadata": {},
   "outputs": [],
   "source": [
    "y_pred = rand_for.predict(X_test)\n",
    "mse = mean_squared_error(y_test, y_pred)\n",
    "rmse = np.sqrt(mse)\n"
   ]
  },
  {
   "cell_type": "code",
   "execution_count": 141,
   "metadata": {},
   "outputs": [
    {
     "data": {
      "image/png": "[encoded data removed]",
      "text/plain": [
       "<Figure size 800x600 with 1 Axes>"
      ]
     },
     "metadata": {},
     "output_type": "display_data"
    }
   ],
   "source": [
    "data = pd.DataFrame({'Predicho': y_pred, 'Verdadero': y_test})\n",
    "\n",
    "\n",
    "plt.figure(figsize=(8, 6))\n",
    "sns.scatterplot(x='Verdadero', y='Predicho', data=data, color='blue', label='Predicho vs. Verdadero')\n",
    "sns.lineplot(x='Verdadero', y='Verdadero', data=data, color='violet', label='Línea de 1:1')\n",
    "\n",
    "plt.xlabel('Valores Verdaderos')\n",
    "plt.ylabel('Valores Predichos')\n",
    "plt.title('Gráfico de Predicción vs. Realidad')\n",
    "plt.legend()\n",
    "plt.show()"
   ]
  },
  {
   "cell_type": "markdown",
   "metadata": {},
   "source": [
    "### Comparando con los dos mejores modelos que me dieron buenos resultados fueron esto"
   ]
  },
  {
   "cell_type": "code",
   "execution_count": 142,
   "metadata": {},
   "outputs": [
    {
     "data": {
      "text/plain": [
       "array([25.66936236])"
      ]
     },
     "execution_count": 142,
     "metadata": {},
     "output_type": "execute_result"
    }
   ],
   "source": [
    "rand_for.predict(conmetascore)"
   ]
  },
  {
   "cell_type": "code",
   "execution_count": 143,
   "metadata": {},
   "outputs": [
    {
     "data": {
      "text/plain": [
       "{'El RMSE de tu RandomForestRegressor(max_depth=5) es 7.965684308230009, y el r2 0.3526667172223412'}"
      ]
     },
     "execution_count": 143,
     "metadata": {},
     "output_type": "execute_result"
    }
   ],
   "source": [
    "RMSE_AND_R2(rand_for, X_test, y_test)"
   ]
  },
  {
   "cell_type": "code",
   "execution_count": null,
   "metadata": {},
   "outputs": [
    {
     "data": {
      "text/plain": [
       "array([23.98064438])"
      ]
     },
     "execution_count": 2006,
     "metadata": {},
     "output_type": "execute_result"
    }
   ],
   "source": [
    "y_pred = best_est.predict(conmetascore)\n",
    "y_pred"
   ]
  },
  {
   "cell_type": "markdown",
   "metadata": {},
   "source": [
    "## Guardamos el modelo"
   ]
  },
  {
   "cell_type": "code",
   "execution_count": 48,
   "metadata": {},
   "outputs": [],
   "source": [
    "import pickle\n",
    "\n",
    "\n",
    "modelo_entrenado = best_random_for\n",
    "# Guardar el modelo en un archivo\n",
    "with open('../modelos/modelo_entrenado_v4.pkl', 'wb') as model_file:\n",
    "    pickle.dump(modelo_entrenado, model_file)"
   ]
  }
 ],
 "metadata": {
  "kernelspec": {
   "display_name": "base",
   "language": "python",
   "name": "python3"
  },
  "language_info": {
   "codemirror_mode": {
    "name": "ipython",
    "version": 3
   },
   "file_extension": ".py",
   "mimetype": "text/x-python",
   "name": "python",
   "nbconvert_exporter": "python",
   "pygments_lexer": "ipython3",
   "version": "3.9.13"
  },
  "orig_nbformat": 4
 },
 "nbformat": 4,
 "nbformat_minor": 2
}
