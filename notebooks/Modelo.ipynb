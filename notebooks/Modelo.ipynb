{
 "cells": [
  {
   "cell_type": "code",
   "execution_count": 3,
   "metadata": {},
   "outputs": [],
   "source": [
    "import pandas as pd\n",
    "import numpy as np\n",
    "import seaborn as sns\n",
    "import matplotlib.pyplot as plt\n",
    "import scipy.stats as stats "
   ]
  },
  {
   "cell_type": "code",
   "execution_count": 4,
   "metadata": {},
   "outputs": [
    {
     "data": {
      "text/html": [
       "<div>\n",
       "<style scoped>\n",
       "    .dataframe tbody tr th:only-of-type {\n",
       "        vertical-align: middle;\n",
       "    }\n",
       "\n",
       "    .dataframe tbody tr th {\n",
       "        vertical-align: top;\n",
       "    }\n",
       "\n",
       "    .dataframe thead th {\n",
       "        text-align: right;\n",
       "    }\n",
       "</style>\n",
       "<table border=\"1\" class=\"dataframe\">\n",
       "  <thead>\n",
       "    <tr style=\"text-align: right;\">\n",
       "      <th></th>\n",
       "      <th>app_name</th>\n",
       "      <th>url</th>\n",
       "      <th>price</th>\n",
       "      <th>early_access</th>\n",
       "      <th>developer</th>\n",
       "      <th>sentiment</th>\n",
       "      <th>metascore</th>\n",
       "      <th>año_v</th>\n",
       "      <th>Accounting</th>\n",
       "      <th>Action</th>\n",
       "      <th>...</th>\n",
       "      <th>Steam Achievements</th>\n",
       "      <th>Steam Cloud</th>\n",
       "      <th>Steam Leaderboards</th>\n",
       "      <th>Steam Trading Cards</th>\n",
       "      <th>Steam Turn Notifications</th>\n",
       "      <th>Steam Workshop</th>\n",
       "      <th>SteamVR Collectibles</th>\n",
       "      <th>Tracked Motion Controllers</th>\n",
       "      <th>Valve Anti-Cheat enabled</th>\n",
       "      <th>Windows Mixed Reality</th>\n",
       "    </tr>\n",
       "  </thead>\n",
       "  <tbody>\n",
       "    <tr>\n",
       "      <th>0</th>\n",
       "      <td>Lost Summoner Kitty</td>\n",
       "      <td>http://store.steampowered.com/app/761140/Lost_...</td>\n",
       "      <td>4.99</td>\n",
       "      <td>0</td>\n",
       "      <td>Kotoshiro</td>\n",
       "      <td>None</td>\n",
       "      <td>NaN</td>\n",
       "      <td>2018</td>\n",
       "      <td>0</td>\n",
       "      <td>1</td>\n",
       "      <td>...</td>\n",
       "      <td>0</td>\n",
       "      <td>0</td>\n",
       "      <td>0</td>\n",
       "      <td>0</td>\n",
       "      <td>0</td>\n",
       "      <td>0</td>\n",
       "      <td>0</td>\n",
       "      <td>0</td>\n",
       "      <td>0</td>\n",
       "      <td>0</td>\n",
       "    </tr>\n",
       "    <tr>\n",
       "      <th>1</th>\n",
       "      <td>弹炸人2222</td>\n",
       "      <td>http://store.steampowered.com/app/767400/2222/</td>\n",
       "      <td>0.99</td>\n",
       "      <td>0</td>\n",
       "      <td>彼岸领域</td>\n",
       "      <td>Mostly Positive</td>\n",
       "      <td>NaN</td>\n",
       "      <td>2017</td>\n",
       "      <td>0</td>\n",
       "      <td>1</td>\n",
       "      <td>...</td>\n",
       "      <td>0</td>\n",
       "      <td>0</td>\n",
       "      <td>0</td>\n",
       "      <td>0</td>\n",
       "      <td>0</td>\n",
       "      <td>0</td>\n",
       "      <td>0</td>\n",
       "      <td>0</td>\n",
       "      <td>0</td>\n",
       "      <td>0</td>\n",
       "    </tr>\n",
       "    <tr>\n",
       "      <th>2</th>\n",
       "      <td>Log Challenge</td>\n",
       "      <td>http://store.steampowered.com/app/773570/Log_C...</td>\n",
       "      <td>2.99</td>\n",
       "      <td>0</td>\n",
       "      <td>&lt;NA&gt;</td>\n",
       "      <td>2 user reviews</td>\n",
       "      <td>NaN</td>\n",
       "      <td>2018</td>\n",
       "      <td>0</td>\n",
       "      <td>0</td>\n",
       "      <td>...</td>\n",
       "      <td>0</td>\n",
       "      <td>0</td>\n",
       "      <td>0</td>\n",
       "      <td>0</td>\n",
       "      <td>0</td>\n",
       "      <td>0</td>\n",
       "      <td>0</td>\n",
       "      <td>1</td>\n",
       "      <td>0</td>\n",
       "      <td>0</td>\n",
       "    </tr>\n",
       "    <tr>\n",
       "      <th>3</th>\n",
       "      <td>Battle Royale Trainer</td>\n",
       "      <td>http://store.steampowered.com/app/772540/Battl...</td>\n",
       "      <td>3.99</td>\n",
       "      <td>0</td>\n",
       "      <td>Trickjump Games Ltd</td>\n",
       "      <td>Mixed</td>\n",
       "      <td>NaN</td>\n",
       "      <td>2018</td>\n",
       "      <td>0</td>\n",
       "      <td>1</td>\n",
       "      <td>...</td>\n",
       "      <td>1</td>\n",
       "      <td>0</td>\n",
       "      <td>0</td>\n",
       "      <td>0</td>\n",
       "      <td>0</td>\n",
       "      <td>0</td>\n",
       "      <td>0</td>\n",
       "      <td>0</td>\n",
       "      <td>0</td>\n",
       "      <td>0</td>\n",
       "    </tr>\n",
       "    <tr>\n",
       "      <th>4</th>\n",
       "      <td>SNOW - All Access Basic Pass</td>\n",
       "      <td>http://store.steampowered.com/app/774276/SNOW_...</td>\n",
       "      <td>9.99</td>\n",
       "      <td>0</td>\n",
       "      <td>Poppermost Productions</td>\n",
       "      <td>None</td>\n",
       "      <td>NaN</td>\n",
       "      <td>2018</td>\n",
       "      <td>0</td>\n",
       "      <td>0</td>\n",
       "      <td>...</td>\n",
       "      <td>1</td>\n",
       "      <td>1</td>\n",
       "      <td>1</td>\n",
       "      <td>1</td>\n",
       "      <td>0</td>\n",
       "      <td>0</td>\n",
       "      <td>0</td>\n",
       "      <td>0</td>\n",
       "      <td>0</td>\n",
       "      <td>0</td>\n",
       "    </tr>\n",
       "    <tr>\n",
       "      <th>...</th>\n",
       "      <td>...</td>\n",
       "      <td>...</td>\n",
       "      <td>...</td>\n",
       "      <td>...</td>\n",
       "      <td>...</td>\n",
       "      <td>...</td>\n",
       "      <td>...</td>\n",
       "      <td>...</td>\n",
       "      <td>...</td>\n",
       "      <td>...</td>\n",
       "      <td>...</td>\n",
       "      <td>...</td>\n",
       "      <td>...</td>\n",
       "      <td>...</td>\n",
       "      <td>...</td>\n",
       "      <td>...</td>\n",
       "      <td>...</td>\n",
       "      <td>...</td>\n",
       "      <td>...</td>\n",
       "      <td>...</td>\n",
       "      <td>...</td>\n",
       "    </tr>\n",
       "    <tr>\n",
       "      <th>28651</th>\n",
       "      <td>Colony On Mars</td>\n",
       "      <td>http://store.steampowered.com/app/773640/Colon...</td>\n",
       "      <td>1.99</td>\n",
       "      <td>0</td>\n",
       "      <td>Nikita \"Ghost_RUS\"</td>\n",
       "      <td>Negative</td>\n",
       "      <td>NaN</td>\n",
       "      <td>2018</td>\n",
       "      <td>0</td>\n",
       "      <td>0</td>\n",
       "      <td>...</td>\n",
       "      <td>1</td>\n",
       "      <td>0</td>\n",
       "      <td>0</td>\n",
       "      <td>0</td>\n",
       "      <td>0</td>\n",
       "      <td>0</td>\n",
       "      <td>0</td>\n",
       "      <td>0</td>\n",
       "      <td>0</td>\n",
       "      <td>0</td>\n",
       "    </tr>\n",
       "    <tr>\n",
       "      <th>28652</th>\n",
       "      <td>LOGistICAL: South Africa</td>\n",
       "      <td>http://store.steampowered.com/app/733530/LOGis...</td>\n",
       "      <td>4.99</td>\n",
       "      <td>0</td>\n",
       "      <td>Sacada</td>\n",
       "      <td>5 user reviews</td>\n",
       "      <td>NaN</td>\n",
       "      <td>2018</td>\n",
       "      <td>0</td>\n",
       "      <td>0</td>\n",
       "      <td>...</td>\n",
       "      <td>1</td>\n",
       "      <td>1</td>\n",
       "      <td>1</td>\n",
       "      <td>0</td>\n",
       "      <td>0</td>\n",
       "      <td>0</td>\n",
       "      <td>0</td>\n",
       "      <td>0</td>\n",
       "      <td>0</td>\n",
       "      <td>0</td>\n",
       "    </tr>\n",
       "    <tr>\n",
       "      <th>28653</th>\n",
       "      <td>Russian Roads</td>\n",
       "      <td>http://store.steampowered.com/app/610660/Russi...</td>\n",
       "      <td>1.99</td>\n",
       "      <td>0</td>\n",
       "      <td>Laush Dmitriy Sergeevich</td>\n",
       "      <td>Mostly Positive</td>\n",
       "      <td>NaN</td>\n",
       "      <td>2018</td>\n",
       "      <td>0</td>\n",
       "      <td>0</td>\n",
       "      <td>...</td>\n",
       "      <td>1</td>\n",
       "      <td>0</td>\n",
       "      <td>0</td>\n",
       "      <td>1</td>\n",
       "      <td>0</td>\n",
       "      <td>0</td>\n",
       "      <td>0</td>\n",
       "      <td>0</td>\n",
       "      <td>0</td>\n",
       "      <td>0</td>\n",
       "    </tr>\n",
       "    <tr>\n",
       "      <th>28654</th>\n",
       "      <td>EXIT 2 - Directions</td>\n",
       "      <td>http://store.steampowered.com/app/658870/EXIT_...</td>\n",
       "      <td>4.99</td>\n",
       "      <td>0</td>\n",
       "      <td>xropi,stev3ns</td>\n",
       "      <td>1 user reviews</td>\n",
       "      <td>NaN</td>\n",
       "      <td>2017</td>\n",
       "      <td>0</td>\n",
       "      <td>0</td>\n",
       "      <td>...</td>\n",
       "      <td>1</td>\n",
       "      <td>1</td>\n",
       "      <td>0</td>\n",
       "      <td>0</td>\n",
       "      <td>0</td>\n",
       "      <td>0</td>\n",
       "      <td>0</td>\n",
       "      <td>0</td>\n",
       "      <td>0</td>\n",
       "      <td>0</td>\n",
       "    </tr>\n",
       "    <tr>\n",
       "      <th>28655</th>\n",
       "      <td>Maze Run VR</td>\n",
       "      <td>http://store.steampowered.com/app/681550/Maze_...</td>\n",
       "      <td>4.99</td>\n",
       "      <td>1</td>\n",
       "      <td>&lt;NA&gt;</td>\n",
       "      <td>Positive</td>\n",
       "      <td>NaN</td>\n",
       "      <td>2017</td>\n",
       "      <td>0</td>\n",
       "      <td>0</td>\n",
       "      <td>...</td>\n",
       "      <td>0</td>\n",
       "      <td>0</td>\n",
       "      <td>1</td>\n",
       "      <td>0</td>\n",
       "      <td>0</td>\n",
       "      <td>0</td>\n",
       "      <td>0</td>\n",
       "      <td>1</td>\n",
       "      <td>0</td>\n",
       "      <td>0</td>\n",
       "    </tr>\n",
       "  </tbody>\n",
       "</table>\n",
       "<p>28656 rows × 70 columns</p>\n",
       "</div>"
      ],
      "text/plain": [
       "                           app_name  \\\n",
       "0               Lost Summoner Kitty   \n",
       "1                           弹炸人2222   \n",
       "2                     Log Challenge   \n",
       "3             Battle Royale Trainer   \n",
       "4      SNOW - All Access Basic Pass   \n",
       "...                             ...   \n",
       "28651                Colony On Mars   \n",
       "28652      LOGistICAL: South Africa   \n",
       "28653                 Russian Roads   \n",
       "28654           EXIT 2 - Directions   \n",
       "28655                   Maze Run VR   \n",
       "\n",
       "                                                     url  price  early_access  \\\n",
       "0      http://store.steampowered.com/app/761140/Lost_...   4.99             0   \n",
       "1         http://store.steampowered.com/app/767400/2222/   0.99             0   \n",
       "2      http://store.steampowered.com/app/773570/Log_C...   2.99             0   \n",
       "3      http://store.steampowered.com/app/772540/Battl...   3.99             0   \n",
       "4      http://store.steampowered.com/app/774276/SNOW_...   9.99             0   \n",
       "...                                                  ...    ...           ...   \n",
       "28651  http://store.steampowered.com/app/773640/Colon...   1.99             0   \n",
       "28652  http://store.steampowered.com/app/733530/LOGis...   4.99             0   \n",
       "28653  http://store.steampowered.com/app/610660/Russi...   1.99             0   \n",
       "28654  http://store.steampowered.com/app/658870/EXIT_...   4.99             0   \n",
       "28655  http://store.steampowered.com/app/681550/Maze_...   4.99             1   \n",
       "\n",
       "                      developer        sentiment  metascore año_v  Accounting  \\\n",
       "0                     Kotoshiro             None        NaN  2018           0   \n",
       "1                          彼岸领域  Mostly Positive        NaN  2017           0   \n",
       "2                          <NA>   2 user reviews        NaN  2018           0   \n",
       "3           Trickjump Games Ltd            Mixed        NaN  2018           0   \n",
       "4        Poppermost Productions             None        NaN  2018           0   \n",
       "...                         ...              ...        ...   ...         ...   \n",
       "28651        Nikita \"Ghost_RUS\"         Negative        NaN  2018           0   \n",
       "28652                    Sacada   5 user reviews        NaN  2018           0   \n",
       "28653  Laush Dmitriy Sergeevich  Mostly Positive        NaN  2018           0   \n",
       "28654             xropi,stev3ns   1 user reviews        NaN  2017           0   \n",
       "28655                      <NA>         Positive        NaN  2017           0   \n",
       "\n",
       "       Action  ...  Steam Achievements  Steam Cloud  Steam Leaderboards  \\\n",
       "0           1  ...                   0            0                   0   \n",
       "1           1  ...                   0            0                   0   \n",
       "2           0  ...                   0            0                   0   \n",
       "3           1  ...                   1            0                   0   \n",
       "4           0  ...                   1            1                   1   \n",
       "...       ...  ...                 ...          ...                 ...   \n",
       "28651       0  ...                   1            0                   0   \n",
       "28652       0  ...                   1            1                   1   \n",
       "28653       0  ...                   1            0                   0   \n",
       "28654       0  ...                   1            1                   0   \n",
       "28655       0  ...                   0            0                   1   \n",
       "\n",
       "       Steam Trading Cards  Steam Turn Notifications  Steam Workshop  \\\n",
       "0                        0                         0               0   \n",
       "1                        0                         0               0   \n",
       "2                        0                         0               0   \n",
       "3                        0                         0               0   \n",
       "4                        1                         0               0   \n",
       "...                    ...                       ...             ...   \n",
       "28651                    0                         0               0   \n",
       "28652                    0                         0               0   \n",
       "28653                    1                         0               0   \n",
       "28654                    0                         0               0   \n",
       "28655                    0                         0               0   \n",
       "\n",
       "       SteamVR Collectibles  Tracked Motion Controllers  \\\n",
       "0                         0                           0   \n",
       "1                         0                           0   \n",
       "2                         0                           1   \n",
       "3                         0                           0   \n",
       "4                         0                           0   \n",
       "...                     ...                         ...   \n",
       "28651                     0                           0   \n",
       "28652                     0                           0   \n",
       "28653                     0                           0   \n",
       "28654                     0                           0   \n",
       "28655                     0                           1   \n",
       "\n",
       "       Valve Anti-Cheat enabled  Windows Mixed Reality  \n",
       "0                             0                      0  \n",
       "1                             0                      0  \n",
       "2                             0                      0  \n",
       "3                             0                      0  \n",
       "4                             0                      0  \n",
       "...                         ...                    ...  \n",
       "28651                         0                      0  \n",
       "28652                         0                      0  \n",
       "28653                         0                      0  \n",
       "28654                         0                      0  \n",
       "28655                         0                      0  \n",
       "\n",
       "[28656 rows x 70 columns]"
      ]
     },
     "execution_count": 4,
     "metadata": {},
     "output_type": "execute_result"
    }
   ],
   "source": [
    "df = pd.read_parquet(\"../data/parquet/steam_games_modelo.parquet\", engine=\"pyarrow\")\n",
    "df"
   ]
  },
  {
   "cell_type": "code",
   "execution_count": 5,
   "metadata": {},
   "outputs": [],
   "source": [
    "df2 = df.copy()"
   ]
  },
  {
   "cell_type": "markdown",
   "metadata": {},
   "source": [
    "## Dropeamos columnas que sentimos que son irrelevantes para nuestro modelo"
   ]
  },
  {
   "cell_type": "code",
   "execution_count": 7,
   "metadata": {},
   "outputs": [],
   "source": [
    "df2[\"año_v\"] = df2[\"año_v\"].astype(\"int64\")"
   ]
  },
  {
   "cell_type": "code",
   "execution_count": 8,
   "metadata": {},
   "outputs": [
    {
     "data": {
      "text/plain": [
       "2747"
      ]
     },
     "execution_count": 8,
     "metadata": {},
     "output_type": "execute_result"
    }
   ],
   "source": [
    "df2[\"developer\"].isnull().sum()"
   ]
  },
  {
   "cell_type": "code",
   "execution_count": 10,
   "metadata": {},
   "outputs": [
    {
     "data": {
      "text/html": [
       "<div>\n",
       "<style scoped>\n",
       "    .dataframe tbody tr th:only-of-type {\n",
       "        vertical-align: middle;\n",
       "    }\n",
       "\n",
       "    .dataframe tbody tr th {\n",
       "        vertical-align: top;\n",
       "    }\n",
       "\n",
       "    .dataframe thead th {\n",
       "        text-align: right;\n",
       "    }\n",
       "</style>\n",
       "<table border=\"1\" class=\"dataframe\">\n",
       "  <thead>\n",
       "    <tr style=\"text-align: right;\">\n",
       "      <th></th>\n",
       "      <th>price</th>\n",
       "      <th>early_access</th>\n",
       "      <th>metascore</th>\n",
       "      <th>año_v</th>\n",
       "      <th>Accounting</th>\n",
       "      <th>Action</th>\n",
       "      <th>Adventure</th>\n",
       "      <th>Animation &amp;amp; Modeling</th>\n",
       "      <th>Audio Production</th>\n",
       "      <th>Casual</th>\n",
       "      <th>...</th>\n",
       "      <th>Steam Achievements</th>\n",
       "      <th>Steam Cloud</th>\n",
       "      <th>Steam Leaderboards</th>\n",
       "      <th>Steam Trading Cards</th>\n",
       "      <th>Steam Turn Notifications</th>\n",
       "      <th>Steam Workshop</th>\n",
       "      <th>SteamVR Collectibles</th>\n",
       "      <th>Tracked Motion Controllers</th>\n",
       "      <th>Valve Anti-Cheat enabled</th>\n",
       "      <th>Windows Mixed Reality</th>\n",
       "    </tr>\n",
       "  </thead>\n",
       "  <tbody>\n",
       "    <tr>\n",
       "      <th>price</th>\n",
       "      <td>1.000000</td>\n",
       "      <td>0.054841</td>\n",
       "      <td>0.176329</td>\n",
       "      <td>0.021826</td>\n",
       "      <td>0.054885</td>\n",
       "      <td>-0.033370</td>\n",
       "      <td>-0.038166</td>\n",
       "      <td>0.128331</td>\n",
       "      <td>0.087434</td>\n",
       "      <td>-0.197992</td>\n",
       "      <td>...</td>\n",
       "      <td>-0.022659</td>\n",
       "      <td>0.007031</td>\n",
       "      <td>-0.056694</td>\n",
       "      <td>-0.011088</td>\n",
       "      <td>0.019854</td>\n",
       "      <td>0.097615</td>\n",
       "      <td>0.046663</td>\n",
       "      <td>0.035121</td>\n",
       "      <td>-0.002364</td>\n",
       "      <td>0.033266</td>\n",
       "    </tr>\n",
       "    <tr>\n",
       "      <th>early_access</th>\n",
       "      <td>0.054841</td>\n",
       "      <td>1.000000</td>\n",
       "      <td>0.019054</td>\n",
       "      <td>0.117289</td>\n",
       "      <td>-0.003590</td>\n",
       "      <td>0.046181</td>\n",
       "      <td>0.004377</td>\n",
       "      <td>0.000103</td>\n",
       "      <td>-0.006355</td>\n",
       "      <td>-0.048114</td>\n",
       "      <td>...</td>\n",
       "      <td>-0.085405</td>\n",
       "      <td>-0.071610</td>\n",
       "      <td>-0.042881</td>\n",
       "      <td>-0.089622</td>\n",
       "      <td>0.001727</td>\n",
       "      <td>0.004705</td>\n",
       "      <td>0.012903</td>\n",
       "      <td>0.205777</td>\n",
       "      <td>-0.021926</td>\n",
       "      <td>0.066635</td>\n",
       "    </tr>\n",
       "    <tr>\n",
       "      <th>metascore</th>\n",
       "      <td>0.176329</td>\n",
       "      <td>0.019054</td>\n",
       "      <td>1.000000</td>\n",
       "      <td>-0.108627</td>\n",
       "      <td>NaN</td>\n",
       "      <td>-0.040145</td>\n",
       "      <td>-0.048358</td>\n",
       "      <td>NaN</td>\n",
       "      <td>NaN</td>\n",
       "      <td>-0.019407</td>\n",
       "      <td>...</td>\n",
       "      <td>-0.041810</td>\n",
       "      <td>0.075076</td>\n",
       "      <td>-0.005490</td>\n",
       "      <td>-0.021350</td>\n",
       "      <td>0.008863</td>\n",
       "      <td>0.078064</td>\n",
       "      <td>0.038141</td>\n",
       "      <td>0.001697</td>\n",
       "      <td>0.046235</td>\n",
       "      <td>0.026958</td>\n",
       "    </tr>\n",
       "    <tr>\n",
       "      <th>año_v</th>\n",
       "      <td>0.021826</td>\n",
       "      <td>0.117289</td>\n",
       "      <td>-0.108627</td>\n",
       "      <td>1.000000</td>\n",
       "      <td>0.005521</td>\n",
       "      <td>-0.005767</td>\n",
       "      <td>0.032086</td>\n",
       "      <td>0.014287</td>\n",
       "      <td>0.010261</td>\n",
       "      <td>0.091080</td>\n",
       "      <td>...</td>\n",
       "      <td>0.163883</td>\n",
       "      <td>0.033799</td>\n",
       "      <td>0.037706</td>\n",
       "      <td>0.127097</td>\n",
       "      <td>0.012790</td>\n",
       "      <td>0.036288</td>\n",
       "      <td>0.015925</td>\n",
       "      <td>0.126250</td>\n",
       "      <td>-0.038822</td>\n",
       "      <td>0.043664</td>\n",
       "    </tr>\n",
       "    <tr>\n",
       "      <th>Accounting</th>\n",
       "      <td>0.054885</td>\n",
       "      <td>-0.003590</td>\n",
       "      <td>NaN</td>\n",
       "      <td>0.005521</td>\n",
       "      <td>1.000000</td>\n",
       "      <td>-0.010661</td>\n",
       "      <td>-0.008515</td>\n",
       "      <td>0.036412</td>\n",
       "      <td>0.047794</td>\n",
       "      <td>-0.008735</td>\n",
       "      <td>...</td>\n",
       "      <td>-0.015152</td>\n",
       "      <td>-0.010053</td>\n",
       "      <td>-0.007262</td>\n",
       "      <td>-0.011714</td>\n",
       "      <td>-0.000746</td>\n",
       "      <td>-0.003653</td>\n",
       "      <td>-0.000428</td>\n",
       "      <td>-0.003255</td>\n",
       "      <td>-0.001782</td>\n",
       "      <td>-0.000966</td>\n",
       "    </tr>\n",
       "    <tr>\n",
       "      <th>...</th>\n",
       "      <td>...</td>\n",
       "      <td>...</td>\n",
       "      <td>...</td>\n",
       "      <td>...</td>\n",
       "      <td>...</td>\n",
       "      <td>...</td>\n",
       "      <td>...</td>\n",
       "      <td>...</td>\n",
       "      <td>...</td>\n",
       "      <td>...</td>\n",
       "      <td>...</td>\n",
       "      <td>...</td>\n",
       "      <td>...</td>\n",
       "      <td>...</td>\n",
       "      <td>...</td>\n",
       "      <td>...</td>\n",
       "      <td>...</td>\n",
       "      <td>...</td>\n",
       "      <td>...</td>\n",
       "      <td>...</td>\n",
       "      <td>...</td>\n",
       "    </tr>\n",
       "    <tr>\n",
       "      <th>Steam Workshop</th>\n",
       "      <td>0.097615</td>\n",
       "      <td>0.004705</td>\n",
       "      <td>0.078064</td>\n",
       "      <td>0.036288</td>\n",
       "      <td>-0.003653</td>\n",
       "      <td>-0.052662</td>\n",
       "      <td>-0.085309</td>\n",
       "      <td>0.022337</td>\n",
       "      <td>-0.009625</td>\n",
       "      <td>-0.078931</td>\n",
       "      <td>...</td>\n",
       "      <td>0.130728</td>\n",
       "      <td>0.170107</td>\n",
       "      <td>0.135584</td>\n",
       "      <td>0.182914</td>\n",
       "      <td>0.012711</td>\n",
       "      <td>1.000000</td>\n",
       "      <td>-0.002480</td>\n",
       "      <td>-0.038930</td>\n",
       "      <td>0.028311</td>\n",
       "      <td>-0.005776</td>\n",
       "    </tr>\n",
       "    <tr>\n",
       "      <th>SteamVR Collectibles</th>\n",
       "      <td>0.046663</td>\n",
       "      <td>0.012903</td>\n",
       "      <td>0.038141</td>\n",
       "      <td>0.015925</td>\n",
       "      <td>-0.000428</td>\n",
       "      <td>-0.019294</td>\n",
       "      <td>-0.017388</td>\n",
       "      <td>-0.001916</td>\n",
       "      <td>-0.001473</td>\n",
       "      <td>-0.017836</td>\n",
       "      <td>...</td>\n",
       "      <td>0.006924</td>\n",
       "      <td>0.007220</td>\n",
       "      <td>0.008762</td>\n",
       "      <td>-0.004582</td>\n",
       "      <td>-0.001524</td>\n",
       "      <td>-0.002480</td>\n",
       "      <td>1.000000</td>\n",
       "      <td>0.125851</td>\n",
       "      <td>-0.003639</td>\n",
       "      <td>0.175972</td>\n",
       "    </tr>\n",
       "    <tr>\n",
       "      <th>Tracked Motion Controllers</th>\n",
       "      <td>0.035121</td>\n",
       "      <td>0.205777</td>\n",
       "      <td>0.001697</td>\n",
       "      <td>0.126250</td>\n",
       "      <td>-0.003255</td>\n",
       "      <td>-0.165705</td>\n",
       "      <td>-0.132354</td>\n",
       "      <td>-0.014586</td>\n",
       "      <td>-0.011210</td>\n",
       "      <td>-0.135764</td>\n",
       "      <td>...</td>\n",
       "      <td>-0.105303</td>\n",
       "      <td>-0.103735</td>\n",
       "      <td>-0.012841</td>\n",
       "      <td>-0.128737</td>\n",
       "      <td>-0.008430</td>\n",
       "      <td>-0.038930</td>\n",
       "      <td>0.125851</td>\n",
       "      <td>1.000000</td>\n",
       "      <td>-0.027697</td>\n",
       "      <td>0.289265</td>\n",
       "    </tr>\n",
       "    <tr>\n",
       "      <th>Valve Anti-Cheat enabled</th>\n",
       "      <td>-0.002364</td>\n",
       "      <td>-0.021926</td>\n",
       "      <td>0.046235</td>\n",
       "      <td>-0.038822</td>\n",
       "      <td>-0.001782</td>\n",
       "      <td>0.137624</td>\n",
       "      <td>-0.050734</td>\n",
       "      <td>-0.007985</td>\n",
       "      <td>-0.006137</td>\n",
       "      <td>-0.069120</td>\n",
       "      <td>...</td>\n",
       "      <td>0.090532</td>\n",
       "      <td>0.116462</td>\n",
       "      <td>0.149937</td>\n",
       "      <td>0.024464</td>\n",
       "      <td>-0.006350</td>\n",
       "      <td>0.028311</td>\n",
       "      <td>-0.003639</td>\n",
       "      <td>-0.027697</td>\n",
       "      <td>1.000000</td>\n",
       "      <td>-0.008216</td>\n",
       "    </tr>\n",
       "    <tr>\n",
       "      <th>Windows Mixed Reality</th>\n",
       "      <td>0.033266</td>\n",
       "      <td>0.066635</td>\n",
       "      <td>0.026958</td>\n",
       "      <td>0.043664</td>\n",
       "      <td>-0.000966</td>\n",
       "      <td>-0.049153</td>\n",
       "      <td>-0.039260</td>\n",
       "      <td>-0.004327</td>\n",
       "      <td>-0.003325</td>\n",
       "      <td>-0.040271</td>\n",
       "      <td>...</td>\n",
       "      <td>-0.014111</td>\n",
       "      <td>-0.026169</td>\n",
       "      <td>0.009770</td>\n",
       "      <td>-0.029297</td>\n",
       "      <td>-0.003441</td>\n",
       "      <td>-0.005776</td>\n",
       "      <td>0.175972</td>\n",
       "      <td>0.289265</td>\n",
       "      <td>-0.008216</td>\n",
       "      <td>1.000000</td>\n",
       "    </tr>\n",
       "  </tbody>\n",
       "</table>\n",
       "<p>66 rows × 66 columns</p>\n",
       "</div>"
      ],
      "text/plain": [
       "                               price  early_access  metascore     año_v  \\\n",
       "price                       1.000000      0.054841   0.176329  0.021826   \n",
       "early_access                0.054841      1.000000   0.019054  0.117289   \n",
       "metascore                   0.176329      0.019054   1.000000 -0.108627   \n",
       "año_v                       0.021826      0.117289  -0.108627  1.000000   \n",
       "Accounting                  0.054885     -0.003590        NaN  0.005521   \n",
       "...                              ...           ...        ...       ...   \n",
       "Steam Workshop              0.097615      0.004705   0.078064  0.036288   \n",
       "SteamVR Collectibles        0.046663      0.012903   0.038141  0.015925   \n",
       "Tracked Motion Controllers  0.035121      0.205777   0.001697  0.126250   \n",
       "Valve Anti-Cheat enabled   -0.002364     -0.021926   0.046235 -0.038822   \n",
       "Windows Mixed Reality       0.033266      0.066635   0.026958  0.043664   \n",
       "\n",
       "                            Accounting    Action  Adventure  \\\n",
       "price                         0.054885 -0.033370  -0.038166   \n",
       "early_access                 -0.003590  0.046181   0.004377   \n",
       "metascore                          NaN -0.040145  -0.048358   \n",
       "año_v                         0.005521 -0.005767   0.032086   \n",
       "Accounting                    1.000000 -0.010661  -0.008515   \n",
       "...                                ...       ...        ...   \n",
       "Steam Workshop               -0.003653 -0.052662  -0.085309   \n",
       "SteamVR Collectibles         -0.000428 -0.019294  -0.017388   \n",
       "Tracked Motion Controllers   -0.003255 -0.165705  -0.132354   \n",
       "Valve Anti-Cheat enabled     -0.001782  0.137624  -0.050734   \n",
       "Windows Mixed Reality        -0.000966 -0.049153  -0.039260   \n",
       "\n",
       "                            Animation &amp; Modeling  Audio Production  \\\n",
       "price                                       0.128331          0.087434   \n",
       "early_access                                0.000103         -0.006355   \n",
       "metascore                                        NaN               NaN   \n",
       "año_v                                       0.014287          0.010261   \n",
       "Accounting                                  0.036412          0.047794   \n",
       "...                                              ...               ...   \n",
       "Steam Workshop                              0.022337         -0.009625   \n",
       "SteamVR Collectibles                       -0.001916         -0.001473   \n",
       "Tracked Motion Controllers                 -0.014586         -0.011210   \n",
       "Valve Anti-Cheat enabled                   -0.007985         -0.006137   \n",
       "Windows Mixed Reality                      -0.004327         -0.003325   \n",
       "\n",
       "                              Casual  ...  Steam Achievements  Steam Cloud  \\\n",
       "price                      -0.197992  ...           -0.022659     0.007031   \n",
       "early_access               -0.048114  ...           -0.085405    -0.071610   \n",
       "metascore                  -0.019407  ...           -0.041810     0.075076   \n",
       "año_v                       0.091080  ...            0.163883     0.033799   \n",
       "Accounting                 -0.008735  ...           -0.015152    -0.010053   \n",
       "...                              ...  ...                 ...          ...   \n",
       "Steam Workshop             -0.078931  ...            0.130728     0.170107   \n",
       "SteamVR Collectibles       -0.017836  ...            0.006924     0.007220   \n",
       "Tracked Motion Controllers -0.135764  ...           -0.105303    -0.103735   \n",
       "Valve Anti-Cheat enabled   -0.069120  ...            0.090532     0.116462   \n",
       "Windows Mixed Reality      -0.040271  ...           -0.014111    -0.026169   \n",
       "\n",
       "                            Steam Leaderboards  Steam Trading Cards  \\\n",
       "price                                -0.056694            -0.011088   \n",
       "early_access                         -0.042881            -0.089622   \n",
       "metascore                            -0.005490            -0.021350   \n",
       "año_v                                 0.037706             0.127097   \n",
       "Accounting                           -0.007262            -0.011714   \n",
       "...                                        ...                  ...   \n",
       "Steam Workshop                        0.135584             0.182914   \n",
       "SteamVR Collectibles                  0.008762            -0.004582   \n",
       "Tracked Motion Controllers           -0.012841            -0.128737   \n",
       "Valve Anti-Cheat enabled              0.149937             0.024464   \n",
       "Windows Mixed Reality                 0.009770            -0.029297   \n",
       "\n",
       "                            Steam Turn Notifications  Steam Workshop  \\\n",
       "price                                       0.019854        0.097615   \n",
       "early_access                                0.001727        0.004705   \n",
       "metascore                                   0.008863        0.078064   \n",
       "año_v                                       0.012790        0.036288   \n",
       "Accounting                                 -0.000746       -0.003653   \n",
       "...                                              ...             ...   \n",
       "Steam Workshop                              0.012711        1.000000   \n",
       "SteamVR Collectibles                       -0.001524       -0.002480   \n",
       "Tracked Motion Controllers                 -0.008430       -0.038930   \n",
       "Valve Anti-Cheat enabled                   -0.006350        0.028311   \n",
       "Windows Mixed Reality                      -0.003441       -0.005776   \n",
       "\n",
       "                            SteamVR Collectibles  Tracked Motion Controllers  \\\n",
       "price                                   0.046663                    0.035121   \n",
       "early_access                            0.012903                    0.205777   \n",
       "metascore                               0.038141                    0.001697   \n",
       "año_v                                   0.015925                    0.126250   \n",
       "Accounting                             -0.000428                   -0.003255   \n",
       "...                                          ...                         ...   \n",
       "Steam Workshop                         -0.002480                   -0.038930   \n",
       "SteamVR Collectibles                    1.000000                    0.125851   \n",
       "Tracked Motion Controllers              0.125851                    1.000000   \n",
       "Valve Anti-Cheat enabled               -0.003639                   -0.027697   \n",
       "Windows Mixed Reality                   0.175972                    0.289265   \n",
       "\n",
       "                            Valve Anti-Cheat enabled  Windows Mixed Reality  \n",
       "price                                      -0.002364               0.033266  \n",
       "early_access                               -0.021926               0.066635  \n",
       "metascore                                   0.046235               0.026958  \n",
       "año_v                                      -0.038822               0.043664  \n",
       "Accounting                                 -0.001782              -0.000966  \n",
       "...                                              ...                    ...  \n",
       "Steam Workshop                              0.028311              -0.005776  \n",
       "SteamVR Collectibles                       -0.003639               0.175972  \n",
       "Tracked Motion Controllers                 -0.027697               0.289265  \n",
       "Valve Anti-Cheat enabled                    1.000000              -0.008216  \n",
       "Windows Mixed Reality                      -0.008216               1.000000  \n",
       "\n",
       "[66 rows x 66 columns]"
      ]
     },
     "execution_count": 10,
     "metadata": {},
     "output_type": "execute_result"
    }
   ],
   "source": [
    "df2.corr()"
   ]
  },
  {
   "cell_type": "code",
   "execution_count": 9,
   "metadata": {},
   "outputs": [
    {
     "data": {
      "text/plain": [
       "price                             0\n",
       "early_access                      0\n",
       "metascore                     26162\n",
       "año_v                             0\n",
       "Accounting                        0\n",
       "                              ...  \n",
       "Steam Workshop                    0\n",
       "SteamVR Collectibles              0\n",
       "Tracked Motion Controllers        0\n",
       "Valve Anti-Cheat enabled          0\n",
       "Windows Mixed Reality             0\n",
       "Length: 66, dtype: int64"
      ]
     },
     "execution_count": 9,
     "metadata": {},
     "output_type": "execute_result"
    }
   ],
   "source": [
    "df2_only_numeric = df2.select_dtypes(include=\"number\")\n",
    "df2_only_numeric.isna().sum()"
   ]
  },
  {
   "cell_type": "code",
   "execution_count": 29,
   "metadata": {},
   "outputs": [],
   "source": [
    "df_mod = df2_only_numeric.loc[:, [ \"price\",\"metascore\", \"año_v\",\"early_access\",\"Action\",\"Adventure\",\"Casual\",\"Indie\",\"Racing\",\"Simulation\",\"Sports\",\"Strategy\", \"Massively Multiplayer\", \"RPG\"]]"
   ]
  },
  {
   "cell_type": "code",
   "execution_count": 30,
   "metadata": {},
   "outputs": [],
   "source": [
    "df_mod.dropna(subset=[\"año_v\"], inplace=True)"
   ]
  },
  {
   "cell_type": "code",
   "execution_count": 33,
   "metadata": {},
   "outputs": [],
   "source": [
    "df_mod = df_mod[df_mod[\"año_v\"]<=2018]"
   ]
  },
  {
   "cell_type": "code",
   "execution_count": 34,
   "metadata": {},
   "outputs": [
    {
     "data": {
      "text/html": [
       "<div>\n",
       "<style scoped>\n",
       "    .dataframe tbody tr th:only-of-type {\n",
       "        vertical-align: middle;\n",
       "    }\n",
       "\n",
       "    .dataframe tbody tr th {\n",
       "        vertical-align: top;\n",
       "    }\n",
       "\n",
       "    .dataframe thead th {\n",
       "        text-align: right;\n",
       "    }\n",
       "</style>\n",
       "<table border=\"1\" class=\"dataframe\">\n",
       "  <thead>\n",
       "    <tr style=\"text-align: right;\">\n",
       "      <th></th>\n",
       "      <th>price</th>\n",
       "      <th>metascore</th>\n",
       "      <th>año_v</th>\n",
       "      <th>early_access</th>\n",
       "      <th>Action</th>\n",
       "      <th>Adventure</th>\n",
       "      <th>Casual</th>\n",
       "      <th>Indie</th>\n",
       "      <th>Racing</th>\n",
       "      <th>Simulation</th>\n",
       "      <th>Sports</th>\n",
       "      <th>Strategy</th>\n",
       "      <th>Massively Multiplayer</th>\n",
       "      <th>RPG</th>\n",
       "    </tr>\n",
       "  </thead>\n",
       "  <tbody>\n",
       "    <tr>\n",
       "      <th>1</th>\n",
       "      <td>0.99</td>\n",
       "      <td>NaN</td>\n",
       "      <td>2017</td>\n",
       "      <td>0</td>\n",
       "      <td>1</td>\n",
       "      <td>1</td>\n",
       "      <td>1</td>\n",
       "      <td>0</td>\n",
       "      <td>0</td>\n",
       "      <td>0</td>\n",
       "      <td>0</td>\n",
       "      <td>0</td>\n",
       "      <td>0</td>\n",
       "      <td>0</td>\n",
       "    </tr>\n",
       "    <tr>\n",
       "      <th>18</th>\n",
       "      <td>2.99</td>\n",
       "      <td>NaN</td>\n",
       "      <td>2017</td>\n",
       "      <td>0</td>\n",
       "      <td>0</td>\n",
       "      <td>0</td>\n",
       "      <td>0</td>\n",
       "      <td>0</td>\n",
       "      <td>1</td>\n",
       "      <td>1</td>\n",
       "      <td>1</td>\n",
       "      <td>0</td>\n",
       "      <td>0</td>\n",
       "      <td>0</td>\n",
       "    </tr>\n",
       "    <tr>\n",
       "      <th>19</th>\n",
       "      <td>2.99</td>\n",
       "      <td>NaN</td>\n",
       "      <td>2017</td>\n",
       "      <td>0</td>\n",
       "      <td>0</td>\n",
       "      <td>0</td>\n",
       "      <td>0</td>\n",
       "      <td>0</td>\n",
       "      <td>1</td>\n",
       "      <td>1</td>\n",
       "      <td>1</td>\n",
       "      <td>0</td>\n",
       "      <td>0</td>\n",
       "      <td>0</td>\n",
       "    </tr>\n",
       "    <tr>\n",
       "      <th>22</th>\n",
       "      <td>9.99</td>\n",
       "      <td>NaN</td>\n",
       "      <td>1997</td>\n",
       "      <td>0</td>\n",
       "      <td>1</td>\n",
       "      <td>0</td>\n",
       "      <td>0</td>\n",
       "      <td>1</td>\n",
       "      <td>1</td>\n",
       "      <td>0</td>\n",
       "      <td>0</td>\n",
       "      <td>0</td>\n",
       "      <td>0</td>\n",
       "      <td>0</td>\n",
       "    </tr>\n",
       "    <tr>\n",
       "      <th>23</th>\n",
       "      <td>9.99</td>\n",
       "      <td>96.0</td>\n",
       "      <td>1998</td>\n",
       "      <td>0</td>\n",
       "      <td>1</td>\n",
       "      <td>0</td>\n",
       "      <td>0</td>\n",
       "      <td>0</td>\n",
       "      <td>0</td>\n",
       "      <td>0</td>\n",
       "      <td>0</td>\n",
       "      <td>0</td>\n",
       "      <td>0</td>\n",
       "      <td>0</td>\n",
       "    </tr>\n",
       "    <tr>\n",
       "      <th>...</th>\n",
       "      <td>...</td>\n",
       "      <td>...</td>\n",
       "      <td>...</td>\n",
       "      <td>...</td>\n",
       "      <td>...</td>\n",
       "      <td>...</td>\n",
       "      <td>...</td>\n",
       "      <td>...</td>\n",
       "      <td>...</td>\n",
       "      <td>...</td>\n",
       "      <td>...</td>\n",
       "      <td>...</td>\n",
       "      <td>...</td>\n",
       "      <td>...</td>\n",
       "    </tr>\n",
       "    <tr>\n",
       "      <th>28641</th>\n",
       "      <td>14.99</td>\n",
       "      <td>93.0</td>\n",
       "      <td>2004</td>\n",
       "      <td>0</td>\n",
       "      <td>1</td>\n",
       "      <td>0</td>\n",
       "      <td>0</td>\n",
       "      <td>0</td>\n",
       "      <td>0</td>\n",
       "      <td>0</td>\n",
       "      <td>0</td>\n",
       "      <td>0</td>\n",
       "      <td>0</td>\n",
       "      <td>0</td>\n",
       "    </tr>\n",
       "    <tr>\n",
       "      <th>28642</th>\n",
       "      <td>9.99</td>\n",
       "      <td>65.0</td>\n",
       "      <td>2004</td>\n",
       "      <td>0</td>\n",
       "      <td>1</td>\n",
       "      <td>0</td>\n",
       "      <td>0</td>\n",
       "      <td>0</td>\n",
       "      <td>0</td>\n",
       "      <td>0</td>\n",
       "      <td>0</td>\n",
       "      <td>0</td>\n",
       "      <td>0</td>\n",
       "      <td>0</td>\n",
       "    </tr>\n",
       "    <tr>\n",
       "      <th>28645</th>\n",
       "      <td>4.99</td>\n",
       "      <td>NaN</td>\n",
       "      <td>2016</td>\n",
       "      <td>0</td>\n",
       "      <td>0</td>\n",
       "      <td>0</td>\n",
       "      <td>0</td>\n",
       "      <td>0</td>\n",
       "      <td>0</td>\n",
       "      <td>0</td>\n",
       "      <td>0</td>\n",
       "      <td>0</td>\n",
       "      <td>0</td>\n",
       "      <td>0</td>\n",
       "    </tr>\n",
       "    <tr>\n",
       "      <th>28654</th>\n",
       "      <td>4.99</td>\n",
       "      <td>NaN</td>\n",
       "      <td>2017</td>\n",
       "      <td>0</td>\n",
       "      <td>0</td>\n",
       "      <td>0</td>\n",
       "      <td>1</td>\n",
       "      <td>1</td>\n",
       "      <td>0</td>\n",
       "      <td>0</td>\n",
       "      <td>0</td>\n",
       "      <td>0</td>\n",
       "      <td>0</td>\n",
       "      <td>0</td>\n",
       "    </tr>\n",
       "    <tr>\n",
       "      <th>28655</th>\n",
       "      <td>4.99</td>\n",
       "      <td>NaN</td>\n",
       "      <td>2017</td>\n",
       "      <td>1</td>\n",
       "      <td>0</td>\n",
       "      <td>0</td>\n",
       "      <td>0</td>\n",
       "      <td>0</td>\n",
       "      <td>0</td>\n",
       "      <td>0</td>\n",
       "      <td>0</td>\n",
       "      <td>0</td>\n",
       "      <td>0</td>\n",
       "      <td>0</td>\n",
       "    </tr>\n",
       "  </tbody>\n",
       "</table>\n",
       "<p>28472 rows × 14 columns</p>\n",
       "</div>"
      ],
      "text/plain": [
       "       price  metascore  año_v  early_access  Action  Adventure  Casual  \\\n",
       "1       0.99        NaN   2017             0       1          1       1   \n",
       "18      2.99        NaN   2017             0       0          0       0   \n",
       "19      2.99        NaN   2017             0       0          0       0   \n",
       "22      9.99        NaN   1997             0       1          0       0   \n",
       "23      9.99       96.0   1998             0       1          0       0   \n",
       "...      ...        ...    ...           ...     ...        ...     ...   \n",
       "28641  14.99       93.0   2004             0       1          0       0   \n",
       "28642   9.99       65.0   2004             0       1          0       0   \n",
       "28645   4.99        NaN   2016             0       0          0       0   \n",
       "28654   4.99        NaN   2017             0       0          0       1   \n",
       "28655   4.99        NaN   2017             1       0          0       0   \n",
       "\n",
       "       Indie  Racing  Simulation  Sports  Strategy  Massively Multiplayer  RPG  \n",
       "1          0       0           0       0         0                      0    0  \n",
       "18         0       1           1       1         0                      0    0  \n",
       "19         0       1           1       1         0                      0    0  \n",
       "22         1       1           0       0         0                      0    0  \n",
       "23         0       0           0       0         0                      0    0  \n",
       "...      ...     ...         ...     ...       ...                    ...  ...  \n",
       "28641      0       0           0       0         0                      0    0  \n",
       "28642      0       0           0       0         0                      0    0  \n",
       "28645      0       0           0       0         0                      0    0  \n",
       "28654      1       0           0       0         0                      0    0  \n",
       "28655      0       0           0       0         0                      0    0  \n",
       "\n",
       "[28472 rows x 14 columns]"
      ]
     },
     "execution_count": 34,
     "metadata": {},
     "output_type": "execute_result"
    }
   ],
   "source": [
    "df_mod"
   ]
  },
  {
   "cell_type": "code",
   "execution_count": 35,
   "metadata": {},
   "outputs": [
    {
     "data": {
      "text/html": [
       "<div>\n",
       "<style scoped>\n",
       "    .dataframe tbody tr th:only-of-type {\n",
       "        vertical-align: middle;\n",
       "    }\n",
       "\n",
       "    .dataframe tbody tr th {\n",
       "        vertical-align: top;\n",
       "    }\n",
       "\n",
       "    .dataframe thead th {\n",
       "        text-align: right;\n",
       "    }\n",
       "</style>\n",
       "<table border=\"1\" class=\"dataframe\">\n",
       "  <thead>\n",
       "    <tr style=\"text-align: right;\">\n",
       "      <th></th>\n",
       "      <th>price</th>\n",
       "      <th>metascore</th>\n",
       "      <th>año_v</th>\n",
       "      <th>early_access</th>\n",
       "      <th>Action</th>\n",
       "      <th>Adventure</th>\n",
       "      <th>Casual</th>\n",
       "      <th>Indie</th>\n",
       "      <th>Racing</th>\n",
       "      <th>Simulation</th>\n",
       "      <th>Sports</th>\n",
       "      <th>Strategy</th>\n",
       "      <th>Massively Multiplayer</th>\n",
       "      <th>RPG</th>\n",
       "    </tr>\n",
       "  </thead>\n",
       "  <tbody>\n",
       "    <tr>\n",
       "      <th>1</th>\n",
       "      <td>0.99</td>\n",
       "      <td>NaN</td>\n",
       "      <td>2017</td>\n",
       "      <td>0</td>\n",
       "      <td>1</td>\n",
       "      <td>1</td>\n",
       "      <td>1</td>\n",
       "      <td>0</td>\n",
       "      <td>0</td>\n",
       "      <td>0</td>\n",
       "      <td>0</td>\n",
       "      <td>0</td>\n",
       "      <td>0</td>\n",
       "      <td>0</td>\n",
       "    </tr>\n",
       "    <tr>\n",
       "      <th>18</th>\n",
       "      <td>2.99</td>\n",
       "      <td>NaN</td>\n",
       "      <td>2017</td>\n",
       "      <td>0</td>\n",
       "      <td>0</td>\n",
       "      <td>0</td>\n",
       "      <td>0</td>\n",
       "      <td>0</td>\n",
       "      <td>1</td>\n",
       "      <td>1</td>\n",
       "      <td>1</td>\n",
       "      <td>0</td>\n",
       "      <td>0</td>\n",
       "      <td>0</td>\n",
       "    </tr>\n",
       "    <tr>\n",
       "      <th>19</th>\n",
       "      <td>2.99</td>\n",
       "      <td>NaN</td>\n",
       "      <td>2017</td>\n",
       "      <td>0</td>\n",
       "      <td>0</td>\n",
       "      <td>0</td>\n",
       "      <td>0</td>\n",
       "      <td>0</td>\n",
       "      <td>1</td>\n",
       "      <td>1</td>\n",
       "      <td>1</td>\n",
       "      <td>0</td>\n",
       "      <td>0</td>\n",
       "      <td>0</td>\n",
       "    </tr>\n",
       "    <tr>\n",
       "      <th>22</th>\n",
       "      <td>9.99</td>\n",
       "      <td>NaN</td>\n",
       "      <td>1997</td>\n",
       "      <td>0</td>\n",
       "      <td>1</td>\n",
       "      <td>0</td>\n",
       "      <td>0</td>\n",
       "      <td>1</td>\n",
       "      <td>1</td>\n",
       "      <td>0</td>\n",
       "      <td>0</td>\n",
       "      <td>0</td>\n",
       "      <td>0</td>\n",
       "      <td>0</td>\n",
       "    </tr>\n",
       "    <tr>\n",
       "      <th>23</th>\n",
       "      <td>9.99</td>\n",
       "      <td>96.0</td>\n",
       "      <td>1998</td>\n",
       "      <td>0</td>\n",
       "      <td>1</td>\n",
       "      <td>0</td>\n",
       "      <td>0</td>\n",
       "      <td>0</td>\n",
       "      <td>0</td>\n",
       "      <td>0</td>\n",
       "      <td>0</td>\n",
       "      <td>0</td>\n",
       "      <td>0</td>\n",
       "      <td>0</td>\n",
       "    </tr>\n",
       "  </tbody>\n",
       "</table>\n",
       "</div>"
      ],
      "text/plain": [
       "    price  metascore  año_v  early_access  Action  Adventure  Casual  Indie  \\\n",
       "1    0.99        NaN   2017             0       1          1       1      0   \n",
       "18   2.99        NaN   2017             0       0          0       0      0   \n",
       "19   2.99        NaN   2017             0       0          0       0      0   \n",
       "22   9.99        NaN   1997             0       1          0       0      1   \n",
       "23   9.99       96.0   1998             0       1          0       0      0   \n",
       "\n",
       "    Racing  Simulation  Sports  Strategy  Massively Multiplayer  RPG  \n",
       "1        0           0       0         0                      0    0  \n",
       "18       1           1       1         0                      0    0  \n",
       "19       1           1       1         0                      0    0  \n",
       "22       1           0       0         0                      0    0  \n",
       "23       0           0       0         0                      0    0  "
      ]
     },
     "execution_count": 35,
     "metadata": {},
     "output_type": "execute_result"
    }
   ],
   "source": [
    "df_mod.head()"
   ]
  },
  {
   "cell_type": "code",
   "execution_count": 36,
   "metadata": {},
   "outputs": [
    {
     "data": {
      "text/html": [
       "<div>\n",
       "<style scoped>\n",
       "    .dataframe tbody tr th:only-of-type {\n",
       "        vertical-align: middle;\n",
       "    }\n",
       "\n",
       "    .dataframe tbody tr th {\n",
       "        vertical-align: top;\n",
       "    }\n",
       "\n",
       "    .dataframe thead th {\n",
       "        text-align: right;\n",
       "    }\n",
       "</style>\n",
       "<table border=\"1\" class=\"dataframe\">\n",
       "  <thead>\n",
       "    <tr style=\"text-align: right;\">\n",
       "      <th></th>\n",
       "      <th>price</th>\n",
       "      <th>metascore</th>\n",
       "      <th>año_v</th>\n",
       "      <th>early_access</th>\n",
       "      <th>Action</th>\n",
       "      <th>Adventure</th>\n",
       "      <th>Casual</th>\n",
       "      <th>Indie</th>\n",
       "      <th>Racing</th>\n",
       "      <th>Simulation</th>\n",
       "      <th>Sports</th>\n",
       "      <th>Strategy</th>\n",
       "      <th>Massively Multiplayer</th>\n",
       "      <th>RPG</th>\n",
       "    </tr>\n",
       "  </thead>\n",
       "  <tbody>\n",
       "    <tr>\n",
       "      <th>price</th>\n",
       "      <td>1.000000</td>\n",
       "      <td>0.176329</td>\n",
       "      <td>0.020059</td>\n",
       "      <td>0.049798</td>\n",
       "      <td>-0.032448</td>\n",
       "      <td>-0.036905</td>\n",
       "      <td>-0.197237</td>\n",
       "      <td>-0.190423</td>\n",
       "      <td>-0.003171</td>\n",
       "      <td>0.069875</td>\n",
       "      <td>0.034046</td>\n",
       "      <td>0.029402</td>\n",
       "      <td>0.192269</td>\n",
       "      <td>0.058314</td>\n",
       "    </tr>\n",
       "    <tr>\n",
       "      <th>metascore</th>\n",
       "      <td>0.176329</td>\n",
       "      <td>1.000000</td>\n",
       "      <td>-0.108627</td>\n",
       "      <td>0.019054</td>\n",
       "      <td>-0.040145</td>\n",
       "      <td>-0.048358</td>\n",
       "      <td>-0.019407</td>\n",
       "      <td>-0.082380</td>\n",
       "      <td>-0.009380</td>\n",
       "      <td>-0.048767</td>\n",
       "      <td>0.019172</td>\n",
       "      <td>0.013920</td>\n",
       "      <td>0.044180</td>\n",
       "      <td>0.048786</td>\n",
       "    </tr>\n",
       "    <tr>\n",
       "      <th>año_v</th>\n",
       "      <td>0.020059</td>\n",
       "      <td>-0.108627</td>\n",
       "      <td>1.000000</td>\n",
       "      <td>0.101072</td>\n",
       "      <td>-0.002818</td>\n",
       "      <td>0.034255</td>\n",
       "      <td>0.094410</td>\n",
       "      <td>0.230958</td>\n",
       "      <td>0.002016</td>\n",
       "      <td>0.027127</td>\n",
       "      <td>0.051835</td>\n",
       "      <td>-0.008990</td>\n",
       "      <td>0.050630</td>\n",
       "      <td>0.052025</td>\n",
       "    </tr>\n",
       "    <tr>\n",
       "      <th>early_access</th>\n",
       "      <td>0.049798</td>\n",
       "      <td>0.019054</td>\n",
       "      <td>0.101072</td>\n",
       "      <td>1.000000</td>\n",
       "      <td>0.057501</td>\n",
       "      <td>0.013330</td>\n",
       "      <td>-0.039385</td>\n",
       "      <td>0.097187</td>\n",
       "      <td>0.013666</td>\n",
       "      <td>0.006985</td>\n",
       "      <td>0.010596</td>\n",
       "      <td>0.004051</td>\n",
       "      <td>0.031989</td>\n",
       "      <td>0.028563</td>\n",
       "    </tr>\n",
       "    <tr>\n",
       "      <th>Action</th>\n",
       "      <td>-0.032448</td>\n",
       "      <td>-0.040145</td>\n",
       "      <td>-0.002818</td>\n",
       "      <td>0.057501</td>\n",
       "      <td>1.000000</td>\n",
       "      <td>0.147568</td>\n",
       "      <td>-0.121803</td>\n",
       "      <td>0.192787</td>\n",
       "      <td>0.020970</td>\n",
       "      <td>-0.225855</td>\n",
       "      <td>-0.019499</td>\n",
       "      <td>-0.153610</td>\n",
       "      <td>0.074137</td>\n",
       "      <td>-0.023741</td>\n",
       "    </tr>\n",
       "    <tr>\n",
       "      <th>Adventure</th>\n",
       "      <td>-0.036905</td>\n",
       "      <td>-0.048358</td>\n",
       "      <td>0.034255</td>\n",
       "      <td>0.013330</td>\n",
       "      <td>0.147568</td>\n",
       "      <td>1.000000</td>\n",
       "      <td>0.059001</td>\n",
       "      <td>0.235869</td>\n",
       "      <td>-0.061325</td>\n",
       "      <td>-0.168073</td>\n",
       "      <td>-0.073537</td>\n",
       "      <td>-0.117305</td>\n",
       "      <td>0.004922</td>\n",
       "      <td>0.126709</td>\n",
       "    </tr>\n",
       "    <tr>\n",
       "      <th>Casual</th>\n",
       "      <td>-0.197237</td>\n",
       "      <td>-0.019407</td>\n",
       "      <td>0.094410</td>\n",
       "      <td>-0.039385</td>\n",
       "      <td>-0.121803</td>\n",
       "      <td>0.059001</td>\n",
       "      <td>1.000000</td>\n",
       "      <td>0.163714</td>\n",
       "      <td>-0.029734</td>\n",
       "      <td>0.188448</td>\n",
       "      <td>0.042680</td>\n",
       "      <td>-0.036126</td>\n",
       "      <td>-0.031187</td>\n",
       "      <td>-0.126140</td>\n",
       "    </tr>\n",
       "    <tr>\n",
       "      <th>Indie</th>\n",
       "      <td>-0.190423</td>\n",
       "      <td>-0.082380</td>\n",
       "      <td>0.230958</td>\n",
       "      <td>0.097187</td>\n",
       "      <td>0.192787</td>\n",
       "      <td>0.235869</td>\n",
       "      <td>0.163714</td>\n",
       "      <td>1.000000</td>\n",
       "      <td>-0.015383</td>\n",
       "      <td>-0.145195</td>\n",
       "      <td>-0.005317</td>\n",
       "      <td>0.138274</td>\n",
       "      <td>-0.034201</td>\n",
       "      <td>0.172696</td>\n",
       "    </tr>\n",
       "    <tr>\n",
       "      <th>Racing</th>\n",
       "      <td>-0.003171</td>\n",
       "      <td>-0.009380</td>\n",
       "      <td>0.002016</td>\n",
       "      <td>0.013666</td>\n",
       "      <td>0.020970</td>\n",
       "      <td>-0.061325</td>\n",
       "      <td>-0.029734</td>\n",
       "      <td>-0.015383</td>\n",
       "      <td>1.000000</td>\n",
       "      <td>0.081002</td>\n",
       "      <td>0.373041</td>\n",
       "      <td>-0.076402</td>\n",
       "      <td>0.014930</td>\n",
       "      <td>-0.072482</td>\n",
       "    </tr>\n",
       "    <tr>\n",
       "      <th>Simulation</th>\n",
       "      <td>0.069875</td>\n",
       "      <td>-0.048767</td>\n",
       "      <td>0.027127</td>\n",
       "      <td>0.006985</td>\n",
       "      <td>-0.225855</td>\n",
       "      <td>-0.168073</td>\n",
       "      <td>0.188448</td>\n",
       "      <td>-0.145195</td>\n",
       "      <td>0.081002</td>\n",
       "      <td>1.000000</td>\n",
       "      <td>0.205505</td>\n",
       "      <td>0.041585</td>\n",
       "      <td>0.008544</td>\n",
       "      <td>-0.114784</td>\n",
       "    </tr>\n",
       "    <tr>\n",
       "      <th>Sports</th>\n",
       "      <td>0.034046</td>\n",
       "      <td>0.019172</td>\n",
       "      <td>0.051835</td>\n",
       "      <td>0.010596</td>\n",
       "      <td>-0.019499</td>\n",
       "      <td>-0.073537</td>\n",
       "      <td>0.042680</td>\n",
       "      <td>-0.005317</td>\n",
       "      <td>0.373041</td>\n",
       "      <td>0.205505</td>\n",
       "      <td>1.000000</td>\n",
       "      <td>0.001767</td>\n",
       "      <td>0.039657</td>\n",
       "      <td>-0.079445</td>\n",
       "    </tr>\n",
       "    <tr>\n",
       "      <th>Strategy</th>\n",
       "      <td>0.029402</td>\n",
       "      <td>0.013920</td>\n",
       "      <td>-0.008990</td>\n",
       "      <td>0.004051</td>\n",
       "      <td>-0.153610</td>\n",
       "      <td>-0.117305</td>\n",
       "      <td>-0.036126</td>\n",
       "      <td>0.138274</td>\n",
       "      <td>-0.076402</td>\n",
       "      <td>0.041585</td>\n",
       "      <td>0.001767</td>\n",
       "      <td>1.000000</td>\n",
       "      <td>0.017003</td>\n",
       "      <td>0.214650</td>\n",
       "    </tr>\n",
       "    <tr>\n",
       "      <th>Massively Multiplayer</th>\n",
       "      <td>0.192269</td>\n",
       "      <td>0.044180</td>\n",
       "      <td>0.050630</td>\n",
       "      <td>0.031989</td>\n",
       "      <td>0.074137</td>\n",
       "      <td>0.004922</td>\n",
       "      <td>-0.031187</td>\n",
       "      <td>-0.034201</td>\n",
       "      <td>0.014930</td>\n",
       "      <td>0.008544</td>\n",
       "      <td>0.039657</td>\n",
       "      <td>0.017003</td>\n",
       "      <td>1.000000</td>\n",
       "      <td>0.148978</td>\n",
       "    </tr>\n",
       "    <tr>\n",
       "      <th>RPG</th>\n",
       "      <td>0.058314</td>\n",
       "      <td>0.048786</td>\n",
       "      <td>0.052025</td>\n",
       "      <td>0.028563</td>\n",
       "      <td>-0.023741</td>\n",
       "      <td>0.126709</td>\n",
       "      <td>-0.126140</td>\n",
       "      <td>0.172696</td>\n",
       "      <td>-0.072482</td>\n",
       "      <td>-0.114784</td>\n",
       "      <td>-0.079445</td>\n",
       "      <td>0.214650</td>\n",
       "      <td>0.148978</td>\n",
       "      <td>1.000000</td>\n",
       "    </tr>\n",
       "  </tbody>\n",
       "</table>\n",
       "</div>"
      ],
      "text/plain": [
       "                          price  metascore     año_v  early_access    Action  \\\n",
       "price                  1.000000   0.176329  0.020059      0.049798 -0.032448   \n",
       "metascore              0.176329   1.000000 -0.108627      0.019054 -0.040145   \n",
       "año_v                  0.020059  -0.108627  1.000000      0.101072 -0.002818   \n",
       "early_access           0.049798   0.019054  0.101072      1.000000  0.057501   \n",
       "Action                -0.032448  -0.040145 -0.002818      0.057501  1.000000   \n",
       "Adventure             -0.036905  -0.048358  0.034255      0.013330  0.147568   \n",
       "Casual                -0.197237  -0.019407  0.094410     -0.039385 -0.121803   \n",
       "Indie                 -0.190423  -0.082380  0.230958      0.097187  0.192787   \n",
       "Racing                -0.003171  -0.009380  0.002016      0.013666  0.020970   \n",
       "Simulation             0.069875  -0.048767  0.027127      0.006985 -0.225855   \n",
       "Sports                 0.034046   0.019172  0.051835      0.010596 -0.019499   \n",
       "Strategy               0.029402   0.013920 -0.008990      0.004051 -0.153610   \n",
       "Massively Multiplayer  0.192269   0.044180  0.050630      0.031989  0.074137   \n",
       "RPG                    0.058314   0.048786  0.052025      0.028563 -0.023741   \n",
       "\n",
       "                       Adventure    Casual     Indie    Racing  Simulation  \\\n",
       "price                  -0.036905 -0.197237 -0.190423 -0.003171    0.069875   \n",
       "metascore              -0.048358 -0.019407 -0.082380 -0.009380   -0.048767   \n",
       "año_v                   0.034255  0.094410  0.230958  0.002016    0.027127   \n",
       "early_access            0.013330 -0.039385  0.097187  0.013666    0.006985   \n",
       "Action                  0.147568 -0.121803  0.192787  0.020970   -0.225855   \n",
       "Adventure               1.000000  0.059001  0.235869 -0.061325   -0.168073   \n",
       "Casual                  0.059001  1.000000  0.163714 -0.029734    0.188448   \n",
       "Indie                   0.235869  0.163714  1.000000 -0.015383   -0.145195   \n",
       "Racing                 -0.061325 -0.029734 -0.015383  1.000000    0.081002   \n",
       "Simulation             -0.168073  0.188448 -0.145195  0.081002    1.000000   \n",
       "Sports                 -0.073537  0.042680 -0.005317  0.373041    0.205505   \n",
       "Strategy               -0.117305 -0.036126  0.138274 -0.076402    0.041585   \n",
       "Massively Multiplayer   0.004922 -0.031187 -0.034201  0.014930    0.008544   \n",
       "RPG                     0.126709 -0.126140  0.172696 -0.072482   -0.114784   \n",
       "\n",
       "                         Sports  Strategy  Massively Multiplayer       RPG  \n",
       "price                  0.034046  0.029402               0.192269  0.058314  \n",
       "metascore              0.019172  0.013920               0.044180  0.048786  \n",
       "año_v                  0.051835 -0.008990               0.050630  0.052025  \n",
       "early_access           0.010596  0.004051               0.031989  0.028563  \n",
       "Action                -0.019499 -0.153610               0.074137 -0.023741  \n",
       "Adventure             -0.073537 -0.117305               0.004922  0.126709  \n",
       "Casual                 0.042680 -0.036126              -0.031187 -0.126140  \n",
       "Indie                 -0.005317  0.138274              -0.034201  0.172696  \n",
       "Racing                 0.373041 -0.076402               0.014930 -0.072482  \n",
       "Simulation             0.205505  0.041585               0.008544 -0.114784  \n",
       "Sports                 1.000000  0.001767               0.039657 -0.079445  \n",
       "Strategy               0.001767  1.000000               0.017003  0.214650  \n",
       "Massively Multiplayer  0.039657  0.017003               1.000000  0.148978  \n",
       "RPG                   -0.079445  0.214650               0.148978  1.000000  "
      ]
     },
     "execution_count": 36,
     "metadata": {},
     "output_type": "execute_result"
    }
   ],
   "source": [
    "df_mod.corr()"
   ]
  },
  {
   "cell_type": "code",
   "execution_count": 37,
   "metadata": {},
   "outputs": [
    {
     "data": {
      "text/plain": [
       "<AxesSubplot:>"
      ]
     },
     "execution_count": 37,
     "metadata": {},
     "output_type": "execute_result"
    },
    {
     "data": {
      "image/png": "[encoded data removed]",
      "text/plain": [
       "<Figure size 640x480 with 2 Axes>"
      ]
     },
     "metadata": {},
     "output_type": "display_data"
    }
   ],
   "source": [
    "sns.heatmap(data=df_mod.corr(), annot=True)"
   ]
  },
  {
   "cell_type": "code",
   "execution_count": 1920,
   "metadata": {},
   "outputs": [
    {
     "data": {
      "text/html": [
       "<div>\n",
       "<style scoped>\n",
       "    .dataframe tbody tr th:only-of-type {\n",
       "        vertical-align: middle;\n",
       "    }\n",
       "\n",
       "    .dataframe tbody tr th {\n",
       "        vertical-align: top;\n",
       "    }\n",
       "\n",
       "    .dataframe thead th {\n",
       "        text-align: right;\n",
       "    }\n",
       "</style>\n",
       "<table border=\"1\" class=\"dataframe\">\n",
       "  <thead>\n",
       "    <tr style=\"text-align: right;\">\n",
       "      <th></th>\n",
       "      <th>price</th>\n",
       "      <th>metascore</th>\n",
       "      <th>año_v</th>\n",
       "      <th>early_access</th>\n",
       "      <th>Action</th>\n",
       "      <th>Adventure</th>\n",
       "      <th>Casual</th>\n",
       "      <th>Indie</th>\n",
       "      <th>Racing</th>\n",
       "      <th>Simulation</th>\n",
       "      <th>Sports</th>\n",
       "      <th>Strategy</th>\n",
       "      <th>Massively Multiplayer</th>\n",
       "      <th>RPG</th>\n",
       "    </tr>\n",
       "  </thead>\n",
       "  <tbody>\n",
       "    <tr>\n",
       "      <th>count</th>\n",
       "      <td>28603.000000</td>\n",
       "      <td>2494.000000</td>\n",
       "      <td>28603.000000</td>\n",
       "      <td>28603.000000</td>\n",
       "      <td>28603.000000</td>\n",
       "      <td>28603.000000</td>\n",
       "      <td>28603.000000</td>\n",
       "      <td>28603.000000</td>\n",
       "      <td>28603.000000</td>\n",
       "      <td>28603.000000</td>\n",
       "      <td>28603.000000</td>\n",
       "      <td>28603.000000</td>\n",
       "      <td>28603.000000</td>\n",
       "      <td>28603.000000</td>\n",
       "    </tr>\n",
       "    <tr>\n",
       "      <th>mean</th>\n",
       "      <td>8.771905</td>\n",
       "      <td>72.244988</td>\n",
       "      <td>2014.815474</td>\n",
       "      <td>0.056323</td>\n",
       "      <td>0.352411</td>\n",
       "      <td>0.257595</td>\n",
       "      <td>0.267524</td>\n",
       "      <td>0.498025</td>\n",
       "      <td>0.034507</td>\n",
       "      <td>0.218404</td>\n",
       "      <td>0.039681</td>\n",
       "      <td>0.221061</td>\n",
       "      <td>0.025172</td>\n",
       "      <td>0.165752</td>\n",
       "    </tr>\n",
       "    <tr>\n",
       "      <th>std</th>\n",
       "      <td>9.329503</td>\n",
       "      <td>10.789183</td>\n",
       "      <td>3.510252</td>\n",
       "      <td>0.230548</td>\n",
       "      <td>0.477729</td>\n",
       "      <td>0.437318</td>\n",
       "      <td>0.442676</td>\n",
       "      <td>0.500005</td>\n",
       "      <td>0.182530</td>\n",
       "      <td>0.413170</td>\n",
       "      <td>0.195212</td>\n",
       "      <td>0.414969</td>\n",
       "      <td>0.156651</td>\n",
       "      <td>0.371864</td>\n",
       "    </tr>\n",
       "    <tr>\n",
       "      <th>min</th>\n",
       "      <td>0.490000</td>\n",
       "      <td>20.000000</td>\n",
       "      <td>1970.000000</td>\n",
       "      <td>0.000000</td>\n",
       "      <td>0.000000</td>\n",
       "      <td>0.000000</td>\n",
       "      <td>0.000000</td>\n",
       "      <td>0.000000</td>\n",
       "      <td>0.000000</td>\n",
       "      <td>0.000000</td>\n",
       "      <td>0.000000</td>\n",
       "      <td>0.000000</td>\n",
       "      <td>0.000000</td>\n",
       "      <td>0.000000</td>\n",
       "    </tr>\n",
       "    <tr>\n",
       "      <th>25%</th>\n",
       "      <td>2.990000</td>\n",
       "      <td>66.000000</td>\n",
       "      <td>2014.000000</td>\n",
       "      <td>0.000000</td>\n",
       "      <td>0.000000</td>\n",
       "      <td>0.000000</td>\n",
       "      <td>0.000000</td>\n",
       "      <td>0.000000</td>\n",
       "      <td>0.000000</td>\n",
       "      <td>0.000000</td>\n",
       "      <td>0.000000</td>\n",
       "      <td>0.000000</td>\n",
       "      <td>0.000000</td>\n",
       "      <td>0.000000</td>\n",
       "    </tr>\n",
       "    <tr>\n",
       "      <th>50%</th>\n",
       "      <td>4.990000</td>\n",
       "      <td>74.000000</td>\n",
       "      <td>2016.000000</td>\n",
       "      <td>0.000000</td>\n",
       "      <td>0.000000</td>\n",
       "      <td>0.000000</td>\n",
       "      <td>0.000000</td>\n",
       "      <td>0.000000</td>\n",
       "      <td>0.000000</td>\n",
       "      <td>0.000000</td>\n",
       "      <td>0.000000</td>\n",
       "      <td>0.000000</td>\n",
       "      <td>0.000000</td>\n",
       "      <td>0.000000</td>\n",
       "    </tr>\n",
       "    <tr>\n",
       "      <th>75%</th>\n",
       "      <td>9.990000</td>\n",
       "      <td>80.000000</td>\n",
       "      <td>2017.000000</td>\n",
       "      <td>0.000000</td>\n",
       "      <td>1.000000</td>\n",
       "      <td>1.000000</td>\n",
       "      <td>1.000000</td>\n",
       "      <td>1.000000</td>\n",
       "      <td>0.000000</td>\n",
       "      <td>0.000000</td>\n",
       "      <td>0.000000</td>\n",
       "      <td>0.000000</td>\n",
       "      <td>0.000000</td>\n",
       "      <td>0.000000</td>\n",
       "    </tr>\n",
       "    <tr>\n",
       "      <th>max</th>\n",
       "      <td>89.990000</td>\n",
       "      <td>96.000000</td>\n",
       "      <td>2018.000000</td>\n",
       "      <td>1.000000</td>\n",
       "      <td>1.000000</td>\n",
       "      <td>1.000000</td>\n",
       "      <td>1.000000</td>\n",
       "      <td>1.000000</td>\n",
       "      <td>1.000000</td>\n",
       "      <td>1.000000</td>\n",
       "      <td>1.000000</td>\n",
       "      <td>1.000000</td>\n",
       "      <td>1.000000</td>\n",
       "      <td>1.000000</td>\n",
       "    </tr>\n",
       "  </tbody>\n",
       "</table>\n",
       "</div>"
      ],
      "text/plain": [
       "              price    metascore         año_v  early_access        Action  \\\n",
       "count  28603.000000  2494.000000  28603.000000  28603.000000  28603.000000   \n",
       "mean       8.771905    72.244988   2014.815474      0.056323      0.352411   \n",
       "std        9.329503    10.789183      3.510252      0.230548      0.477729   \n",
       "min        0.490000    20.000000   1970.000000      0.000000      0.000000   \n",
       "25%        2.990000    66.000000   2014.000000      0.000000      0.000000   \n",
       "50%        4.990000    74.000000   2016.000000      0.000000      0.000000   \n",
       "75%        9.990000    80.000000   2017.000000      0.000000      1.000000   \n",
       "max       89.990000    96.000000   2018.000000      1.000000      1.000000   \n",
       "\n",
       "          Adventure        Casual         Indie        Racing    Simulation  \\\n",
       "count  28603.000000  28603.000000  28603.000000  28603.000000  28603.000000   \n",
       "mean       0.257595      0.267524      0.498025      0.034507      0.218404   \n",
       "std        0.437318      0.442676      0.500005      0.182530      0.413170   \n",
       "min        0.000000      0.000000      0.000000      0.000000      0.000000   \n",
       "25%        0.000000      0.000000      0.000000      0.000000      0.000000   \n",
       "50%        0.000000      0.000000      0.000000      0.000000      0.000000   \n",
       "75%        1.000000      1.000000      1.000000      0.000000      0.000000   \n",
       "max        1.000000      1.000000      1.000000      1.000000      1.000000   \n",
       "\n",
       "             Sports      Strategy  Massively Multiplayer           RPG  \n",
       "count  28603.000000  28603.000000           28603.000000  28603.000000  \n",
       "mean       0.039681      0.221061               0.025172      0.165752  \n",
       "std        0.195212      0.414969               0.156651      0.371864  \n",
       "min        0.000000      0.000000               0.000000      0.000000  \n",
       "25%        0.000000      0.000000               0.000000      0.000000  \n",
       "50%        0.000000      0.000000               0.000000      0.000000  \n",
       "75%        0.000000      0.000000               0.000000      0.000000  \n",
       "max        1.000000      1.000000               1.000000      1.000000  "
      ]
     },
     "execution_count": 1920,
     "metadata": {},
     "output_type": "execute_result"
    }
   ],
   "source": [
    "df_mod.describe()"
   ]
  },
  {
   "cell_type": "markdown",
   "metadata": {},
   "source": [
    "## Momento de entrenar el modelo"
   ]
  },
  {
   "cell_type": "code",
   "execution_count": 38,
   "metadata": {},
   "outputs": [],
   "source": [
    "from sklearn.preprocessing import PolynomialFeatures, StandardScaler\n",
    "from sklearn.model_selection import train_test_split, GridSearchCV, cross_val_score, cross_validate\n",
    "from sklearn.linear_model import LinearRegression,  Ridge, Lasso\n",
    "from sklearn.metrics import mean_squared_error, r2_score\n",
    "from sklearn.impute import SimpleImputer \n",
    "from sklearn.ensemble import GradientBoostingRegressor,RandomForestRegressor\n",
    "from sklearn.svm import SVR"
   ]
  },
  {
   "cell_type": "code",
   "execution_count": 39,
   "metadata": {},
   "outputs": [],
   "source": [
    "features_to_normalize = [\"metascore\", \"año_v\"]\n",
    "scaler = StandardScaler()\n",
    "df_mod[features_to_normalize] = scaler.fit_transform(df_mod[features_to_normalize])"
   ]
  },
  {
   "cell_type": "code",
   "execution_count": 40,
   "metadata": {},
   "outputs": [
    {
     "data": {
      "text/plain": [
       "0.49"
      ]
     },
     "execution_count": 40,
     "metadata": {},
     "output_type": "execute_result"
    }
   ],
   "source": [
    "df_mod[\"price\"].min()"
   ]
  },
  {
   "cell_type": "code",
   "execution_count": 41,
   "metadata": {},
   "outputs": [
    {
     "data": {
      "text/plain": [
       "89.99"
      ]
     },
     "execution_count": 41,
     "metadata": {},
     "output_type": "execute_result"
    }
   ],
   "source": [
    "df_mod[\"price\"].max()"
   ]
  },
  {
   "cell_type": "markdown",
   "metadata": {},
   "source": [
    "## Funcion que nos permite ver el modelo y poder saber el valor de RMSE que maneja"
   ]
  },
  {
   "cell_type": "code",
   "execution_count": 43,
   "metadata": {},
   "outputs": [],
   "source": [
    "def RMSE_AND_R2(modelo, X_test, y_test) : \n",
    "    y_pred = modelo.predict(X_test)\n",
    "    mse = mean_squared_error(y_test, y_pred)\n",
    "    rmse = np.sqrt(mse)\n",
    "    r2 = r2_score(y_test, y_pred)\n",
    "    return {F\"El RMSE de tu {modelo} es {rmse}, y el r2 {r2}\"}"
   ]
  },
  {
   "cell_type": "markdown",
   "metadata": {},
   "source": [
    "### Acá separe los diferentes df dependiendo de si haciamos un dropna o un drop a la columna metascore"
   ]
  },
  {
   "cell_type": "code",
   "execution_count": 44,
   "metadata": {},
   "outputs": [],
   "source": [
    "df_mod_sinmetascore = df_mod.drop(columns=\"metascore\")\n",
    "df_mod_predecirmetascore_dropna = df_mod.dropna(subset=\"metascore\")## dropna metascore"
   ]
  },
  {
   "cell_type": "code",
   "execution_count": 45,
   "metadata": {},
   "outputs": [],
   "source": [
    "X_predecirmetascore = df_mod_predecirmetascore_dropna.drop(columns=\"price\")\n",
    "y_predecirmetascore = df_mod_predecirmetascore_dropna[\"price\"]"
   ]
  },
  {
   "cell_type": "code",
   "execution_count": 46,
   "metadata": {},
   "outputs": [],
   "source": [
    "X_sinmetascore = df_mod_sinmetascore.drop(columns=\"price\")\n",
    "y_sinmetascore  = df_mod_sinmetascore[\"price\"]"
   ]
  },
  {
   "cell_type": "markdown",
   "metadata": {},
   "source": [
    "## Acá lo que hacemos es usar el metascore sin dropna"
   ]
  },
  {
   "cell_type": "code",
   "execution_count": 47,
   "metadata": {},
   "outputs": [],
   "source": [
    "X = df_mod.drop(columns=\"price\")\n",
    "y = df_mod[\"price\"]\n",
    "y_values = y.values.flatten()"
   ]
  },
  {
   "cell_type": "code",
   "execution_count": 48,
   "metadata": {},
   "outputs": [
    {
     "data": {
      "text/plain": [
       "0.16269665947864997"
      ]
     },
     "execution_count": 48,
     "metadata": {},
     "output_type": "execute_result"
    }
   ],
   "source": [
    "df_mod[\"metascore\"].median()"
   ]
  },
  {
   "cell_type": "code",
   "execution_count": 49,
   "metadata": {},
   "outputs": [
    {
     "data": {
      "text/html": [
       "<div>\n",
       "<style scoped>\n",
       "    .dataframe tbody tr th:only-of-type {\n",
       "        vertical-align: middle;\n",
       "    }\n",
       "\n",
       "    .dataframe tbody tr th {\n",
       "        vertical-align: top;\n",
       "    }\n",
       "\n",
       "    .dataframe thead th {\n",
       "        text-align: right;\n",
       "    }\n",
       "</style>\n",
       "<table border=\"1\" class=\"dataframe\">\n",
       "  <thead>\n",
       "    <tr style=\"text-align: right;\">\n",
       "      <th></th>\n",
       "      <th>price</th>\n",
       "      <th>metascore</th>\n",
       "      <th>año_v</th>\n",
       "      <th>early_access</th>\n",
       "      <th>Action</th>\n",
       "      <th>Adventure</th>\n",
       "      <th>Casual</th>\n",
       "      <th>Indie</th>\n",
       "      <th>Racing</th>\n",
       "      <th>Simulation</th>\n",
       "      <th>Sports</th>\n",
       "      <th>Strategy</th>\n",
       "      <th>Massively Multiplayer</th>\n",
       "      <th>RPG</th>\n",
       "    </tr>\n",
       "  </thead>\n",
       "  <tbody>\n",
       "    <tr>\n",
       "      <th>1</th>\n",
       "      <td>0.99</td>\n",
       "      <td>NaN</td>\n",
       "      <td>0.626263</td>\n",
       "      <td>0</td>\n",
       "      <td>1</td>\n",
       "      <td>1</td>\n",
       "      <td>1</td>\n",
       "      <td>0</td>\n",
       "      <td>0</td>\n",
       "      <td>0</td>\n",
       "      <td>0</td>\n",
       "      <td>0</td>\n",
       "      <td>0</td>\n",
       "      <td>0</td>\n",
       "    </tr>\n",
       "    <tr>\n",
       "      <th>18</th>\n",
       "      <td>2.99</td>\n",
       "      <td>NaN</td>\n",
       "      <td>0.626263</td>\n",
       "      <td>0</td>\n",
       "      <td>0</td>\n",
       "      <td>0</td>\n",
       "      <td>0</td>\n",
       "      <td>0</td>\n",
       "      <td>1</td>\n",
       "      <td>1</td>\n",
       "      <td>1</td>\n",
       "      <td>0</td>\n",
       "      <td>0</td>\n",
       "      <td>0</td>\n",
       "    </tr>\n",
       "    <tr>\n",
       "      <th>19</th>\n",
       "      <td>2.99</td>\n",
       "      <td>NaN</td>\n",
       "      <td>0.626263</td>\n",
       "      <td>0</td>\n",
       "      <td>0</td>\n",
       "      <td>0</td>\n",
       "      <td>0</td>\n",
       "      <td>0</td>\n",
       "      <td>1</td>\n",
       "      <td>1</td>\n",
       "      <td>1</td>\n",
       "      <td>0</td>\n",
       "      <td>0</td>\n",
       "      <td>0</td>\n",
       "    </tr>\n",
       "    <tr>\n",
       "      <th>22</th>\n",
       "      <td>9.99</td>\n",
       "      <td>NaN</td>\n",
       "      <td>-5.069165</td>\n",
       "      <td>0</td>\n",
       "      <td>1</td>\n",
       "      <td>0</td>\n",
       "      <td>0</td>\n",
       "      <td>1</td>\n",
       "      <td>1</td>\n",
       "      <td>0</td>\n",
       "      <td>0</td>\n",
       "      <td>0</td>\n",
       "      <td>0</td>\n",
       "      <td>0</td>\n",
       "    </tr>\n",
       "    <tr>\n",
       "      <th>23</th>\n",
       "      <td>9.99</td>\n",
       "      <td>2.202185</td>\n",
       "      <td>-4.784394</td>\n",
       "      <td>0</td>\n",
       "      <td>1</td>\n",
       "      <td>0</td>\n",
       "      <td>0</td>\n",
       "      <td>0</td>\n",
       "      <td>0</td>\n",
       "      <td>0</td>\n",
       "      <td>0</td>\n",
       "      <td>0</td>\n",
       "      <td>0</td>\n",
       "      <td>0</td>\n",
       "    </tr>\n",
       "    <tr>\n",
       "      <th>...</th>\n",
       "      <td>...</td>\n",
       "      <td>...</td>\n",
       "      <td>...</td>\n",
       "      <td>...</td>\n",
       "      <td>...</td>\n",
       "      <td>...</td>\n",
       "      <td>...</td>\n",
       "      <td>...</td>\n",
       "      <td>...</td>\n",
       "      <td>...</td>\n",
       "      <td>...</td>\n",
       "      <td>...</td>\n",
       "      <td>...</td>\n",
       "      <td>...</td>\n",
       "    </tr>\n",
       "    <tr>\n",
       "      <th>28641</th>\n",
       "      <td>14.99</td>\n",
       "      <td>1.924073</td>\n",
       "      <td>-3.075765</td>\n",
       "      <td>0</td>\n",
       "      <td>1</td>\n",
       "      <td>0</td>\n",
       "      <td>0</td>\n",
       "      <td>0</td>\n",
       "      <td>0</td>\n",
       "      <td>0</td>\n",
       "      <td>0</td>\n",
       "      <td>0</td>\n",
       "      <td>0</td>\n",
       "      <td>0</td>\n",
       "    </tr>\n",
       "    <tr>\n",
       "      <th>28642</th>\n",
       "      <td>9.99</td>\n",
       "      <td>-0.671639</td>\n",
       "      <td>-3.075765</td>\n",
       "      <td>0</td>\n",
       "      <td>1</td>\n",
       "      <td>0</td>\n",
       "      <td>0</td>\n",
       "      <td>0</td>\n",
       "      <td>0</td>\n",
       "      <td>0</td>\n",
       "      <td>0</td>\n",
       "      <td>0</td>\n",
       "      <td>0</td>\n",
       "      <td>0</td>\n",
       "    </tr>\n",
       "    <tr>\n",
       "      <th>28645</th>\n",
       "      <td>4.99</td>\n",
       "      <td>NaN</td>\n",
       "      <td>0.341492</td>\n",
       "      <td>0</td>\n",
       "      <td>0</td>\n",
       "      <td>0</td>\n",
       "      <td>0</td>\n",
       "      <td>0</td>\n",
       "      <td>0</td>\n",
       "      <td>0</td>\n",
       "      <td>0</td>\n",
       "      <td>0</td>\n",
       "      <td>0</td>\n",
       "      <td>0</td>\n",
       "    </tr>\n",
       "    <tr>\n",
       "      <th>28654</th>\n",
       "      <td>4.99</td>\n",
       "      <td>NaN</td>\n",
       "      <td>0.626263</td>\n",
       "      <td>0</td>\n",
       "      <td>0</td>\n",
       "      <td>0</td>\n",
       "      <td>1</td>\n",
       "      <td>1</td>\n",
       "      <td>0</td>\n",
       "      <td>0</td>\n",
       "      <td>0</td>\n",
       "      <td>0</td>\n",
       "      <td>0</td>\n",
       "      <td>0</td>\n",
       "    </tr>\n",
       "    <tr>\n",
       "      <th>28655</th>\n",
       "      <td>4.99</td>\n",
       "      <td>NaN</td>\n",
       "      <td>0.626263</td>\n",
       "      <td>1</td>\n",
       "      <td>0</td>\n",
       "      <td>0</td>\n",
       "      <td>0</td>\n",
       "      <td>0</td>\n",
       "      <td>0</td>\n",
       "      <td>0</td>\n",
       "      <td>0</td>\n",
       "      <td>0</td>\n",
       "      <td>0</td>\n",
       "      <td>0</td>\n",
       "    </tr>\n",
       "  </tbody>\n",
       "</table>\n",
       "<p>28472 rows × 14 columns</p>\n",
       "</div>"
      ],
      "text/plain": [
       "       price  metascore     año_v  early_access  Action  Adventure  Casual  \\\n",
       "1       0.99        NaN  0.626263             0       1          1       1   \n",
       "18      2.99        NaN  0.626263             0       0          0       0   \n",
       "19      2.99        NaN  0.626263             0       0          0       0   \n",
       "22      9.99        NaN -5.069165             0       1          0       0   \n",
       "23      9.99   2.202185 -4.784394             0       1          0       0   \n",
       "...      ...        ...       ...           ...     ...        ...     ...   \n",
       "28641  14.99   1.924073 -3.075765             0       1          0       0   \n",
       "28642   9.99  -0.671639 -3.075765             0       1          0       0   \n",
       "28645   4.99        NaN  0.341492             0       0          0       0   \n",
       "28654   4.99        NaN  0.626263             0       0          0       1   \n",
       "28655   4.99        NaN  0.626263             1       0          0       0   \n",
       "\n",
       "       Indie  Racing  Simulation  Sports  Strategy  Massively Multiplayer  RPG  \n",
       "1          0       0           0       0         0                      0    0  \n",
       "18         0       1           1       1         0                      0    0  \n",
       "19         0       1           1       1         0                      0    0  \n",
       "22         1       1           0       0         0                      0    0  \n",
       "23         0       0           0       0         0                      0    0  \n",
       "...      ...     ...         ...     ...       ...                    ...  ...  \n",
       "28641      0       0           0       0         0                      0    0  \n",
       "28642      0       0           0       0         0                      0    0  \n",
       "28645      0       0           0       0         0                      0    0  \n",
       "28654      1       0           0       0         0                      0    0  \n",
       "28655      0       0           0       0         0                      0    0  \n",
       "\n",
       "[28472 rows x 14 columns]"
      ]
     },
     "execution_count": 49,
     "metadata": {},
     "output_type": "execute_result"
    }
   ],
   "source": [
    "df_mod"
   ]
  },
  {
   "cell_type": "code",
   "execution_count": 50,
   "metadata": {},
   "outputs": [
    {
     "name": "stderr",
     "output_type": "stream",
     "text": [
      "c:\\Users\\Agus_\\anaconda3\\lib\\site-packages\\sklearn\\impute\\_base.py:49: FutureWarning: Unlike other reduction functions (e.g. `skew`, `kurtosis`), the default behavior of `mode` typically preserves the axis it acts along. In SciPy 1.11.0, this behavior will change: the default value of `keepdims` will become False, the `axis` over which the statistic is taken will be eliminated, and the value None will no longer be accepted. Set `keepdims` to True or False to avoid this warning.\n",
      "  mode = stats.mode(array)\n"
     ]
    },
    {
     "data": {
      "text/plain": [
       "array([[0.71892074, 0.62626305, 0.        , ..., 0.        , 0.        ,\n",
       "        0.        ],\n",
       "       [0.71892074, 0.62626305, 0.        , ..., 0.        , 0.        ,\n",
       "        0.        ],\n",
       "       [0.71892074, 0.62626305, 0.        , ..., 0.        , 0.        ,\n",
       "        0.        ],\n",
       "       ...,\n",
       "       [0.71892074, 0.34149165, 0.        , ..., 0.        , 0.        ,\n",
       "        0.        ],\n",
       "       [0.71892074, 0.62626305, 0.        , ..., 0.        , 0.        ,\n",
       "        0.        ],\n",
       "       [0.71892074, 0.62626305, 1.        , ..., 0.        , 0.        ,\n",
       "        0.        ]])"
      ]
     },
     "execution_count": 50,
     "metadata": {},
     "output_type": "execute_result"
    }
   ],
   "source": [
    "imp_mean = SimpleImputer(missing_values=np.nan, strategy='most_frequent')\n",
    "imp_mean.fit(X)\n",
    "X_Transform = imp_mean.transform(X)\n",
    "\n",
    "X_Transform"
   ]
  },
  {
   "cell_type": "markdown",
   "metadata": {},
   "source": [
    "## Con Metascore pero los NA dropeados"
   ]
  },
  {
   "cell_type": "code",
   "execution_count": 1934,
   "metadata": {},
   "outputs": [
    {
     "data": {
      "text/plain": [
       "{'El RMSE de tu LinearRegression() es 8.271483186539358, y el r2 0.30201106467763716'}"
      ]
     },
     "execution_count": 1934,
     "metadata": {},
     "output_type": "execute_result"
    }
   ],
   "source": [
    "X_train, X_test, y_train, y_test= train_test_split(X_predecirmetascore, y_predecirmetascore, test_size=0.33, random_state = 42)\n",
    "model1dropna = LinearRegression()\n",
    "model1dropna.fit(X_train, y_train)\n",
    "RMSE_AND_R2(model1dropna, X_test, y_test)"
   ]
  },
  {
   "cell_type": "code",
   "execution_count": 1935,
   "metadata": {},
   "outputs": [
    {
     "data": {
      "text/plain": [
       "array([25.00505313])"
      ]
     },
     "execution_count": 1935,
     "metadata": {},
     "output_type": "execute_result"
    }
   ],
   "source": [
    "y_predict = model1dropna.predict(conmetascore)\n",
    "y_predict"
   ]
  },
  {
   "cell_type": "markdown",
   "metadata": {},
   "source": [
    "### Cross valid hacer crossvalid"
   ]
  },
  {
   "cell_type": "code",
   "execution_count": 1936,
   "metadata": {},
   "outputs": [
    {
     "data": {
      "text/plain": [
       "array([0.06655351, 0.24162054, 0.30856624, 0.07269017])"
      ]
     },
     "execution_count": 1936,
     "metadata": {},
     "output_type": "execute_result"
    }
   ],
   "source": [
    "# Crear una tubería con StandardScaler y LinearRegression\n",
    "model = LinearRegression()\n",
    "linearmodel = cross_val_score(model, X_predecirmetascore, y_predecirmetascore, cv=4 )\n",
    "linearmodel"
   ]
  },
  {
   "cell_type": "code",
   "execution_count": 1937,
   "metadata": {},
   "outputs": [
    {
     "data": {
      "text/plain": [
       "{'fit_time': array([0.00599909, 0.00499892, 0.00500059, 0.02799726, 0.00299859]),\n",
       " 'score_time': array([0.07599831, 0.00299931, 0.00500011, 0.00200081, 0.00200033]),\n",
       " 'test_neg_root_mean_squared_error': array([ -6.49614505,  -9.95662571, -11.65993999,  -7.92702839,\n",
       "         -6.64226731]),\n",
       " 'test_r2': array([ 0.0208635 ,  0.2931085 ,  0.28394552,  0.28499538, -0.02032175])}"
      ]
     },
     "execution_count": 1937,
     "metadata": {},
     "output_type": "execute_result"
    }
   ],
   "source": [
    "linearmodel = cross_validate(model, X_predecirmetascore, y_predecirmetascore, cv=5, scoring =[\"neg_root_mean_squared_error\", \"r2\"])\n",
    "linearmodel"
   ]
  },
  {
   "cell_type": "code",
   "execution_count": 1938,
   "metadata": {},
   "outputs": [],
   "source": [
    "linearmodel = cross_validate(model, X_sinmetascore, y_sinmetascore, cv=5, scoring =[\"neg_root_mean_squared_error\", \"r2\"])"
   ]
  },
  {
   "cell_type": "markdown",
   "metadata": {},
   "source": [
    "## Grid Search"
   ]
  },
  {
   "cell_type": "code",
   "execution_count": 1939,
   "metadata": {},
   "outputs": [
    {
     "data": {
      "text/plain": [
       "GridSearchCV(cv=5, estimator=Lasso(), param_grid={'alpha': [0.1, 1.0, 10.0]},\n",
       "             scoring='neg_mean_squared_error')"
      ]
     },
     "execution_count": 1939,
     "metadata": {},
     "output_type": "execute_result"
    }
   ],
   "source": [
    "param_grid = {\n",
    "    'alpha': [0.1, 1.0, 10.0]\n",
    "}\n",
    "\n",
    "ridge = Ridge()\n",
    "lasso = Lasso()\n",
    "\n",
    "grid_search_ridge = GridSearchCV(ridge, param_grid, cv=5, scoring='neg_mean_squared_error')\n",
    "grid_search_lasso = GridSearchCV(lasso, param_grid, cv=5, scoring='neg_mean_squared_error')\n",
    "\n",
    "grid_search_ridge.fit(X_train, y_train)\n",
    "grid_search_lasso.fit(X_train, y_train)"
   ]
  },
  {
   "cell_type": "code",
   "execution_count": 1940,
   "metadata": {},
   "outputs": [
    {
     "data": {
      "text/plain": [
       "{'El RMSE de tu Lasso(alpha=0.1) es 8.296470085460237, y el r2 0.29778765727760725'}"
      ]
     },
     "execution_count": 1940,
     "metadata": {},
     "output_type": "execute_result"
    }
   ],
   "source": [
    "best_lasso = grid_search_lasso.best_estimator_\n",
    "RMSE_AND_R2(best_lasso, X_test, y_test)"
   ]
  },
  {
   "cell_type": "code",
   "execution_count": 1941,
   "metadata": {},
   "outputs": [
    {
     "data": {
      "text/plain": [
       "array([22.32184823])"
      ]
     },
     "execution_count": 1941,
     "metadata": {},
     "output_type": "execute_result"
    }
   ],
   "source": [
    "best_lasso.predict(conmetascore)"
   ]
  },
  {
   "cell_type": "code",
   "execution_count": 1942,
   "metadata": {},
   "outputs": [
    {
     "data": {
      "text/plain": [
       "{'El RMSE de tu Ridge(alpha=10.0) es 8.262598155665035, y el r2 0.30350978558805863'}"
      ]
     },
     "execution_count": 1942,
     "metadata": {},
     "output_type": "execute_result"
    }
   ],
   "source": [
    "best_ridge = grid_search_ridge.best_estimator_\n",
    "RMSE_AND_R2(best_ridge, X_test, y_test)"
   ]
  },
  {
   "cell_type": "code",
   "execution_count": 1943,
   "metadata": {},
   "outputs": [
    {
     "data": {
      "text/plain": [
       "array([22.60669009])"
      ]
     },
     "execution_count": 1943,
     "metadata": {},
     "output_type": "execute_result"
    }
   ],
   "source": [
    "best_ridge.predict(conmetascore)"
   ]
  },
  {
   "cell_type": "markdown",
   "metadata": {},
   "source": [
    "### Grid Search para encontrar el mejor modelo"
   ]
  },
  {
   "cell_type": "code",
   "execution_count": 1944,
   "metadata": {},
   "outputs": [
    {
     "data": {
      "text/plain": [
       "GridSearchCV(cv=5, estimator=Lasso(), param_grid={'alpha': [0.1, 1.0, 10.0]},\n",
       "             scoring='neg_mean_squared_error')"
      ]
     },
     "execution_count": 1944,
     "metadata": {},
     "output_type": "execute_result"
    }
   ],
   "source": [
    "from sklearn.linear_model import Ridge, Lasso\n",
    "from sklearn.model_selection import GridSearchCV\n",
    "\n",
    "param_grid = {\n",
    "    'alpha': [0.1, 1.0, 10.0]\n",
    "}\n",
    "\n",
    "ridge = Ridge()\n",
    "lasso = Lasso()\n",
    "\n",
    "grid_search_ridge = GridSearchCV(ridge, param_grid, cv=5, scoring='neg_mean_squared_error')\n",
    "grid_search_lasso = GridSearchCV(lasso, param_grid, cv=5, scoring='neg_mean_squared_error')\n",
    "\n",
    "grid_search_ridge.fit(X_train, y_train)\n",
    "grid_search_lasso.fit(X_train, y_train)"
   ]
  },
  {
   "cell_type": "code",
   "execution_count": 1945,
   "metadata": {},
   "outputs": [
    {
     "data": {
      "text/plain": [
       "{'El RMSE de tu Lasso(alpha=0.1) es 8.296470085460237, y el r2 0.29778765727760725'}"
      ]
     },
     "execution_count": 1945,
     "metadata": {},
     "output_type": "execute_result"
    }
   ],
   "source": [
    "best_lasso = grid_search_lasso.best_estimator_\n",
    "RMSE_AND_R2(best_lasso, X_test, y_test)"
   ]
  },
  {
   "cell_type": "code",
   "execution_count": 1946,
   "metadata": {},
   "outputs": [
    {
     "data": {
      "text/plain": [
       "{'El RMSE de tu Ridge(alpha=10.0) es 8.262598155665035, y el r2 0.30350978558805863'}"
      ]
     },
     "execution_count": 1946,
     "metadata": {},
     "output_type": "execute_result"
    }
   ],
   "source": [
    "best_ridge = grid_search_ridge.best_estimator_\n",
    "RMSE_AND_R2(best_ridge, X_test, y_test)"
   ]
  },
  {
   "cell_type": "code",
   "execution_count": 1947,
   "metadata": {},
   "outputs": [
    {
     "data": {
      "text/plain": [
       "8.235633786951471"
      ]
     },
     "execution_count": 1947,
     "metadata": {},
     "output_type": "execute_result"
    }
   ],
   "source": [
    "np.sqrt(grid_search.best_score_ * -1)"
   ]
  },
  {
   "cell_type": "markdown",
   "metadata": {},
   "source": [
    "### Polinomico Regresion"
   ]
  },
  {
   "cell_type": "code",
   "execution_count": 1948,
   "metadata": {},
   "outputs": [],
   "source": [
    "degree = 3\n",
    "poly = PolynomialFeatures(degree)\n",
    "X_train_poly = poly.fit_transform(X_train)\n",
    "X_test_poly = poly.transform(X_test)"
   ]
  },
  {
   "cell_type": "code",
   "execution_count": 1949,
   "metadata": {},
   "outputs": [
    {
     "data": {
      "text/plain": [
       "{'El RMSE de tu LinearRegression() es 35060397505.06406, y el r2 -1.2540516587240745e+19'}"
      ]
     },
     "execution_count": 1949,
     "metadata": {},
     "output_type": "execute_result"
    }
   ],
   "source": [
    "modelploy_dropna_metascore = LinearRegression()\n",
    "modelploy_dropna_metascore.fit(X_train_poly, y_train)\n",
    "RMSE_AND_R2(modelploy_dropna_metascore, X_test_poly, y_test)"
   ]
  },
  {
   "cell_type": "markdown",
   "metadata": {},
   "source": [
    "# SIN METASCORE "
   ]
  },
  {
   "cell_type": "code",
   "execution_count": 1950,
   "metadata": {},
   "outputs": [],
   "source": [
    "X_train, X_test, y_train, y_test= train_test_split(X_sinmetascore, y_sinmetascore, test_size=0.33, random_state = 42)"
   ]
  },
  {
   "cell_type": "code",
   "execution_count": 1951,
   "metadata": {},
   "outputs": [
    {
     "data": {
      "text/plain": [
       "LinearRegression()"
      ]
     },
     "execution_count": 1951,
     "metadata": {},
     "output_type": "execute_result"
    }
   ],
   "source": [
    "model_sin_metascore = LinearRegression()\n",
    "model_sin_metascore.fit(X_train, y_train)"
   ]
  },
  {
   "cell_type": "code",
   "execution_count": 1952,
   "metadata": {},
   "outputs": [
    {
     "data": {
      "text/plain": [
       "{'El RMSE de tu LinearRegression() es 8.853454593495252, y el r2 0.10357757567364012'}"
      ]
     },
     "execution_count": 1952,
     "metadata": {},
     "output_type": "execute_result"
    }
   ],
   "source": [
    "RMSE_AND_R2(model_sin_metascore, X_test, y_test)"
   ]
  },
  {
   "cell_type": "markdown",
   "metadata": {},
   "source": [
    "### Regresion Polinomica sin metascore"
   ]
  },
  {
   "cell_type": "code",
   "execution_count": 1953,
   "metadata": {},
   "outputs": [
    {
     "data": {
      "text/plain": [
       "LinearRegression()"
      ]
     },
     "execution_count": 1953,
     "metadata": {},
     "output_type": "execute_result"
    }
   ],
   "source": [
    "X_train_poly = poly.fit_transform(X_train)\n",
    "X_test_poly = poly.transform(X_test)\n",
    "modelploy.fit(X_train_poly, y_train)"
   ]
  },
  {
   "cell_type": "code",
   "execution_count": 1954,
   "metadata": {},
   "outputs": [
    {
     "data": {
      "text/plain": [
       "{'El RMSE de tu LinearRegression() es 4757996.164648815, y el r2 -258901972210.49857'}"
      ]
     },
     "execution_count": 1954,
     "metadata": {},
     "output_type": "execute_result"
    }
   ],
   "source": [
    "RMSE_AND_R2(modelploy, X_test_poly, y_test)"
   ]
  },
  {
   "cell_type": "markdown",
   "metadata": {},
   "source": [
    "### GridSearch sin metascore"
   ]
  },
  {
   "cell_type": "code",
   "execution_count": 1955,
   "metadata": {},
   "outputs": [
    {
     "data": {
      "text/plain": [
       "GridSearchCV(cv=5, estimator=Lasso(), param_grid={'alpha': [0.1, 1.0, 10.0]},\n",
       "             scoring='neg_mean_squared_error')"
      ]
     },
     "execution_count": 1955,
     "metadata": {},
     "output_type": "execute_result"
    }
   ],
   "source": [
    "\n",
    "param_grid = {\n",
    "    'alpha': [0.1, 1.0, 10.0]\n",
    "}\n",
    "\n",
    "ridge = Ridge()\n",
    "lasso = Lasso()\n",
    "\n",
    "grid_search_ridge = GridSearchCV(ridge, param_grid, cv=5, scoring='neg_mean_squared_error')\n",
    "grid_search_lasso = GridSearchCV(lasso, param_grid, cv=5, scoring='neg_mean_squared_error')\n",
    "\n",
    "grid_search_ridge.fit(X_train, y_train)\n",
    "grid_search_lasso.fit(X_train, y_train)"
   ]
  },
  {
   "cell_type": "code",
   "execution_count": 1956,
   "metadata": {},
   "outputs": [
    {
     "data": {
      "text/plain": [
       "{'El RMSE de tu Lasso(alpha=0.1) es 8.881685062019626, y el r2 0.09785172678815557'}"
      ]
     },
     "execution_count": 1956,
     "metadata": {},
     "output_type": "execute_result"
    }
   ],
   "source": [
    "## lasso\n",
    "best_lasso = grid_search_lasso.best_estimator_\n",
    "RMSE_AND_R2(best_lasso, X_test, y_test)"
   ]
  },
  {
   "cell_type": "code",
   "execution_count": 1957,
   "metadata": {},
   "outputs": [
    {
     "data": {
      "text/plain": [
       "{'El RMSE de tu Ridge() es 8.853290234928041, y el r2 0.10361085835129702'}"
      ]
     },
     "execution_count": 1957,
     "metadata": {},
     "output_type": "execute_result"
    }
   ],
   "source": [
    "best_ridge = grid_search_ridge.best_estimator_\n",
    "RMSE_AND_R2(best_ridge, X_test, y_test)"
   ]
  },
  {
   "cell_type": "markdown",
   "metadata": {},
   "source": [
    "# IMPUTANDO CON LA MEDIA EN METASCORE"
   ]
  },
  {
   "cell_type": "code",
   "execution_count": 1958,
   "metadata": {},
   "outputs": [],
   "source": [
    "X_train, X_test, y_train, y_test= train_test_split(X_Transform, y, test_size=0.33, random_state = 42)"
   ]
  },
  {
   "cell_type": "code",
   "execution_count": 1959,
   "metadata": {},
   "outputs": [
    {
     "data": {
      "text/plain": [
       "LinearRegression()"
      ]
     },
     "execution_count": 1959,
     "metadata": {},
     "output_type": "execute_result"
    }
   ],
   "source": [
    "model_inputado = LinearRegression()\n",
    "model_inputado.fit(X_train, y_train)"
   ]
  },
  {
   "cell_type": "code",
   "execution_count": 1960,
   "metadata": {},
   "outputs": [
    {
     "data": {
      "text/plain": [
       "{'El RMSE de tu LinearRegression() es 8.83097839377787, y el r2 0.10812328022848972'}"
      ]
     },
     "execution_count": 1960,
     "metadata": {},
     "output_type": "execute_result"
    }
   ],
   "source": [
    "RMSE_AND_R2(model_inputado, X_test, y_test)"
   ]
  },
  {
   "cell_type": "markdown",
   "metadata": {},
   "source": [
    "### Regresion Polinomica con valores MetaScore Inputados con la media "
   ]
  },
  {
   "cell_type": "code",
   "execution_count": 1962,
   "metadata": {},
   "outputs": [],
   "source": [
    "degree = 2\n",
    "poly = PolynomialFeatures(degree)\n",
    "X_train_poly = poly.fit_transform(X_train)\n",
    "X_test_poly = poly.transform(X_test)"
   ]
  },
  {
   "cell_type": "code",
   "execution_count": 1963,
   "metadata": {},
   "outputs": [],
   "source": [
    "modelploy = LinearRegression()"
   ]
  },
  {
   "cell_type": "code",
   "execution_count": 1964,
   "metadata": {},
   "outputs": [
    {
     "data": {
      "text/plain": [
       "LinearRegression()"
      ]
     },
     "execution_count": 1964,
     "metadata": {},
     "output_type": "execute_result"
    }
   ],
   "source": [
    "modelploy.fit(X_train_poly, y_train)"
   ]
  },
  {
   "cell_type": "code",
   "execution_count": 1965,
   "metadata": {},
   "outputs": [
    {
     "data": {
      "text/plain": [
       "GridSearchCV(cv=5, estimator=Lasso(), param_grid={'alpha': [0.1, 1.0, 10.0]},\n",
       "             scoring='neg_mean_squared_error')"
      ]
     },
     "execution_count": 1965,
     "metadata": {},
     "output_type": "execute_result"
    }
   ],
   "source": [
    "from sklearn.linear_model import Ridge, Lasso\n",
    "from sklearn.model_selection import GridSearchCV\n",
    "\n",
    "param_grid = {\n",
    "    'alpha': [0.1, 1.0, 10.0]\n",
    "}\n",
    "\n",
    "ridge = Ridge()\n",
    "lasso = Lasso()\n",
    "\n",
    "grid_search_ridge = GridSearchCV(ridge, param_grid, cv=5, scoring='neg_mean_squared_error')\n",
    "grid_search_lasso = GridSearchCV(lasso, param_grid, cv=5, scoring='neg_mean_squared_error')\n",
    "\n",
    "grid_search_ridge.fit(X_train, y_train)\n",
    "grid_search_lasso.fit(X_train, y_train)"
   ]
  },
  {
   "cell_type": "code",
   "execution_count": 1966,
   "metadata": {},
   "outputs": [
    {
     "data": {
      "text/plain": [
       "{'El RMSE de tu Lasso(alpha=0.1) es 8.861851506558004, y el r2 0.10187637517602877'}"
      ]
     },
     "execution_count": 1966,
     "metadata": {},
     "output_type": "execute_result"
    }
   ],
   "source": [
    "## lasso\n",
    "best_lasso = grid_search_lasso.best_estimator_\n",
    "RMSE_AND_R2(best_lasso, X_test, y_test)"
   ]
  },
  {
   "cell_type": "code",
   "execution_count": 1967,
   "metadata": {},
   "outputs": [
    {
     "data": {
      "text/plain": [
       "{'El RMSE de tu Lasso(alpha=0.1) es 8.861851506558004, y el r2 0.10187637517602877'}"
      ]
     },
     "execution_count": 1967,
     "metadata": {},
     "output_type": "execute_result"
    }
   ],
   "source": [
    "## lasso\n",
    "best_ridge = grid_search_ridge.best_estimator_\n",
    "RMSE_AND_R2(best_lasso, X_test, y_test)"
   ]
  },
  {
   "cell_type": "markdown",
   "metadata": {},
   "source": [
    "# RandomForest"
   ]
  },
  {
   "cell_type": "code",
   "execution_count": 1968,
   "metadata": {},
   "outputs": [],
   "source": [
    "X_train, X_test, y_train, y_test= train_test_split(X_predecirmetascore, y_predecirmetascore, test_size=0.33, random_state = 42)"
   ]
  },
  {
   "cell_type": "code",
   "execution_count": 1969,
   "metadata": {},
   "outputs": [],
   "source": [
    "def RandomForest(X, y, profundidad):\n",
    "    X_train, X_test, y_train, y_test= train_test_split(X, y, test_size=0.33, random_state = 42)\n",
    "    RandomForest = RandomForestRegressor(max_depth=profundidad)\n",
    "    RandomForest.fit(X_train, y_train)\n",
    "    print(RMSE_AND_R2(RandomForest, X_test, y_test))\n",
    "    return RandomForest"
   ]
  },
  {
   "cell_type": "markdown",
   "metadata": {},
   "source": [
    "### RandomForestRegressor con dropna"
   ]
  },
  {
   "cell_type": "code",
   "execution_count": 1970,
   "metadata": {},
   "outputs": [],
   "source": [
    "param_grid = {\n",
    "    'n_estimators': [50, 100, 200],\n",
    "    'max_depth': [None, 10, 20],\n",
    "    'min_samples_split': [2, 5, 10],\n",
    "    'min_samples_leaf': [1, 2, 4]\n",
    "}"
   ]
  },
  {
   "cell_type": "code",
   "execution_count": 1971,
   "metadata": {},
   "outputs": [
    {
     "data": {
      "text/plain": [
       "GridSearchCV(cv=5, estimator=RandomForestRegressor(), n_jobs=-1,\n",
       "             param_grid={'max_depth': [None, 10, 20],\n",
       "                         'min_samples_leaf': [1, 2, 4],\n",
       "                         'min_samples_split': [2, 5, 10],\n",
       "                         'n_estimators': [50, 100, 200]},\n",
       "             scoring='neg_mean_squared_error')"
      ]
     },
     "execution_count": 1971,
     "metadata": {},
     "output_type": "execute_result"
    }
   ],
   "source": [
    "# Crear el modelo de Random Forest\n",
    "rf_model = RandomForestRegressor()\n",
    "\n",
    "# Crear un objeto GridSearchCV\n",
    "grid_search = GridSearchCV(rf_model, param_grid, cv=5, n_jobs=-1, scoring='neg_mean_squared_error')\n",
    "\n",
    "# Realizar la búsqueda de hiperparámetros\n",
    "grid_search.fit(X_train, y_train)\n"
   ]
  },
  {
   "cell_type": "code",
   "execution_count": 1972,
   "metadata": {},
   "outputs": [
    {
     "name": "stdout",
     "output_type": "stream",
     "text": [
      "Mejores hiperparámetros: {'max_depth': 10, 'min_samples_leaf': 2, 'min_samples_split': 10, 'n_estimators': 200}\n",
      "Mejor puntaje: 8.428682966154886\n"
     ]
    },
    {
     "data": {
      "text/plain": [
       "{'El RMSE de tu RandomForestRegressor(max_depth=10, min_samples_leaf=2, min_samples_split=10,\\n                      n_estimators=200) es 7.90537161338805, y el r2 0.362432258299236'}"
      ]
     },
     "execution_count": 1972,
     "metadata": {},
     "output_type": "execute_result"
    }
   ],
   "source": [
    "print(\"Mejores hiperparámetros:\", grid_search.best_params_)\n",
    "print(\"Mejor puntaje:\", np.sqrt(grid_search.best_score_*-1))\n",
    "RMSE_AND_R2(grid_search.best_estimator_, X_test, y_test)"
   ]
  },
  {
   "cell_type": "code",
   "execution_count": 1973,
   "metadata": {},
   "outputs": [],
   "source": [
    "modelorandom9_2 = grid_search.best_estimator_"
   ]
  },
  {
   "cell_type": "code",
   "execution_count": 1974,
   "metadata": {},
   "outputs": [
    {
     "name": "stdout",
     "output_type": "stream",
     "text": [
      "{'El RMSE de tu RandomForestRegressor(max_depth=5) es 7.9457058419114315, y el r2 0.35590975513801215'}\n"
     ]
    }
   ],
   "source": [
    "rand_for = RandomForest(X_predecirmetascore,y_predecirmetascore, 5)"
   ]
  },
  {
   "cell_type": "code",
   "execution_count": 1975,
   "metadata": {},
   "outputs": [
    {
     "name": "stdout",
     "output_type": "stream",
     "text": [
      "{'El RMSE de tu RandomForestRegressor(max_depth=5) es 8.680222785515257, y el r2 0.13831421767201446'}\n"
     ]
    },
    {
     "data": {
      "text/plain": [
       "RandomForestRegressor(max_depth=5)"
      ]
     },
     "execution_count": 1975,
     "metadata": {},
     "output_type": "execute_result"
    }
   ],
   "source": [
    "RandomForest(X_sinmetascore,y_sinmetascore, 5)"
   ]
  },
  {
   "cell_type": "code",
   "execution_count": 1976,
   "metadata": {},
   "outputs": [
    {
     "data": {
      "text/plain": [
       "array([25.86529733])"
      ]
     },
     "execution_count": 1976,
     "metadata": {},
     "output_type": "execute_result"
    }
   ],
   "source": [
    "rand_for.predict(conmetascore)"
   ]
  },
  {
   "cell_type": "markdown",
   "metadata": {},
   "source": [
    "### RandomForestRegressor sin metascore"
   ]
  },
  {
   "cell_type": "code",
   "execution_count": 1977,
   "metadata": {},
   "outputs": [
    {
     "name": "stdout",
     "output_type": "stream",
     "text": [
      "{'El RMSE de tu RandomForestRegressor(max_depth=3) es 8.884107264018647, y el r2 0.09735959420159568'}\n"
     ]
    }
   ],
   "source": [
    "model = RandomForest(X_sinmetascore,y_sinmetascore,3)"
   ]
  },
  {
   "cell_type": "code",
   "execution_count": 1978,
   "metadata": {},
   "outputs": [],
   "source": [
    "sinmetascore = pd.DataFrame({ \n",
    "                    # Ejemplo: metascore\n",
    "    \"año_v\": [2010],  # Ejemplo: año\n",
    "    \"early_access\": [1],  # Ejemplo: early_access\n",
    "    \"Action\": [0],  # Ejemplo: género Action\n",
    "    \"Adventure\": [1],\n",
    "    \"Casual\" : [0],\n",
    "    \"Indie\" : [0],\n",
    "    \"Racing\" : [0],\n",
    "    \"Simulation\" : [0],\n",
    "    \"Sports\" : [0],\n",
    "    \"Strategy\" : [0] ,\n",
    "    \"Massively Multiplayer\" : [0],\n",
    "    \"RPG\" : [0] # Ejemplo: género Adventure\n",
    "    # ... (proporciona los valores correspondientes para otras características)\n",
    "})\n",
    "\n",
    "conmetascore = pd.DataFrame({ \n",
    "    \"metascore\" : [64],         # Ejemplo: metascore\n",
    "    \"año_v\": [2014],  # Ejemplo: año\n",
    "    \"early_access\": [1],  # Ejemplo: early_access\n",
    "    \"Action\": [1],  # Ejemplo: género Action\n",
    "    \"Adventure\": [0],\n",
    "    \"Casual\" : [0],\n",
    "    \"Indie\" : [0],\n",
    "    \"Racing\" : [0],\n",
    "    \"Simulation\" : [0],\n",
    "    \"Sports\" : [0],\n",
    "    \"Strategy\" : [0] ,\n",
    "    \"Massively Multiplayer\" : [0],\n",
    "    \"RPG\" : [0] # Ejemplo: género Adventure\n",
    "    # ... (proporciona los valores correspondientes para otras características)\n",
    "})"
   ]
  },
  {
   "cell_type": "code",
   "execution_count": 1979,
   "metadata": {},
   "outputs": [],
   "source": [
    "# Columnas a normalizar\n",
    "columns_to_normalize = [\"año_v\"]\n",
    "\n",
    "# Crear un escalador MinMaxScaler\n",
    "scaler = MinMaxScaler()\n",
    "\n",
    "# Aplicar la normalización a las columnas seleccionadas\n",
    "sinmetascore[columns_to_normalize] = scaler.fit_transform(sinmetascore[columns_to_normalize])"
   ]
  },
  {
   "cell_type": "code",
   "execution_count": 1980,
   "metadata": {},
   "outputs": [],
   "source": [
    "# Columnas a normalizar\n",
    "columns_to_normalize = [\"año_v\", \"metascore\"]\n",
    "\n",
    "# Crear un escalador MinMaxScaler\n",
    "scaler = MinMaxScaler()\n",
    "\n",
    "# Aplicar la normalización a las columnas seleccionadas\n",
    "conmetascore[columns_to_normalize] = scaler.fit_transform(conmetascore[columns_to_normalize])"
   ]
  },
  {
   "cell_type": "code",
   "execution_count": 1981,
   "metadata": {},
   "outputs": [
    {
     "data": {
      "text/plain": [
       "array([25.00505313])"
      ]
     },
     "execution_count": 1981,
     "metadata": {},
     "output_type": "execute_result"
    }
   ],
   "source": [
    "model1dropna.predict(conmetascore)"
   ]
  },
  {
   "cell_type": "code",
   "execution_count": 1982,
   "metadata": {},
   "outputs": [
    {
     "data": {
      "text/plain": [
       "array([25.86529733])"
      ]
     },
     "execution_count": 1982,
     "metadata": {},
     "output_type": "execute_result"
    }
   ],
   "source": [
    "rand_for.predict(conmetascore)"
   ]
  },
  {
   "cell_type": "code",
   "execution_count": 1983,
   "metadata": {},
   "outputs": [
    {
     "data": {
      "text/plain": [
       "array([9.70537592])"
      ]
     },
     "execution_count": 1983,
     "metadata": {},
     "output_type": "execute_result"
    }
   ],
   "source": [
    "y_predict = model.predict(sinmetascore)\n",
    "y_predict"
   ]
  },
  {
   "cell_type": "markdown",
   "metadata": {},
   "source": [
    "#### RandomForestRegressor metascore inputado"
   ]
  },
  {
   "cell_type": "code",
   "execution_count": 1984,
   "metadata": {},
   "outputs": [
    {
     "name": "stdout",
     "output_type": "stream",
     "text": [
      "{'El RMSE de tu RandomForestRegressor(max_depth=4) es 8.709656383847358, y el r2 0.13246056288474983'}\n"
     ]
    }
   ],
   "source": [
    "model2 = RandomForest(X_Transform, y, 4)"
   ]
  },
  {
   "cell_type": "code",
   "execution_count": 1985,
   "metadata": {},
   "outputs": [
    {
     "name": "stderr",
     "output_type": "stream",
     "text": [
      "c:\\Users\\Agus_\\anaconda3\\lib\\site-packages\\sklearn\\base.py:443: UserWarning: X has feature names, but RandomForestRegressor was fitted without feature names\n",
      "  warnings.warn(\n"
     ]
    },
    {
     "data": {
      "text/plain": [
       "array([15.46554472])"
      ]
     },
     "execution_count": 1985,
     "metadata": {},
     "output_type": "execute_result"
    }
   ],
   "source": [
    "y_predict = model2.predict(conmetascore)\n",
    "y_predict"
   ]
  },
  {
   "cell_type": "markdown",
   "metadata": {},
   "source": [
    "# SVR"
   ]
  },
  {
   "cell_type": "code",
   "execution_count": 1986,
   "metadata": {},
   "outputs": [],
   "source": [
    "X_train, X_test, y_train, y_test= train_test_split(X_predecirmetascore, y_predecirmetascore, test_size=0.33, random_state = 42)"
   ]
  },
  {
   "cell_type": "code",
   "execution_count": 1991,
   "metadata": {},
   "outputs": [],
   "source": [
    "def SVRModel(X, y):\n",
    "    X_train, X_test, y_train, y_test= train_test_split(X, y, test_size=0.33, random_state = 42)\n",
    "    model = SVR()\n",
    "    model.fit(X_train, y_train)\n",
    "    print(RMSE_AND_R2(model, X_test, y_test))\n",
    "    return model"
   ]
  },
  {
   "cell_type": "code",
   "execution_count": 1992,
   "metadata": {},
   "outputs": [
    {
     "name": "stdout",
     "output_type": "stream",
     "text": [
      "{'El RMSE de tu SVR() es 8.38613302581329, y el r2 0.28252751614720817'}\n"
     ]
    }
   ],
   "source": [
    "model_svr =  SVRModel(X_predecirmetascore, y_predecirmetascore)"
   ]
  },
  {
   "cell_type": "code",
   "execution_count": 1993,
   "metadata": {},
   "outputs": [
    {
     "data": {
      "text/plain": [
       "array([19.05104978])"
      ]
     },
     "execution_count": 1993,
     "metadata": {},
     "output_type": "execute_result"
    }
   ],
   "source": [
    "y_predict = model_svr.predict(conmetascore)\n",
    "y_predict"
   ]
  },
  {
   "cell_type": "code",
   "execution_count": 1994,
   "metadata": {},
   "outputs": [
    {
     "name": "stdout",
     "output_type": "stream",
     "text": [
      "{'El RMSE de tu SVR() es 9.087330062339333, y el r2 0.0555917150803491'}\n"
     ]
    },
    {
     "data": {
      "text/plain": [
       "SVR()"
      ]
     },
     "execution_count": 1994,
     "metadata": {},
     "output_type": "execute_result"
    }
   ],
   "source": [
    "SVRModel(X_sinmetascore, y_sinmetascore)"
   ]
  },
  {
   "cell_type": "markdown",
   "metadata": {},
   "source": [
    "# Ensamble"
   ]
  },
  {
   "cell_type": "code",
   "execution_count": 1995,
   "metadata": {},
   "outputs": [
    {
     "name": "stdout",
     "output_type": "stream",
     "text": [
      "RMSE para Gradient Boosting Regressor: 8.170299000201691\n"
     ]
    }
   ],
   "source": [
    "\n",
    "# Crear el modelo\n",
    "model = GradientBoostingRegressor(max_depth=2, learning_rate=0.3)\n",
    "\n",
    "# Entrenar el modelo\n",
    "model.fit(X_train, y_train)\n",
    "\n",
    "# Realizar predicciones\n",
    "y_pred = model.predict(X_test)\n",
    "\n",
    "# Calcular el error cuadrático medio (MSE)\n",
    "mse = mean_squared_error(y_test, y_pred)\n",
    "\n",
    "# Calcular el RMSE\n",
    "rmse = np.sqrt(mse)\n",
    "\n",
    "print(f\"RMSE para Gradient Boosting Regressor: {rmse}\")"
   ]
  },
  {
   "cell_type": "code",
   "execution_count": 1996,
   "metadata": {},
   "outputs": [
    {
     "data": {
      "text/plain": [
       "GridSearchCV(cv=5, estimator=GradientBoostingRegressor(),\n",
       "             param_grid={'learning_rate': [0.01, 0.1, 0.2],\n",
       "                         'max_depth': [3, 4, 5],\n",
       "                         'n_estimators': [50, 100, 200]},\n",
       "             refit='neg_mean_squared_error', scoring='neg_mean_squared_error')"
      ]
     },
     "execution_count": 1996,
     "metadata": {},
     "output_type": "execute_result"
    }
   ],
   "source": [
    "param_grid = {\n",
    "        'n_estimators': [50, 100, 200],\n",
    "        'learning_rate': [0.01, 0.1, 0.2],\n",
    "        'max_depth': [3, 4, 5]\n",
    "    }\n",
    "\n",
    "gbr = GradientBoostingRegressor()\n",
    "grid_search = GridSearchCV(gbr, param_grid, cv=5, scoring='neg_mean_squared_error', refit=\"neg_mean_squared_error\")\n",
    "grid_search.fit(X_train, y_train)"
   ]
  },
  {
   "cell_type": "code",
   "execution_count": 1997,
   "metadata": {},
   "outputs": [
    {
     "data": {
      "text/plain": [
       "8.363755708377074"
      ]
     },
     "execution_count": 1997,
     "metadata": {},
     "output_type": "execute_result"
    }
   ],
   "source": [
    "best_params = grid_search.best_params_\n",
    "best_score = grid_search.best_score_\n",
    "best_est = grid_search.best_estimator_\n",
    "\n",
    "np.sqrt(best_score*-1)"
   ]
  },
  {
   "cell_type": "code",
   "execution_count": 1998,
   "metadata": {},
   "outputs": [],
   "source": [
    "new_data = pd.DataFrame({\n",
    "    \"metascore\": [54],  # Ejemplo: metascore\n",
    "    \"año_v\": [2009],  # Ejemplo: año\n",
    "    \"early_access\": [1],  # Ejemplo: early_access\n",
    "    \"Action\": [1],  # Ejemplo: género Action\n",
    "    \"Adventure\": [0],\n",
    "    \"Casual\" : [0],\n",
    "    \"Indie\" : [0],\n",
    "    \"Racing\" : [0],\n",
    "    \"Simulation\" : [0],\n",
    "    \"Sports\" : [0],\n",
    "    \"Strategy\" : [1] ,\n",
    "    \"Massively Multiplayer\" : [0],\n",
    "    \"RPG\" : [1] # Ejemplo: género Adventure\n",
    "    # ... (proporciona los valores correspondientes para otras características)\n",
    "})\n",
    "# Columnas a normalizar\n",
    "columns_to_normalize = [\"metascore\", \"año_v\"]\n",
    "# Crear un escalador MinMaxScaler\n",
    "scaler = MinMaxScaler()\n",
    "# Aplicar la normalización a las columnas seleccionadas\n",
    "new_data[columns_to_normalize] = scaler.fit_transform(new_data[columns_to_normalize])"
   ]
  },
  {
   "cell_type": "code",
   "execution_count": 2001,
   "metadata": {},
   "outputs": [
    {
     "data": {
      "text/plain": [
       "array([25.38814405])"
      ]
     },
     "execution_count": 2001,
     "metadata": {},
     "output_type": "execute_result"
    }
   ],
   "source": [
    "y_pred = model.predict(conmetascore)\n",
    "y_pred"
   ]
  },
  {
   "cell_type": "code",
   "execution_count": 2002,
   "metadata": {},
   "outputs": [],
   "source": [
    "X_train, X_test, y_train, y_test= train_test_split(X_predecirmetascore, y_predecirmetascore, test_size=0.33, random_state = 42)"
   ]
  },
  {
   "cell_type": "code",
   "execution_count": 2003,
   "metadata": {},
   "outputs": [],
   "source": [
    "y_pred = rand_for.predict(X_test)\n",
    "mse = mean_squared_error(y_test, y_pred)\n",
    "rmse = np.sqrt(mse)\n"
   ]
  },
  {
   "cell_type": "code",
   "execution_count": 2004,
   "metadata": {},
   "outputs": [
    {
     "data": {
      "image/png": "[encoded data removed]",
      "text/plain": [
       "<Figure size 800x600 with 1 Axes>"
      ]
     },
     "metadata": {},
     "output_type": "display_data"
    }
   ],
   "source": [
    "data = pd.DataFrame({'Predicho': y_pred, 'Verdadero': y_test})\n",
    "\n",
    "\n",
    "plt.figure(figsize=(8, 6))\n",
    "sns.scatterplot(x='Verdadero', y='Predicho', data=data, color='blue', label='Predicho vs. Verdadero')\n",
    "sns.lineplot(x='Verdadero', y='Verdadero', data=data, color='violet', label='Línea de 1:1')\n",
    "\n",
    "plt.xlabel('Valores Verdaderos')\n",
    "plt.ylabel('Valores Predichos')\n",
    "plt.title('Gráfico de Predicción vs. Realidad')\n",
    "plt.legend()\n",
    "plt.show()"
   ]
  },
  {
   "cell_type": "markdown",
   "metadata": {},
   "source": [
    "### Comparando con los dos mejores que me dieron buenos resultados fueron esto"
   ]
  },
  {
   "cell_type": "code",
   "execution_count": 2005,
   "metadata": {},
   "outputs": [
    {
     "data": {
      "text/plain": [
       "array([25.86529733])"
      ]
     },
     "execution_count": 2005,
     "metadata": {},
     "output_type": "execute_result"
    }
   ],
   "source": [
    "rand_for.predict(conmetascore)"
   ]
  },
  {
   "cell_type": "code",
   "execution_count": 2007,
   "metadata": {},
   "outputs": [
    {
     "data": {
      "text/plain": [
       "{'El RMSE de tu RandomForestRegressor(max_depth=5) es 7.9457058419114315, y el r2 0.35590975513801215'}"
      ]
     },
     "execution_count": 2007,
     "metadata": {},
     "output_type": "execute_result"
    }
   ],
   "source": [
    "RMSE_AND_R2(rand_for, X_test, y_test)"
   ]
  },
  {
   "cell_type": "code",
   "execution_count": 2006,
   "metadata": {},
   "outputs": [
    {
     "data": {
      "text/plain": [
       "array([23.98064438])"
      ]
     },
     "execution_count": 2006,
     "metadata": {},
     "output_type": "execute_result"
    }
   ],
   "source": [
    "y_pred = best_est.predict(conmetascore)\n",
    "y_pred"
   ]
  },
  {
   "cell_type": "code",
   "execution_count": 2008,
   "metadata": {},
   "outputs": [
    {
     "data": {
      "text/plain": [
       "['modelo_entrenado_random_forest.pkl']"
      ]
     },
     "execution_count": 2008,
     "metadata": {},
     "output_type": "execute_result"
    }
   ],
   "source": [
    "#import joblib\n",
    "\n",
    "# Supongamos que 'modelo' es tu modelo entrenado\n",
    "#modelo_entrenado = rand_for\n",
    "\n",
    "# Guardar el modelo en un archivo\n",
    "#joblib.dump(modelo_entrenado, 'modelo_entrenado_random_forest.pkl')"
   ]
  },
  {
   "cell_type": "code",
   "execution_count": null,
   "metadata": {},
   "outputs": [],
   "source": []
  },
  {
   "cell_type": "code",
   "execution_count": null,
   "metadata": {},
   "outputs": [],
   "source": [
    "from sklearn.preprocessing import MinMaxScaler\n",
    "# Prepara los nuevos datos (asegúrate de que estén en el mismo formato que los datos de entrenamiento)\n",
    "new_data = pd.DataFrame({\n",
    "    \"metascore\": [75],  # Ejemplo: metascore\n",
    "    \"año_v\": [2010],  # Ejemplo: año\n",
    "    \"early_access\": [1],  # Ejemplo: early_access\n",
    "    \"Action\": [0],  # Ejemplo: género Action\n",
    "    \"Adventure\": [1],\n",
    "    \"Casual\" : [1],\n",
    "    \"Indie\" : [0],\n",
    "    \"Racing\" : [0],\n",
    "    \"Simulation\" : [0],\n",
    "    \"Sports\" : [0],\n",
    "    \"Strategy\" : [0] ,\n",
    "    \"Massively Multiplayer\" : [0],\n",
    "    \"RPG\" : [0] # Ejemplo: género Adventure\n",
    "    # ... (proporciona los valores correspondientes para otras características)\n",
    "})\n",
    "# Columnas a normalizar\n",
    "columns_to_normalize = [\"metascore\", \"año_v\"]\n",
    "\n",
    "# Crear un escalador MinMaxScaler\n",
    "scaler = MinMaxScaler()\n",
    "\n",
    "# Aplicar la normalización a las columnas seleccionadas\n",
    "new_data[columns_to_normalize] = scaler.fit_transform(new_data[columns_to_normalize])"
   ]
  },
  {
   "cell_type": "code",
   "execution_count": null,
   "metadata": {},
   "outputs": [],
   "source": [
    "from sklearn.metrics.pairwise import euclidean_distances"
   ]
  },
  {
   "cell_type": "code",
   "execution_count": null,
   "metadata": {},
   "outputs": [
    {
     "data": {
      "text/html": [
       "<div>\n",
       "<style scoped>\n",
       "    .dataframe tbody tr th:only-of-type {\n",
       "        vertical-align: middle;\n",
       "    }\n",
       "\n",
       "    .dataframe tbody tr th {\n",
       "        vertical-align: top;\n",
       "    }\n",
       "\n",
       "    .dataframe thead th {\n",
       "        text-align: right;\n",
       "    }\n",
       "</style>\n",
       "<table border=\"1\" class=\"dataframe\">\n",
       "  <thead>\n",
       "    <tr style=\"text-align: right;\">\n",
       "      <th></th>\n",
       "      <th>price</th>\n",
       "      <th>metascore</th>\n",
       "      <th>año_v</th>\n",
       "      <th>early_access</th>\n",
       "      <th>Action</th>\n",
       "      <th>Adventure</th>\n",
       "      <th>Casual</th>\n",
       "      <th>Indie</th>\n",
       "      <th>Racing</th>\n",
       "      <th>Simulation</th>\n",
       "      <th>Sports</th>\n",
       "      <th>Strategy</th>\n",
       "      <th>Massively Multiplayer</th>\n",
       "      <th>RPG</th>\n",
       "    </tr>\n",
       "  </thead>\n",
       "  <tbody>\n",
       "    <tr>\n",
       "      <th>27</th>\n",
       "      <td>9.99</td>\n",
       "      <td>2.201330</td>\n",
       "      <td>-4.880863</td>\n",
       "      <td>0</td>\n",
       "      <td>1</td>\n",
       "      <td>0</td>\n",
       "      <td>0</td>\n",
       "      <td>0</td>\n",
       "      <td>0</td>\n",
       "      <td>0</td>\n",
       "      <td>0</td>\n",
       "      <td>0</td>\n",
       "      <td>0</td>\n",
       "      <td>0</td>\n",
       "    </tr>\n",
       "    <tr>\n",
       "      <th>38</th>\n",
       "      <td>6.99</td>\n",
       "      <td>1.087529</td>\n",
       "      <td>-2.566387</td>\n",
       "      <td>0</td>\n",
       "      <td>0</td>\n",
       "      <td>0</td>\n",
       "      <td>0</td>\n",
       "      <td>0</td>\n",
       "      <td>0</td>\n",
       "      <td>0</td>\n",
       "      <td>0</td>\n",
       "      <td>1</td>\n",
       "      <td>0</td>\n",
       "      <td>0</td>\n",
       "    </tr>\n",
       "    <tr>\n",
       "      <th>39</th>\n",
       "      <td>6.99</td>\n",
       "      <td>0.716262</td>\n",
       "      <td>-2.566387</td>\n",
       "      <td>0</td>\n",
       "      <td>0</td>\n",
       "      <td>0</td>\n",
       "      <td>0</td>\n",
       "      <td>0</td>\n",
       "      <td>0</td>\n",
       "      <td>0</td>\n",
       "      <td>0</td>\n",
       "      <td>1</td>\n",
       "      <td>0</td>\n",
       "      <td>0</td>\n",
       "    </tr>\n",
       "    <tr>\n",
       "      <th>40</th>\n",
       "      <td>9.99</td>\n",
       "      <td>0.344995</td>\n",
       "      <td>-2.566387</td>\n",
       "      <td>0</td>\n",
       "      <td>1</td>\n",
       "      <td>0</td>\n",
       "      <td>0</td>\n",
       "      <td>1</td>\n",
       "      <td>0</td>\n",
       "      <td>0</td>\n",
       "      <td>0</td>\n",
       "      <td>0</td>\n",
       "      <td>0</td>\n",
       "      <td>1</td>\n",
       "    </tr>\n",
       "    <tr>\n",
       "      <th>52</th>\n",
       "      <td>9.99</td>\n",
       "      <td>-0.211906</td>\n",
       "      <td>-2.855696</td>\n",
       "      <td>0</td>\n",
       "      <td>1</td>\n",
       "      <td>0</td>\n",
       "      <td>0</td>\n",
       "      <td>0</td>\n",
       "      <td>0</td>\n",
       "      <td>0</td>\n",
       "      <td>0</td>\n",
       "      <td>0</td>\n",
       "      <td>0</td>\n",
       "      <td>0</td>\n",
       "    </tr>\n",
       "    <tr>\n",
       "      <th>...</th>\n",
       "      <td>...</td>\n",
       "      <td>...</td>\n",
       "      <td>...</td>\n",
       "      <td>...</td>\n",
       "      <td>...</td>\n",
       "      <td>...</td>\n",
       "      <td>...</td>\n",
       "      <td>...</td>\n",
       "      <td>...</td>\n",
       "      <td>...</td>\n",
       "      <td>...</td>\n",
       "      <td>...</td>\n",
       "      <td>...</td>\n",
       "      <td>...</td>\n",
       "    </tr>\n",
       "    <tr>\n",
       "      <th>31884</th>\n",
       "      <td>4.99</td>\n",
       "      <td>-0.119089</td>\n",
       "      <td>-4.012934</td>\n",
       "      <td>0</td>\n",
       "      <td>1</td>\n",
       "      <td>0</td>\n",
       "      <td>0</td>\n",
       "      <td>0</td>\n",
       "      <td>0</td>\n",
       "      <td>0</td>\n",
       "      <td>0</td>\n",
       "      <td>0</td>\n",
       "      <td>0</td>\n",
       "      <td>0</td>\n",
       "    </tr>\n",
       "    <tr>\n",
       "      <th>31887</th>\n",
       "      <td>14.99</td>\n",
       "      <td>1.458796</td>\n",
       "      <td>-3.723625</td>\n",
       "      <td>0</td>\n",
       "      <td>1</td>\n",
       "      <td>1</td>\n",
       "      <td>0</td>\n",
       "      <td>0</td>\n",
       "      <td>0</td>\n",
       "      <td>0</td>\n",
       "      <td>0</td>\n",
       "      <td>0</td>\n",
       "      <td>0</td>\n",
       "      <td>0</td>\n",
       "    </tr>\n",
       "    <tr>\n",
       "      <th>31889</th>\n",
       "      <td>4.99</td>\n",
       "      <td>0.623445</td>\n",
       "      <td>-3.434315</td>\n",
       "      <td>0</td>\n",
       "      <td>1</td>\n",
       "      <td>0</td>\n",
       "      <td>0</td>\n",
       "      <td>0</td>\n",
       "      <td>0</td>\n",
       "      <td>0</td>\n",
       "      <td>0</td>\n",
       "      <td>0</td>\n",
       "      <td>0</td>\n",
       "      <td>0</td>\n",
       "    </tr>\n",
       "    <tr>\n",
       "      <th>31891</th>\n",
       "      <td>14.99</td>\n",
       "      <td>1.922879</td>\n",
       "      <td>-3.145006</td>\n",
       "      <td>0</td>\n",
       "      <td>1</td>\n",
       "      <td>0</td>\n",
       "      <td>0</td>\n",
       "      <td>0</td>\n",
       "      <td>0</td>\n",
       "      <td>0</td>\n",
       "      <td>0</td>\n",
       "      <td>0</td>\n",
       "      <td>0</td>\n",
       "      <td>0</td>\n",
       "    </tr>\n",
       "    <tr>\n",
       "      <th>31892</th>\n",
       "      <td>9.99</td>\n",
       "      <td>-0.675990</td>\n",
       "      <td>-3.145006</td>\n",
       "      <td>0</td>\n",
       "      <td>1</td>\n",
       "      <td>0</td>\n",
       "      <td>0</td>\n",
       "      <td>0</td>\n",
       "      <td>0</td>\n",
       "      <td>0</td>\n",
       "      <td>0</td>\n",
       "      <td>0</td>\n",
       "      <td>0</td>\n",
       "      <td>0</td>\n",
       "    </tr>\n",
       "  </tbody>\n",
       "</table>\n",
       "<p>2579 rows × 14 columns</p>\n",
       "</div>"
      ],
      "text/plain": [
       "       price  metascore     año_v  early_access  Action  Adventure  Casual  \\\n",
       "27      9.99   2.201330 -4.880863             0       1          0       0   \n",
       "38      6.99   1.087529 -2.566387             0       0          0       0   \n",
       "39      6.99   0.716262 -2.566387             0       0          0       0   \n",
       "40      9.99   0.344995 -2.566387             0       1          0       0   \n",
       "52      9.99  -0.211906 -2.855696             0       1          0       0   \n",
       "...      ...        ...       ...           ...     ...        ...     ...   \n",
       "31884   4.99  -0.119089 -4.012934             0       1          0       0   \n",
       "31887  14.99   1.458796 -3.723625             0       1          1       0   \n",
       "31889   4.99   0.623445 -3.434315             0       1          0       0   \n",
       "31891  14.99   1.922879 -3.145006             0       1          0       0   \n",
       "31892   9.99  -0.675990 -3.145006             0       1          0       0   \n",
       "\n",
       "       Indie  Racing  Simulation  Sports  Strategy  Massively Multiplayer  RPG  \n",
       "27         0       0           0       0         0                      0    0  \n",
       "38         0       0           0       0         1                      0    0  \n",
       "39         0       0           0       0         1                      0    0  \n",
       "40         1       0           0       0         0                      0    1  \n",
       "52         0       0           0       0         0                      0    0  \n",
       "...      ...     ...         ...     ...       ...                    ...  ...  \n",
       "31884      0       0           0       0         0                      0    0  \n",
       "31887      0       0           0       0         0                      0    0  \n",
       "31889      0       0           0       0         0                      0    0  \n",
       "31891      0       0           0       0         0                      0    0  \n",
       "31892      0       0           0       0         0                      0    0  \n",
       "\n",
       "[2579 rows x 14 columns]"
      ]
     },
     "execution_count": 1563,
     "metadata": {},
     "output_type": "execute_result"
    }
   ],
   "source": [
    "df_mod_predecirmetascore_dropna"
   ]
  },
  {
   "cell_type": "code",
   "execution_count": null,
   "metadata": {},
   "outputs": [
    {
     "data": {
      "text/html": [
       "<div>\n",
       "<style scoped>\n",
       "    .dataframe tbody tr th:only-of-type {\n",
       "        vertical-align: middle;\n",
       "    }\n",
       "\n",
       "    .dataframe tbody tr th {\n",
       "        vertical-align: top;\n",
       "    }\n",
       "\n",
       "    .dataframe thead th {\n",
       "        text-align: right;\n",
       "    }\n",
       "</style>\n",
       "<table border=\"1\" class=\"dataframe\">\n",
       "  <thead>\n",
       "    <tr style=\"text-align: right;\">\n",
       "      <th></th>\n",
       "      <th>price</th>\n",
       "      <th>metascore</th>\n",
       "      <th>año_v</th>\n",
       "      <th>early_access</th>\n",
       "      <th>Action</th>\n",
       "      <th>Adventure</th>\n",
       "      <th>Casual</th>\n",
       "      <th>Indie</th>\n",
       "      <th>Racing</th>\n",
       "      <th>Simulation</th>\n",
       "      <th>Sports</th>\n",
       "      <th>Strategy</th>\n",
       "      <th>Massively Multiplayer</th>\n",
       "      <th>RPG</th>\n",
       "    </tr>\n",
       "  </thead>\n",
       "  <tbody>\n",
       "    <tr>\n",
       "      <th>564</th>\n",
       "      <td>4.99</td>\n",
       "      <td>-0.304723</td>\n",
       "      <td>-1.119839</td>\n",
       "      <td>0</td>\n",
       "      <td>0</td>\n",
       "      <td>1</td>\n",
       "      <td>0</td>\n",
       "      <td>0</td>\n",
       "      <td>0</td>\n",
       "      <td>0</td>\n",
       "      <td>0</td>\n",
       "      <td>0</td>\n",
       "      <td>0</td>\n",
       "      <td>0</td>\n",
       "    </tr>\n",
       "    <tr>\n",
       "      <th>639</th>\n",
       "      <td>9.99</td>\n",
       "      <td>0.437811</td>\n",
       "      <td>-1.119839</td>\n",
       "      <td>0</td>\n",
       "      <td>0</td>\n",
       "      <td>1</td>\n",
       "      <td>1</td>\n",
       "      <td>1</td>\n",
       "      <td>0</td>\n",
       "      <td>0</td>\n",
       "      <td>0</td>\n",
       "      <td>0</td>\n",
       "      <td>0</td>\n",
       "      <td>0</td>\n",
       "    </tr>\n",
       "    <tr>\n",
       "      <th>681</th>\n",
       "      <td>9.99</td>\n",
       "      <td>-0.861623</td>\n",
       "      <td>-1.119839</td>\n",
       "      <td>0</td>\n",
       "      <td>0</td>\n",
       "      <td>1</td>\n",
       "      <td>1</td>\n",
       "      <td>0</td>\n",
       "      <td>0</td>\n",
       "      <td>0</td>\n",
       "      <td>0</td>\n",
       "      <td>0</td>\n",
       "      <td>0</td>\n",
       "      <td>0</td>\n",
       "    </tr>\n",
       "    <tr>\n",
       "      <th>890</th>\n",
       "      <td>9.99</td>\n",
       "      <td>0.716262</td>\n",
       "      <td>-0.830530</td>\n",
       "      <td>0</td>\n",
       "      <td>0</td>\n",
       "      <td>1</td>\n",
       "      <td>1</td>\n",
       "      <td>0</td>\n",
       "      <td>0</td>\n",
       "      <td>0</td>\n",
       "      <td>0</td>\n",
       "      <td>0</td>\n",
       "      <td>0</td>\n",
       "      <td>0</td>\n",
       "    </tr>\n",
       "    <tr>\n",
       "      <th>966</th>\n",
       "      <td>9.99</td>\n",
       "      <td>-0.211906</td>\n",
       "      <td>-0.830530</td>\n",
       "      <td>0</td>\n",
       "      <td>0</td>\n",
       "      <td>0</td>\n",
       "      <td>1</td>\n",
       "      <td>1</td>\n",
       "      <td>0</td>\n",
       "      <td>0</td>\n",
       "      <td>0</td>\n",
       "      <td>0</td>\n",
       "      <td>0</td>\n",
       "      <td>0</td>\n",
       "    </tr>\n",
       "    <tr>\n",
       "      <th>...</th>\n",
       "      <td>...</td>\n",
       "      <td>...</td>\n",
       "      <td>...</td>\n",
       "      <td>...</td>\n",
       "      <td>...</td>\n",
       "      <td>...</td>\n",
       "      <td>...</td>\n",
       "      <td>...</td>\n",
       "      <td>...</td>\n",
       "      <td>...</td>\n",
       "      <td>...</td>\n",
       "      <td>...</td>\n",
       "      <td>...</td>\n",
       "      <td>...</td>\n",
       "    </tr>\n",
       "    <tr>\n",
       "      <th>31043</th>\n",
       "      <td>19.99</td>\n",
       "      <td>0.252178</td>\n",
       "      <td>-1.119839</td>\n",
       "      <td>0</td>\n",
       "      <td>0</td>\n",
       "      <td>1</td>\n",
       "      <td>1</td>\n",
       "      <td>0</td>\n",
       "      <td>0</td>\n",
       "      <td>0</td>\n",
       "      <td>0</td>\n",
       "      <td>0</td>\n",
       "      <td>0</td>\n",
       "      <td>0</td>\n",
       "    </tr>\n",
       "    <tr>\n",
       "      <th>31052</th>\n",
       "      <td>4.99</td>\n",
       "      <td>-0.861623</td>\n",
       "      <td>-1.119839</td>\n",
       "      <td>0</td>\n",
       "      <td>0</td>\n",
       "      <td>1</td>\n",
       "      <td>1</td>\n",
       "      <td>1</td>\n",
       "      <td>0</td>\n",
       "      <td>0</td>\n",
       "      <td>0</td>\n",
       "      <td>0</td>\n",
       "      <td>0</td>\n",
       "      <td>0</td>\n",
       "    </tr>\n",
       "    <tr>\n",
       "      <th>31056</th>\n",
       "      <td>5.99</td>\n",
       "      <td>-0.304723</td>\n",
       "      <td>-1.119839</td>\n",
       "      <td>0</td>\n",
       "      <td>0</td>\n",
       "      <td>1</td>\n",
       "      <td>1</td>\n",
       "      <td>1</td>\n",
       "      <td>0</td>\n",
       "      <td>0</td>\n",
       "      <td>0</td>\n",
       "      <td>0</td>\n",
       "      <td>0</td>\n",
       "      <td>0</td>\n",
       "    </tr>\n",
       "    <tr>\n",
       "      <th>31212</th>\n",
       "      <td>9.99</td>\n",
       "      <td>-0.119089</td>\n",
       "      <td>-1.409149</td>\n",
       "      <td>0</td>\n",
       "      <td>0</td>\n",
       "      <td>1</td>\n",
       "      <td>1</td>\n",
       "      <td>1</td>\n",
       "      <td>0</td>\n",
       "      <td>0</td>\n",
       "      <td>0</td>\n",
       "      <td>0</td>\n",
       "      <td>0</td>\n",
       "      <td>0</td>\n",
       "    </tr>\n",
       "    <tr>\n",
       "      <th>31746</th>\n",
       "      <td>0.99</td>\n",
       "      <td>-0.490356</td>\n",
       "      <td>0.616018</td>\n",
       "      <td>0</td>\n",
       "      <td>1</td>\n",
       "      <td>1</td>\n",
       "      <td>1</td>\n",
       "      <td>1</td>\n",
       "      <td>0</td>\n",
       "      <td>0</td>\n",
       "      <td>0</td>\n",
       "      <td>0</td>\n",
       "      <td>0</td>\n",
       "      <td>0</td>\n",
       "    </tr>\n",
       "  </tbody>\n",
       "</table>\n",
       "<p>351 rows × 14 columns</p>\n",
       "</div>"
      ],
      "text/plain": [
       "       price  metascore     año_v  early_access  Action  Adventure  Casual  \\\n",
       "564     4.99  -0.304723 -1.119839             0       0          1       0   \n",
       "639     9.99   0.437811 -1.119839             0       0          1       1   \n",
       "681     9.99  -0.861623 -1.119839             0       0          1       1   \n",
       "890     9.99   0.716262 -0.830530             0       0          1       1   \n",
       "966     9.99  -0.211906 -0.830530             0       0          0       1   \n",
       "...      ...        ...       ...           ...     ...        ...     ...   \n",
       "31043  19.99   0.252178 -1.119839             0       0          1       1   \n",
       "31052   4.99  -0.861623 -1.119839             0       0          1       1   \n",
       "31056   5.99  -0.304723 -1.119839             0       0          1       1   \n",
       "31212   9.99  -0.119089 -1.409149             0       0          1       1   \n",
       "31746   0.99  -0.490356  0.616018             0       1          1       1   \n",
       "\n",
       "       Indie  Racing  Simulation  Sports  Strategy  Massively Multiplayer  RPG  \n",
       "564        0       0           0       0         0                      0    0  \n",
       "639        1       0           0       0         0                      0    0  \n",
       "681        0       0           0       0         0                      0    0  \n",
       "890        0       0           0       0         0                      0    0  \n",
       "966        1       0           0       0         0                      0    0  \n",
       "...      ...     ...         ...     ...       ...                    ...  ...  \n",
       "31043      0       0           0       0         0                      0    0  \n",
       "31052      1       0           0       0         0                      0    0  \n",
       "31056      1       0           0       0         0                      0    0  \n",
       "31212      1       0           0       0         0                      0    0  \n",
       "31746      1       0           0       0         0                      0    0  \n",
       "\n",
       "[351 rows x 14 columns]"
      ]
     },
     "execution_count": 1564,
     "metadata": {},
     "output_type": "execute_result"
    }
   ],
   "source": [
    "# Calcular la distancia euclidiana entre new_data y cada registro en el dataset\n",
    "distances = euclidean_distances(new_data.values, df_mod_predecirmetascore_dropna.drop(columns=['price']).values)\n",
    "\n",
    "# Definir un umbral de similitud (puedes ajustarlo según tus necesidades)\n",
    "threshold = 2\n",
    "\n",
    "# Filtrar registros similares basados en la distancia euclidiana\n",
    "similar_records = df_mod_predecirmetascore_dropna[distances.flatten() <= threshold]\n",
    "\n",
    "# Mostrar los registros similares\n",
    "similar_records"
   ]
  },
  {
   "cell_type": "code",
   "execution_count": null,
   "metadata": {},
   "outputs": [
    {
     "data": {
      "text/plain": [
       "array([18.44904752])"
      ]
     },
     "execution_count": 1565,
     "metadata": {},
     "output_type": "execute_result"
    }
   ],
   "source": [
    "predictions = best_est.predict(new_data)\n",
    "predictions"
   ]
  },
  {
   "cell_type": "code",
   "execution_count": null,
   "metadata": {},
   "outputs": [
    {
     "data": {
      "text/plain": [
       "22823    0.0\n",
       "Name: price, dtype: float64"
      ]
     },
     "execution_count": 1569,
     "metadata": {},
     "output_type": "execute_result"
    }
   ],
   "source": [
    "similar_records[\"price\"].sort_values(ascending=True).head(1)"
   ]
  },
  {
   "cell_type": "code",
   "execution_count": null,
   "metadata": {},
   "outputs": [
    {
     "data": {
      "text/plain": [
       "18.449047516242167"
      ]
     },
     "execution_count": 1568,
     "metadata": {},
     "output_type": "execute_result"
    }
   ],
   "source": [
    " # Realizar predicciones para los datos proporcionados\n",
    "predictions = best_est.predict(new_data)\n",
    "\n",
    "# Calcular el RMSE\n",
    "rmse = np.sqrt(mean_squared_error(similar_records[\"price\"].sort_values(ascending=True).head(1), predictions))\n",
    "rmse"
   ]
  },
  {
   "cell_type": "code",
   "execution_count": null,
   "metadata": {},
   "outputs": [
    {
     "name": "stderr",
     "output_type": "stream",
     "text": [
      "c:\\Users\\Agus_\\anaconda3\\lib\\site-packages\\sklearn\\base.py:443: UserWarning: X has feature names, but LinearRegression was fitted without feature names\n",
      "  warnings.warn(\n"
     ]
    },
    {
     "data": {
      "text/plain": [
       "array([13.57406609])"
      ]
     },
     "execution_count": 1535,
     "metadata": {},
     "output_type": "execute_result"
    }
   ],
   "source": [
    "predictions = model_inputado.predict(new_data)\n",
    "predictions"
   ]
  },
  {
   "cell_type": "code",
   "execution_count": null,
   "metadata": {},
   "outputs": [
    {
     "data": {
      "text/plain": [
       "array([33.39248269])"
      ]
     },
     "execution_count": 1536,
     "metadata": {},
     "output_type": "execute_result"
    }
   ],
   "source": [
    "predictions = modeldropna.predict(new_data)\n",
    "predictions"
   ]
  }
 ],
 "metadata": {
  "kernelspec": {
   "display_name": "base",
   "language": "python",
   "name": "python3"
  },
  "language_info": {
   "codemirror_mode": {
    "name": "ipython",
    "version": 3
   },
   "file_extension": ".py",
   "mimetype": "text/x-python",
   "name": "python",
   "nbconvert_exporter": "python",
   "pygments_lexer": "ipython3",
   "version": "3.9.13"
  },
  "orig_nbformat": 4
 },
 "nbformat": 4,
 "nbformat_minor": 2
}
