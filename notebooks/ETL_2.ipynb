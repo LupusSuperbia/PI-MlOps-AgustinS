{
 "cells": [
  {
   "cell_type": "code",
   "execution_count": 478,
   "metadata": {},
   "outputs": [],
   "source": [
    "import pandas as pd \n",
    "import seaborn as sns\n",
    "import numpy as np"
   ]
  },
  {
   "cell_type": "markdown",
   "metadata": {},
   "source": [
    "### Acá solo use el steam_games_v1 donde hay algunas modificiaciones pero mas que nada sobre el año "
   ]
  },
  {
   "cell_type": "code",
   "execution_count": 479,
   "metadata": {},
   "outputs": [],
   "source": [
    "\n",
    "df_steam = pd.read_csv(\"../data/csv/steam_games_v1.csv\")"
   ]
  },
  {
   "cell_type": "code",
   "execution_count": 480,
   "metadata": {},
   "outputs": [],
   "source": [
    "df = df_steam.copy()"
   ]
  },
  {
   "cell_type": "code",
   "execution_count": 481,
   "metadata": {},
   "outputs": [
    {
     "data": {
      "text/plain": [
       "350"
      ]
     },
     "execution_count": 481,
     "metadata": {},
     "output_type": "execute_result"
    }
   ],
   "source": [
    "df[\"año_v\"].isnull().sum()"
   ]
  },
  {
   "cell_type": "code",
   "execution_count": 482,
   "metadata": {},
   "outputs": [],
   "source": [
    "df.loc[df[\"año_v\"] == \"nan\", \"año_v\" ] = np.nan"
   ]
  },
  {
   "cell_type": "markdown",
   "metadata": {},
   "source": [
    "## Convertimos nuestra columna genero a categoría"
   ]
  },
  {
   "cell_type": "code",
   "execution_count": 483,
   "metadata": {},
   "outputs": [],
   "source": [
    "df[\"genres\"] = df[\"genres\"].astype(\"category\")"
   ]
  },
  {
   "cell_type": "code",
   "execution_count": 484,
   "metadata": {},
   "outputs": [],
   "source": [
    "## Esta funcion me ayuda a separar los generos que estan en lista y ponerlos por ,\n",
    "\n",
    "def unir_generos(lista):\n",
    "    lista = eval(lista)  # Convertir la cadena en una lista\n",
    "    return ', '.join(lista)"
   ]
  },
  {
   "cell_type": "markdown",
   "metadata": {},
   "source": [
    "## Generamos los dummies para poder separar los diferentes generos , ¿por qué hacemos esto? Para poder decir si existe o no la ausencia de un genero u otro"
   ]
  },
  {
   "cell_type": "code",
   "execution_count": 485,
   "metadata": {},
   "outputs": [],
   "source": [
    "df[\"genres\"] = df[\"genres\"].apply(unir_generos) # Acá aplico la función que cree"
   ]
  },
  {
   "cell_type": "code",
   "execution_count": 486,
   "metadata": {},
   "outputs": [],
   "source": [
    "genres_dummies =  df[\"genres\"].str.get_dummies(sep=\", \") # Separo los generos en dummies para poder leerlos correctamente"
   ]
  },
  {
   "cell_type": "code",
   "execution_count": 487,
   "metadata": {},
   "outputs": [],
   "source": [
    "df = pd.concat([df, genres_dummies], axis=1) ## Los concateno a mi df"
   ]
  },
  {
   "cell_type": "markdown",
   "metadata": {},
   "source": [
    "## Hacemos lo mismo con las especifiaciones "
   ]
  },
  {
   "cell_type": "code",
   "execution_count": 488,
   "metadata": {},
   "outputs": [],
   "source": [
    "df[\"specs\"] = df[\"specs\"].astype(\"category\") ## Acá cambio el tipo de dato para category en las especificaciones"
   ]
  },
  {
   "cell_type": "code",
   "execution_count": 489,
   "metadata": {},
   "outputs": [],
   "source": [
    "df[\"specs\"] = df[\"specs\"].apply(unir_generos)"
   ]
  },
  {
   "cell_type": "code",
   "execution_count": 490,
   "metadata": {},
   "outputs": [],
   "source": [
    "specs_dummies = df[\"specs\"].str.get_dummies(sep=\", \" )\n",
    "df = pd.concat([df, specs_dummies], axis=1)\n"
   ]
  },
  {
   "cell_type": "code",
   "execution_count": 491,
   "metadata": {},
   "outputs": [],
   "source": [
    "df.drop(columns=[\"specs\", \"genres\", \"nan\"], inplace=True) ## Dropeo las columnas que ya no necesito por transformarlas en dummies"
   ]
  },
  {
   "cell_type": "code",
   "execution_count": 492,
   "metadata": {},
   "outputs": [],
   "source": [
    "df[\"early_access\"].replace({False: 0, True:1}, inplace=True) ## Acá reemplazo los true y false por 1 y 0"
   ]
  },
  {
   "cell_type": "markdown",
   "metadata": {},
   "source": [
    "### Reemplazamos todos los valores que sean free to play o etc por su respectivo 0 ya que el precio es 0 por ser gratis, y además también arreglamos algunos precios que se han subido mal "
   ]
  },
  {
   "cell_type": "code",
   "execution_count": 493,
   "metadata": {},
   "outputs": [],
   "source": [
    "df[\"price\"].unique()\n",
    "\n",
    "\n",
    "remplace = {\n",
    "     'Free To Play' : 0,\n",
    "     'Free to Play' : 0,\n",
    "     'Free' : 0,\n",
    "     \"Free Demo\" : 0,\n",
    "     \"Install Now\" : 0,\n",
    "     \"Free Mod\" : 0,\n",
    "     \"Play Now\" : 0,\n",
    "     \"Free HITMAN™ Holiday Pack\" : 0,\n",
    "     \"Starting at $499.00\" : 499.00,\n",
    "     \"Starting at $449.00\" : 449.00,\n",
    "     \"Free to Try\" : 0,\n",
    "     \"Free Movie\" : 0,\n",
    "     \"Free to Use\": 0,\n",
    "     \"Play for Free!\" : 0,\n",
    "     'Install Theme' : 0,\n",
    "     \"Play the Demo\" : 0,\n",
    "     \"Play WARMACHINE: Tactics Demo\" : 0,\n",
    "     \"Third-party\" : 0\n",
    "}"
   ]
  },
  {
   "cell_type": "code",
   "execution_count": 494,
   "metadata": {},
   "outputs": [
    {
     "data": {
      "text/plain": [
       "array(['4.99', 0, '0.99', '2.99', '3.99', '9.99', '18.99', '29.99', nan,\n",
       "       '10.99', '1.59', '14.99', '1.99', '59.99', '8.99', '6.99', '7.99',\n",
       "       '39.99', '19.99', '7.49', '12.99', '5.99', '2.49', '15.99', '1.25',\n",
       "       '24.99', '17.99', '61.99', '3.49', '11.99', '13.99', '34.99',\n",
       "       '74.76', '1.49', '32.99', '99.99', '14.95', '69.99', '16.99',\n",
       "       '79.99', '49.99', '5.0', '44.99', '13.98', '29.96', '119.99',\n",
       "       '109.99', '149.99', '771.71', '21.99', '89.99', '0.98', '139.92',\n",
       "       '4.29', '64.99', '54.99', '74.99', '0.89', '0.5', '299.99', '1.29',\n",
       "       '3.0', '15.0', '5.49', '23.99', '49.0', '20.99', '10.93', '1.39',\n",
       "       '36.99', '4.49', '2.0', '4.0', '9.0', '234.99', '1.95', '1.5',\n",
       "       '199.0', '189.0', '6.66', '27.99', '10.49', '129.99', '179.0',\n",
       "       '26.99', '399.99', '31.99', '399.0', '20.0', '40.0', '3.33',\n",
       "       '199.99', '22.99', '320.0', '38.85', '71.7', '59.95', '995.0',\n",
       "       '27.49', '3.39', '6.0', '19.95', '499.99', '16.06', '4.68',\n",
       "       '131.4', '44.98', '202.76', '1.0', '2.3', '0.95', '172.24',\n",
       "       '249.99', '2.97', '10.96', '10.0', '30.0', '2.66', '6.48', '19.29',\n",
       "       '11.15', '18.9', '2.89', '99.0', '87.94', '599.0', '8.98', '9.69',\n",
       "       '0.49', '9.98', '9.95', '7.0', 499.0, 449.0, '12.89', '6.49',\n",
       "       '1.87', '42.99', '41.99', '289.99', '23.96', '5.65', '12.0',\n",
       "       '13.37', '189.96', '124.99', '19.98', '160.91'], dtype=object)"
      ]
     },
     "execution_count": 494,
     "metadata": {},
     "output_type": "execute_result"
    }
   ],
   "source": [
    "df[\"price\"].replace(remplace, inplace=True)\n",
    "df[\"price\"].unique() "
   ]
  },
  {
   "cell_type": "code",
   "execution_count": 495,
   "metadata": {},
   "outputs": [],
   "source": [
    "df[\"price\"] = df[\"price\"].astype(\"float64\")"
   ]
  },
  {
   "cell_type": "code",
   "execution_count": 496,
   "metadata": {},
   "outputs": [],
   "source": [
    "## Volvemos a limpiar el año porque me quedo como si fuera un numero flotante, ya que tuve que pasarlo a flotante porque no me dejaba cambiar de object a int64\n",
    "df['año_v'] = df[\"año_v\"].astype(\"string\").str.split('.').str[0].astype(\"string\")"
   ]
  },
  {
   "cell_type": "code",
   "execution_count": 497,
   "metadata": {},
   "outputs": [],
   "source": [
    "## Guardamos esta parte usada para la api "
   ]
  },
  {
   "cell_type": "code",
   "execution_count": 498,
   "metadata": {},
   "outputs": [],
   "source": [
    "df_api = df.copy()\n",
    "df_api[\"año_v\"] = df_api[\"año_v\"].astype(\"string\")\n",
    "df_api[\"año_v\"] = df_api[\"año_v\"].str.strip()"
   ]
  },
  {
   "cell_type": "code",
   "execution_count": 499,
   "metadata": {},
   "outputs": [],
   "source": [
    "s = df_api.to_parquet(\"../data/parquet/steam_model_api_parquet.parquet\", engine=\"pyarrow\")"
   ]
  },
  {
   "cell_type": "code",
   "execution_count": 500,
   "metadata": {},
   "outputs": [],
   "source": [
    "rows_with_nulls = df[df['price'].isnull() & df['metascore'].isnull() & df['año_v'].isnull()]\n",
    "rows_with_nulls.shape[0]\n",
    "df.drop(index=rows_with_nulls.index, inplace=True)"
   ]
  },
  {
   "cell_type": "code",
   "execution_count": 501,
   "metadata": {},
   "outputs": [
    {
     "data": {
      "text/plain": [
       "4176"
      ]
     },
     "execution_count": 501,
     "metadata": {},
     "output_type": "execute_result"
    }
   ],
   "source": [
    "df[\"sentiment\"].isnull().sum()"
   ]
  },
  {
   "cell_type": "code",
   "execution_count": 502,
   "metadata": {},
   "outputs": [],
   "source": [
    "df.dropna(subset=[\"app_name\"], inplace=True)"
   ]
  },
  {
   "cell_type": "code",
   "execution_count": 503,
   "metadata": {},
   "outputs": [
    {
     "data": {
      "text/plain": [
       "0"
      ]
     },
     "execution_count": 503,
     "metadata": {},
     "output_type": "execute_result"
    }
   ],
   "source": [
    "df.duplicated().sum()"
   ]
  },
  {
   "cell_type": "code",
   "execution_count": 504,
   "metadata": {},
   "outputs": [
    {
     "data": {
      "text/plain": [
       "1"
      ]
     },
     "execution_count": 504,
     "metadata": {},
     "output_type": "execute_result"
    }
   ],
   "source": [
    "df[\"id\"].isnull().sum() ## vemos los id que son nulos para poder eliminarlos"
   ]
  },
  {
   "cell_type": "code",
   "execution_count": 505,
   "metadata": {},
   "outputs": [
    {
     "data": {
      "text/html": [
       "<div>\n",
       "<style scoped>\n",
       "    .dataframe tbody tr th:only-of-type {\n",
       "        vertical-align: middle;\n",
       "    }\n",
       "\n",
       "    .dataframe tbody tr th {\n",
       "        vertical-align: top;\n",
       "    }\n",
       "\n",
       "    .dataframe thead th {\n",
       "        text-align: right;\n",
       "    }\n",
       "</style>\n",
       "<table border=\"1\" class=\"dataframe\">\n",
       "  <thead>\n",
       "    <tr style=\"text-align: right;\">\n",
       "      <th></th>\n",
       "      <th>publisher</th>\n",
       "      <th>app_name</th>\n",
       "      <th>title</th>\n",
       "      <th>url</th>\n",
       "      <th>tags</th>\n",
       "      <th>discount_price</th>\n",
       "      <th>reviews_url</th>\n",
       "      <th>price</th>\n",
       "      <th>early_access</th>\n",
       "      <th>id</th>\n",
       "      <th>...</th>\n",
       "      <th>Steam Achievements</th>\n",
       "      <th>Steam Cloud</th>\n",
       "      <th>Steam Leaderboards</th>\n",
       "      <th>Steam Trading Cards</th>\n",
       "      <th>Steam Turn Notifications</th>\n",
       "      <th>Steam Workshop</th>\n",
       "      <th>SteamVR Collectibles</th>\n",
       "      <th>Tracked Motion Controllers</th>\n",
       "      <th>Valve Anti-Cheat enabled</th>\n",
       "      <th>Windows Mixed Reality</th>\n",
       "    </tr>\n",
       "  </thead>\n",
       "  <tbody>\n",
       "    <tr>\n",
       "      <th>30961</th>\n",
       "      <td>Warner Bros. Interactive Entertainment, Feral ...</td>\n",
       "      <td>Batman: Arkham City - Game of the Year Edition</td>\n",
       "      <td>Batman: Arkham City - Game of the Year Edition</td>\n",
       "      <td>http://store.steampowered.com/app/200260</td>\n",
       "      <td>['Action', 'Open World', 'Batman', 'Adventure'...</td>\n",
       "      <td>0.0</td>\n",
       "      <td>NaN</td>\n",
       "      <td>19.99</td>\n",
       "      <td>0</td>\n",
       "      <td>NaN</td>\n",
       "      <td>...</td>\n",
       "      <td>1</td>\n",
       "      <td>1</td>\n",
       "      <td>0</td>\n",
       "      <td>1</td>\n",
       "      <td>0</td>\n",
       "      <td>0</td>\n",
       "      <td>0</td>\n",
       "      <td>0</td>\n",
       "      <td>0</td>\n",
       "      <td>0</td>\n",
       "    </tr>\n",
       "  </tbody>\n",
       "</table>\n",
       "<p>1 rows × 76 columns</p>\n",
       "</div>"
      ],
      "text/plain": [
       "                                               publisher  \\\n",
       "30961  Warner Bros. Interactive Entertainment, Feral ...   \n",
       "\n",
       "                                             app_name  \\\n",
       "30961  Batman: Arkham City - Game of the Year Edition   \n",
       "\n",
       "                                                title  \\\n",
       "30961  Batman: Arkham City - Game of the Year Edition   \n",
       "\n",
       "                                            url  \\\n",
       "30961  http://store.steampowered.com/app/200260   \n",
       "\n",
       "                                                    tags  discount_price  \\\n",
       "30961  ['Action', 'Open World', 'Batman', 'Adventure'...             0.0   \n",
       "\n",
       "      reviews_url  price  early_access  id  ... Steam Achievements  \\\n",
       "30961         NaN  19.99             0 NaN  ...                  1   \n",
       "\n",
       "      Steam Cloud  Steam Leaderboards Steam Trading Cards  \\\n",
       "30961           1                   0                   1   \n",
       "\n",
       "       Steam Turn Notifications  Steam Workshop  SteamVR Collectibles  \\\n",
       "30961                         0               0                     0   \n",
       "\n",
       "       Tracked Motion Controllers  Valve Anti-Cheat enabled  \\\n",
       "30961                           0                         0   \n",
       "\n",
       "       Windows Mixed Reality  \n",
       "30961                      0  \n",
       "\n",
       "[1 rows x 76 columns]"
      ]
     },
     "execution_count": 505,
     "metadata": {},
     "output_type": "execute_result"
    }
   ],
   "source": [
    "df[df[\"id\"].isnull()] ## acá vemos que filas tienen los nulos"
   ]
  },
  {
   "cell_type": "code",
   "execution_count": 506,
   "metadata": {},
   "outputs": [
    {
     "data": {
      "text/html": [
       "<div>\n",
       "<style scoped>\n",
       "    .dataframe tbody tr th:only-of-type {\n",
       "        vertical-align: middle;\n",
       "    }\n",
       "\n",
       "    .dataframe tbody tr th {\n",
       "        vertical-align: top;\n",
       "    }\n",
       "\n",
       "    .dataframe thead th {\n",
       "        text-align: right;\n",
       "    }\n",
       "</style>\n",
       "<table border=\"1\" class=\"dataframe\">\n",
       "  <thead>\n",
       "    <tr style=\"text-align: right;\">\n",
       "      <th></th>\n",
       "      <th>publisher</th>\n",
       "      <th>app_name</th>\n",
       "      <th>title</th>\n",
       "      <th>url</th>\n",
       "      <th>tags</th>\n",
       "      <th>discount_price</th>\n",
       "      <th>reviews_url</th>\n",
       "      <th>price</th>\n",
       "      <th>early_access</th>\n",
       "      <th>id</th>\n",
       "      <th>...</th>\n",
       "      <th>Steam Achievements</th>\n",
       "      <th>Steam Cloud</th>\n",
       "      <th>Steam Leaderboards</th>\n",
       "      <th>Steam Trading Cards</th>\n",
       "      <th>Steam Turn Notifications</th>\n",
       "      <th>Steam Workshop</th>\n",
       "      <th>SteamVR Collectibles</th>\n",
       "      <th>Tracked Motion Controllers</th>\n",
       "      <th>Valve Anti-Cheat enabled</th>\n",
       "      <th>Windows Mixed Reality</th>\n",
       "    </tr>\n",
       "  </thead>\n",
       "  <tbody>\n",
       "    <tr>\n",
       "      <th>1068</th>\n",
       "      <td>Warner Bros. Interactive Entertainment, Feral ...</td>\n",
       "      <td>Batman: Arkham City - Game of the Year Edition</td>\n",
       "      <td>Batman: Arkham City - Game of the Year Edition</td>\n",
       "      <td>http://store.steampowered.com/app/200260/Batma...</td>\n",
       "      <td>['Action', 'Open World', 'Batman', 'Adventure'...</td>\n",
       "      <td>0.0</td>\n",
       "      <td>http://steamcommunity.com/app/200260/reviews/?...</td>\n",
       "      <td>19.99</td>\n",
       "      <td>0</td>\n",
       "      <td>200260.0</td>\n",
       "      <td>...</td>\n",
       "      <td>1</td>\n",
       "      <td>1</td>\n",
       "      <td>0</td>\n",
       "      <td>1</td>\n",
       "      <td>0</td>\n",
       "      <td>0</td>\n",
       "      <td>0</td>\n",
       "      <td>0</td>\n",
       "      <td>0</td>\n",
       "      <td>0</td>\n",
       "    </tr>\n",
       "    <tr>\n",
       "      <th>30961</th>\n",
       "      <td>Warner Bros. Interactive Entertainment, Feral ...</td>\n",
       "      <td>Batman: Arkham City - Game of the Year Edition</td>\n",
       "      <td>Batman: Arkham City - Game of the Year Edition</td>\n",
       "      <td>http://store.steampowered.com/app/200260</td>\n",
       "      <td>['Action', 'Open World', 'Batman', 'Adventure'...</td>\n",
       "      <td>0.0</td>\n",
       "      <td>NaN</td>\n",
       "      <td>19.99</td>\n",
       "      <td>0</td>\n",
       "      <td>NaN</td>\n",
       "      <td>...</td>\n",
       "      <td>1</td>\n",
       "      <td>1</td>\n",
       "      <td>0</td>\n",
       "      <td>1</td>\n",
       "      <td>0</td>\n",
       "      <td>0</td>\n",
       "      <td>0</td>\n",
       "      <td>0</td>\n",
       "      <td>0</td>\n",
       "      <td>0</td>\n",
       "    </tr>\n",
       "  </tbody>\n",
       "</table>\n",
       "<p>2 rows × 76 columns</p>\n",
       "</div>"
      ],
      "text/plain": [
       "                                               publisher  \\\n",
       "1068   Warner Bros. Interactive Entertainment, Feral ...   \n",
       "30961  Warner Bros. Interactive Entertainment, Feral ...   \n",
       "\n",
       "                                             app_name  \\\n",
       "1068   Batman: Arkham City - Game of the Year Edition   \n",
       "30961  Batman: Arkham City - Game of the Year Edition   \n",
       "\n",
       "                                                title  \\\n",
       "1068   Batman: Arkham City - Game of the Year Edition   \n",
       "30961  Batman: Arkham City - Game of the Year Edition   \n",
       "\n",
       "                                                     url  \\\n",
       "1068   http://store.steampowered.com/app/200260/Batma...   \n",
       "30961           http://store.steampowered.com/app/200260   \n",
       "\n",
       "                                                    tags  discount_price  \\\n",
       "1068   ['Action', 'Open World', 'Batman', 'Adventure'...             0.0   \n",
       "30961  ['Action', 'Open World', 'Batman', 'Adventure'...             0.0   \n",
       "\n",
       "                                             reviews_url  price  early_access  \\\n",
       "1068   http://steamcommunity.com/app/200260/reviews/?...  19.99             0   \n",
       "30961                                                NaN  19.99             0   \n",
       "\n",
       "             id  ... Steam Achievements Steam Cloud  Steam Leaderboards  \\\n",
       "1068   200260.0  ...                  1           1                   0   \n",
       "30961       NaN  ...                  1           1                   0   \n",
       "\n",
       "      Steam Trading Cards  Steam Turn Notifications  Steam Workshop  \\\n",
       "1068                    1                         0               0   \n",
       "30961                   1                         0               0   \n",
       "\n",
       "       SteamVR Collectibles  Tracked Motion Controllers  \\\n",
       "1068                      0                           0   \n",
       "30961                     0                           0   \n",
       "\n",
       "       Valve Anti-Cheat enabled  Windows Mixed Reality  \n",
       "1068                          0                      0  \n",
       "30961                         0                      0  \n",
       "\n",
       "[2 rows x 76 columns]"
      ]
     },
     "execution_count": 506,
     "metadata": {},
     "output_type": "execute_result"
    }
   ],
   "source": [
    "df[df[\"app_name\"] == \"Batman: Arkham City - Game of the Year Edition\"] ## esto lo hice para ver cual era y me parecio una sorpresa que haya dos, entonces elimine uno"
   ]
  },
  {
   "cell_type": "code",
   "execution_count": 507,
   "metadata": {},
   "outputs": [],
   "source": [
    "df.drop(index=df[df[\"id\"].isnull()].index, inplace=True)"
   ]
  },
  {
   "cell_type": "code",
   "execution_count": 508,
   "metadata": {},
   "outputs": [
    {
     "data": {
      "text/plain": [
       "<AxesSubplot:xlabel='metascore', ylabel='price'>"
      ]
     },
     "execution_count": 508,
     "metadata": {},
     "output_type": "execute_result"
    },
    {
     "data": {
      "image/png": "[encoded data removed]",
      "text/plain": [
       "<Figure size 640x480 with 1 Axes>"
      ]
     },
     "metadata": {},
     "output_type": "display_data"
    }
   ],
   "source": [
    "sns.lineplot(data=df, x=\"metascore\", y=\"price\")"
   ]
  },
  {
   "cell_type": "markdown",
   "metadata": {},
   "source": [
    "### Hacemos una copia para hacer unos cambios en el dataframes donde vamos a eliminar ciertas columnas y filas que segun nuestro criterio son irrelevantes ya que contienen datos nulos o datos que no son los que necesito"
   ]
  },
  {
   "cell_type": "code",
   "execution_count": 509,
   "metadata": {},
   "outputs": [],
   "source": [
    "df2 = df.copy()"
   ]
  },
  {
   "cell_type": "code",
   "execution_count": 510,
   "metadata": {},
   "outputs": [],
   "source": [
    "rows_with_price = df2[df2[\"price\"] == 0 & df2[\"metascore\"].isnull()]\n",
    "df2.drop(index=rows_with_price.index, inplace=True)"
   ]
  },
  {
   "cell_type": "code",
   "execution_count": 511,
   "metadata": {},
   "outputs": [],
   "source": [
    "filter_price = df2[\"price\"].isnull() & df2[\"metascore\"].isnull()\n",
    "eliminar_filas =  df2.loc[filter_price, \"price\"]\n",
    "df2.drop(index=eliminar_filas.index, inplace=True)"
   ]
  },
  {
   "cell_type": "code",
   "execution_count": 512,
   "metadata": {},
   "outputs": [
    {
     "data": {
      "text/plain": [
       "count    28848.000000\n",
       "mean         9.485397\n",
       "std         16.706657\n",
       "min          0.490000\n",
       "25%          2.990000\n",
       "50%          4.990000\n",
       "75%          9.990000\n",
       "max        995.000000\n",
       "Name: price, dtype: float64"
      ]
     },
     "execution_count": 512,
     "metadata": {},
     "output_type": "execute_result"
    }
   ],
   "source": [
    "df2[\"price\"].describe()"
   ]
  },
  {
   "cell_type": "code",
   "execution_count": 513,
   "metadata": {},
   "outputs": [
    {
     "data": {
      "text/plain": [
       "<AxesSubplot:xlabel='price', ylabel='metascore'>"
      ]
     },
     "execution_count": 513,
     "metadata": {},
     "output_type": "execute_result"
    },
    {
     "data": {
      "image/png": "[encoded data removed]",
      "text/plain": [
       "<Figure size 640x480 with 1 Axes>"
      ]
     },
     "metadata": {},
     "output_type": "display_data"
    }
   ],
   "source": [
    "sns.scatterplot(data=df, x=\"price\", y=\"metascore\")"
   ]
  },
  {
   "cell_type": "markdown",
   "metadata": {},
   "source": [
    "<p>Acá lo que hice fue poner el precio  que sea mayor a 0 ya que los que yo considero que son 0 son free to play, y menos a 90, ya que para arriba de este monto los considero outliers para mi modelo</p>"
   ]
  },
  {
   "cell_type": "code",
   "execution_count": 515,
   "metadata": {},
   "outputs": [],
   "source": [
    "row_price = df2[(df2[\"price\"] == 0) | (df2[\"price\"] >= 90)]"
   ]
  },
  {
   "cell_type": "code",
   "execution_count": 516,
   "metadata": {},
   "outputs": [],
   "source": [
    "df2.drop(index=row_price.index, inplace=True)"
   ]
  },
  {
   "cell_type": "markdown",
   "metadata": {},
   "source": [
    "## Dropeamos columnas que sentimos que son irrelevantes para nuestro modelo"
   ]
  },
  {
   "cell_type": "code",
   "execution_count": 517,
   "metadata": {},
   "outputs": [],
   "source": [
    "df2.drop(columns=[\"publisher\", \"title\", \"reviews_url\", \"discount_price\", \"reviews_url\", \"developer\", \"tags\", \"id\", \"sentiment\"], inplace=True)\n"
   ]
  },
  {
   "cell_type": "code",
   "execution_count": 518,
   "metadata": {},
   "outputs": [
    {
     "data": {
      "text/html": [
       "<div>\n",
       "<style scoped>\n",
       "    .dataframe tbody tr th:only-of-type {\n",
       "        vertical-align: middle;\n",
       "    }\n",
       "\n",
       "    .dataframe tbody tr th {\n",
       "        vertical-align: top;\n",
       "    }\n",
       "\n",
       "    .dataframe thead th {\n",
       "        text-align: right;\n",
       "    }\n",
       "</style>\n",
       "<table border=\"1\" class=\"dataframe\">\n",
       "  <thead>\n",
       "    <tr style=\"text-align: right;\">\n",
       "      <th></th>\n",
       "      <th>url</th>\n",
       "      <th>price</th>\n",
       "      <th>early_access</th>\n",
       "      <th>metascore</th>\n",
       "      <th>año_v</th>\n",
       "      <th>Accounting</th>\n",
       "      <th>Action</th>\n",
       "      <th>Adventure</th>\n",
       "      <th>Animation &amp;amp; Modeling</th>\n",
       "      <th>Audio Production</th>\n",
       "      <th>...</th>\n",
       "      <th>Steam Achievements</th>\n",
       "      <th>Steam Cloud</th>\n",
       "      <th>Steam Leaderboards</th>\n",
       "      <th>Steam Trading Cards</th>\n",
       "      <th>Steam Turn Notifications</th>\n",
       "      <th>Steam Workshop</th>\n",
       "      <th>SteamVR Collectibles</th>\n",
       "      <th>Tracked Motion Controllers</th>\n",
       "      <th>Valve Anti-Cheat enabled</th>\n",
       "      <th>Windows Mixed Reality</th>\n",
       "    </tr>\n",
       "  </thead>\n",
       "  <tbody>\n",
       "    <tr>\n",
       "      <th>0</th>\n",
       "      <td>http://store.steampowered.com/app/761140/Lost_...</td>\n",
       "      <td>4.99</td>\n",
       "      <td>0</td>\n",
       "      <td>NaN</td>\n",
       "      <td>2018</td>\n",
       "      <td>0</td>\n",
       "      <td>1</td>\n",
       "      <td>0</td>\n",
       "      <td>0</td>\n",
       "      <td>0</td>\n",
       "      <td>...</td>\n",
       "      <td>0</td>\n",
       "      <td>0</td>\n",
       "      <td>0</td>\n",
       "      <td>0</td>\n",
       "      <td>0</td>\n",
       "      <td>0</td>\n",
       "      <td>0</td>\n",
       "      <td>0</td>\n",
       "      <td>0</td>\n",
       "      <td>0</td>\n",
       "    </tr>\n",
       "    <tr>\n",
       "      <th>3</th>\n",
       "      <td>http://store.steampowered.com/app/767400/2222/</td>\n",
       "      <td>0.99</td>\n",
       "      <td>0</td>\n",
       "      <td>NaN</td>\n",
       "      <td>2017</td>\n",
       "      <td>0</td>\n",
       "      <td>1</td>\n",
       "      <td>1</td>\n",
       "      <td>0</td>\n",
       "      <td>0</td>\n",
       "      <td>...</td>\n",
       "      <td>0</td>\n",
       "      <td>0</td>\n",
       "      <td>0</td>\n",
       "      <td>0</td>\n",
       "      <td>0</td>\n",
       "      <td>0</td>\n",
       "      <td>0</td>\n",
       "      <td>0</td>\n",
       "      <td>0</td>\n",
       "      <td>0</td>\n",
       "    </tr>\n",
       "    <tr>\n",
       "      <th>4</th>\n",
       "      <td>http://store.steampowered.com/app/773570/Log_C...</td>\n",
       "      <td>2.99</td>\n",
       "      <td>0</td>\n",
       "      <td>NaN</td>\n",
       "      <td>2018</td>\n",
       "      <td>0</td>\n",
       "      <td>0</td>\n",
       "      <td>0</td>\n",
       "      <td>0</td>\n",
       "      <td>0</td>\n",
       "      <td>...</td>\n",
       "      <td>0</td>\n",
       "      <td>0</td>\n",
       "      <td>0</td>\n",
       "      <td>0</td>\n",
       "      <td>0</td>\n",
       "      <td>0</td>\n",
       "      <td>0</td>\n",
       "      <td>1</td>\n",
       "      <td>0</td>\n",
       "      <td>0</td>\n",
       "    </tr>\n",
       "    <tr>\n",
       "      <th>5</th>\n",
       "      <td>http://store.steampowered.com/app/772540/Battl...</td>\n",
       "      <td>3.99</td>\n",
       "      <td>0</td>\n",
       "      <td>NaN</td>\n",
       "      <td>2018</td>\n",
       "      <td>0</td>\n",
       "      <td>1</td>\n",
       "      <td>1</td>\n",
       "      <td>0</td>\n",
       "      <td>0</td>\n",
       "      <td>...</td>\n",
       "      <td>1</td>\n",
       "      <td>0</td>\n",
       "      <td>0</td>\n",
       "      <td>0</td>\n",
       "      <td>0</td>\n",
       "      <td>0</td>\n",
       "      <td>0</td>\n",
       "      <td>0</td>\n",
       "      <td>0</td>\n",
       "      <td>0</td>\n",
       "    </tr>\n",
       "    <tr>\n",
       "      <th>6</th>\n",
       "      <td>http://store.steampowered.com/app/774276/SNOW_...</td>\n",
       "      <td>9.99</td>\n",
       "      <td>0</td>\n",
       "      <td>NaN</td>\n",
       "      <td>2018</td>\n",
       "      <td>0</td>\n",
       "      <td>0</td>\n",
       "      <td>0</td>\n",
       "      <td>0</td>\n",
       "      <td>0</td>\n",
       "      <td>...</td>\n",
       "      <td>1</td>\n",
       "      <td>1</td>\n",
       "      <td>1</td>\n",
       "      <td>1</td>\n",
       "      <td>0</td>\n",
       "      <td>0</td>\n",
       "      <td>0</td>\n",
       "      <td>0</td>\n",
       "      <td>0</td>\n",
       "      <td>0</td>\n",
       "    </tr>\n",
       "  </tbody>\n",
       "</table>\n",
       "<p>5 rows × 67 columns</p>\n",
       "</div>"
      ],
      "text/plain": [
       "                                                 url  price  early_access  \\\n",
       "0  http://store.steampowered.com/app/761140/Lost_...   4.99             0   \n",
       "3     http://store.steampowered.com/app/767400/2222/   0.99             0   \n",
       "4  http://store.steampowered.com/app/773570/Log_C...   2.99             0   \n",
       "5  http://store.steampowered.com/app/772540/Battl...   3.99             0   \n",
       "6  http://store.steampowered.com/app/774276/SNOW_...   9.99             0   \n",
       "\n",
       "   metascore año_v  Accounting  Action  Adventure  Animation &amp; Modeling  \\\n",
       "0        NaN  2018           0       1          0                         0   \n",
       "3        NaN  2017           0       1          1                         0   \n",
       "4        NaN  2018           0       0          0                         0   \n",
       "5        NaN  2018           0       1          1                         0   \n",
       "6        NaN  2018           0       0          0                         0   \n",
       "\n",
       "   Audio Production  ...  Steam Achievements  Steam Cloud  Steam Leaderboards  \\\n",
       "0                 0  ...                   0            0                   0   \n",
       "3                 0  ...                   0            0                   0   \n",
       "4                 0  ...                   0            0                   0   \n",
       "5                 0  ...                   1            0                   0   \n",
       "6                 0  ...                   1            1                   1   \n",
       "\n",
       "   Steam Trading Cards  Steam Turn Notifications  Steam Workshop  \\\n",
       "0                    0                         0               0   \n",
       "3                    0                         0               0   \n",
       "4                    0                         0               0   \n",
       "5                    0                         0               0   \n",
       "6                    1                         0               0   \n",
       "\n",
       "   SteamVR Collectibles  Tracked Motion Controllers  Valve Anti-Cheat enabled  \\\n",
       "0                     0                           0                         0   \n",
       "3                     0                           0                         0   \n",
       "4                     0                           1                         0   \n",
       "5                     0                           0                         0   \n",
       "6                     0                           0                         0   \n",
       "\n",
       "   Windows Mixed Reality  \n",
       "0                      0  \n",
       "3                      0  \n",
       "4                      0  \n",
       "5                      0  \n",
       "6                      0  \n",
       "\n",
       "[5 rows x 67 columns]"
      ]
     },
     "execution_count": 518,
     "metadata": {},
     "output_type": "execute_result"
    }
   ],
   "source": [
    "df2.head(5)"
   ]
  },
  {
   "cell_type": "code",
   "execution_count": 519,
   "metadata": {},
   "outputs": [
    {
     "data": {
      "text/plain": [
       "67"
      ]
     },
     "execution_count": 519,
     "metadata": {},
     "output_type": "execute_result"
    }
   ],
   "source": [
    "df2[\"año_v\"].isnull().sum()"
   ]
  },
  {
   "cell_type": "code",
   "execution_count": 520,
   "metadata": {},
   "outputs": [],
   "source": [
    "## Eliminamos las que son nulas tanto para año como metascore ya que no nos va a servir\n",
    "filas_a_eliminar = df2[df2[\"año_v\"].isnull() & df2[\"metascore\"].isnull() ]\n",
    "\n",
    "df2 = df2.drop(filas_a_eliminar.index, axis=0)"
   ]
  },
  {
   "cell_type": "code",
   "execution_count": 521,
   "metadata": {},
   "outputs": [
    {
     "ename": "KeyError",
     "evalue": "'app_name'",
     "output_type": "error",
     "traceback": [
      "\u001b[1;31m---------------------------------------------------------------------------\u001b[0m",
      "\u001b[1;31mKeyError\u001b[0m                                  Traceback (most recent call last)",
      "\u001b[1;32mc:\\Users\\Agus_\\anaconda3\\lib\\site-packages\\pandas\\core\\indexes\\base.py\u001b[0m in \u001b[0;36mget_loc\u001b[1;34m(self, key, method, tolerance)\u001b[0m\n\u001b[0;32m   3628\u001b[0m             \u001b[1;32mtry\u001b[0m\u001b[1;33m:\u001b[0m\u001b[1;33m\u001b[0m\u001b[1;33m\u001b[0m\u001b[0m\n\u001b[1;32m-> 3629\u001b[1;33m                 \u001b[1;32mreturn\u001b[0m \u001b[0mself\u001b[0m\u001b[1;33m.\u001b[0m\u001b[0m_engine\u001b[0m\u001b[1;33m.\u001b[0m\u001b[0mget_loc\u001b[0m\u001b[1;33m(\u001b[0m\u001b[0mcasted_key\u001b[0m\u001b[1;33m)\u001b[0m\u001b[1;33m\u001b[0m\u001b[1;33m\u001b[0m\u001b[0m\n\u001b[0m\u001b[0;32m   3630\u001b[0m             \u001b[1;32mexcept\u001b[0m \u001b[0mKeyError\u001b[0m \u001b[1;32mas\u001b[0m \u001b[0merr\u001b[0m\u001b[1;33m:\u001b[0m\u001b[1;33m\u001b[0m\u001b[1;33m\u001b[0m\u001b[0m\n",
      "\u001b[1;32mc:\\Users\\Agus_\\anaconda3\\lib\\site-packages\\pandas\\_libs\\index.pyx\u001b[0m in \u001b[0;36mpandas._libs.index.IndexEngine.get_loc\u001b[1;34m()\u001b[0m\n",
      "\u001b[1;32mc:\\Users\\Agus_\\anaconda3\\lib\\site-packages\\pandas\\_libs\\index.pyx\u001b[0m in \u001b[0;36mpandas._libs.index.IndexEngine.get_loc\u001b[1;34m()\u001b[0m\n",
      "\u001b[1;32mpandas\\_libs\\hashtable_class_helper.pxi\u001b[0m in \u001b[0;36mpandas._libs.hashtable.PyObjectHashTable.get_item\u001b[1;34m()\u001b[0m\n",
      "\u001b[1;32mpandas\\_libs\\hashtable_class_helper.pxi\u001b[0m in \u001b[0;36mpandas._libs.hashtable.PyObjectHashTable.get_item\u001b[1;34m()\u001b[0m\n",
      "\u001b[1;31mKeyError\u001b[0m: 'app_name'",
      "\nThe above exception was the direct cause of the following exception:\n",
      "\u001b[1;31mKeyError\u001b[0m                                  Traceback (most recent call last)",
      "\u001b[1;32m~\\AppData\\Local\\Temp\\ipykernel_17952\\3644153317.py\u001b[0m in \u001b[0;36m<module>\u001b[1;34m\u001b[0m\n\u001b[1;32m----> 1\u001b[1;33m \u001b[0mmask\u001b[0m \u001b[1;33m=\u001b[0m \u001b[0mdf2\u001b[0m\u001b[1;33m[\u001b[0m\u001b[1;34m\"app_name\"\u001b[0m\u001b[1;33m]\u001b[0m\u001b[1;33m.\u001b[0m\u001b[0mstr\u001b[0m\u001b[1;33m.\u001b[0m\u001b[0mcontains\u001b[0m\u001b[1;33m(\u001b[0m\u001b[1;34m\"Transcripted\"\u001b[0m\u001b[1;33m)\u001b[0m \u001b[1;33m&\u001b[0m \u001b[0mdf2\u001b[0m\u001b[1;33m[\u001b[0m\u001b[1;34m\"año_v\"\u001b[0m\u001b[1;33m]\u001b[0m\u001b[1;33m.\u001b[0m\u001b[0misnull\u001b[0m\u001b[1;33m(\u001b[0m\u001b[1;33m)\u001b[0m\u001b[1;33m\u001b[0m\u001b[1;33m\u001b[0m\u001b[0m\n\u001b[0m",
      "\u001b[1;32mc:\\Users\\Agus_\\anaconda3\\lib\\site-packages\\pandas\\core\\frame.py\u001b[0m in \u001b[0;36m__getitem__\u001b[1;34m(self, key)\u001b[0m\n\u001b[0;32m   3503\u001b[0m             \u001b[1;32mif\u001b[0m \u001b[0mself\u001b[0m\u001b[1;33m.\u001b[0m\u001b[0mcolumns\u001b[0m\u001b[1;33m.\u001b[0m\u001b[0mnlevels\u001b[0m \u001b[1;33m>\u001b[0m \u001b[1;36m1\u001b[0m\u001b[1;33m:\u001b[0m\u001b[1;33m\u001b[0m\u001b[1;33m\u001b[0m\u001b[0m\n\u001b[0;32m   3504\u001b[0m                 \u001b[1;32mreturn\u001b[0m \u001b[0mself\u001b[0m\u001b[1;33m.\u001b[0m\u001b[0m_getitem_multilevel\u001b[0m\u001b[1;33m(\u001b[0m\u001b[0mkey\u001b[0m\u001b[1;33m)\u001b[0m\u001b[1;33m\u001b[0m\u001b[1;33m\u001b[0m\u001b[0m\n\u001b[1;32m-> 3505\u001b[1;33m             \u001b[0mindexer\u001b[0m \u001b[1;33m=\u001b[0m \u001b[0mself\u001b[0m\u001b[1;33m.\u001b[0m\u001b[0mcolumns\u001b[0m\u001b[1;33m.\u001b[0m\u001b[0mget_loc\u001b[0m\u001b[1;33m(\u001b[0m\u001b[0mkey\u001b[0m\u001b[1;33m)\u001b[0m\u001b[1;33m\u001b[0m\u001b[1;33m\u001b[0m\u001b[0m\n\u001b[0m\u001b[0;32m   3506\u001b[0m             \u001b[1;32mif\u001b[0m \u001b[0mis_integer\u001b[0m\u001b[1;33m(\u001b[0m\u001b[0mindexer\u001b[0m\u001b[1;33m)\u001b[0m\u001b[1;33m:\u001b[0m\u001b[1;33m\u001b[0m\u001b[1;33m\u001b[0m\u001b[0m\n\u001b[0;32m   3507\u001b[0m                 \u001b[0mindexer\u001b[0m \u001b[1;33m=\u001b[0m \u001b[1;33m[\u001b[0m\u001b[0mindexer\u001b[0m\u001b[1;33m]\u001b[0m\u001b[1;33m\u001b[0m\u001b[1;33m\u001b[0m\u001b[0m\n",
      "\u001b[1;32mc:\\Users\\Agus_\\anaconda3\\lib\\site-packages\\pandas\\core\\indexes\\base.py\u001b[0m in \u001b[0;36mget_loc\u001b[1;34m(self, key, method, tolerance)\u001b[0m\n\u001b[0;32m   3629\u001b[0m                 \u001b[1;32mreturn\u001b[0m \u001b[0mself\u001b[0m\u001b[1;33m.\u001b[0m\u001b[0m_engine\u001b[0m\u001b[1;33m.\u001b[0m\u001b[0mget_loc\u001b[0m\u001b[1;33m(\u001b[0m\u001b[0mcasted_key\u001b[0m\u001b[1;33m)\u001b[0m\u001b[1;33m\u001b[0m\u001b[1;33m\u001b[0m\u001b[0m\n\u001b[0;32m   3630\u001b[0m             \u001b[1;32mexcept\u001b[0m \u001b[0mKeyError\u001b[0m \u001b[1;32mas\u001b[0m \u001b[0merr\u001b[0m\u001b[1;33m:\u001b[0m\u001b[1;33m\u001b[0m\u001b[1;33m\u001b[0m\u001b[0m\n\u001b[1;32m-> 3631\u001b[1;33m                 \u001b[1;32mraise\u001b[0m \u001b[0mKeyError\u001b[0m\u001b[1;33m(\u001b[0m\u001b[0mkey\u001b[0m\u001b[1;33m)\u001b[0m \u001b[1;32mfrom\u001b[0m \u001b[0merr\u001b[0m\u001b[1;33m\u001b[0m\u001b[1;33m\u001b[0m\u001b[0m\n\u001b[0m\u001b[0;32m   3632\u001b[0m             \u001b[1;32mexcept\u001b[0m \u001b[0mTypeError\u001b[0m\u001b[1;33m:\u001b[0m\u001b[1;33m\u001b[0m\u001b[1;33m\u001b[0m\u001b[0m\n\u001b[0;32m   3633\u001b[0m                 \u001b[1;31m# If we have a listlike key, _check_indexing_error will raise\u001b[0m\u001b[1;33m\u001b[0m\u001b[1;33m\u001b[0m\u001b[0m\n",
      "\u001b[1;31mKeyError\u001b[0m: 'app_name'"
     ]
    }
   ],
   "source": [
    "mask = df2[\"app_name\"].str.contains(\"Transcripted\") & df2[\"año_v\"].isnull()"
   ]
  },
  {
   "cell_type": "code",
   "execution_count": null,
   "metadata": {},
   "outputs": [],
   "source": [
    "mask = df2[\"app_name\"].str.contains(\"Sleeping Dogs\") & df2[\"año_v\"].isnull()\n",
    "df2.loc[mask, \"año_v\"] = df2.loc[mask, \"año_v\"].replace({np.nan: \"2012\"}, inplace=True)\n",
    "mask = df2[\"app_name\"].str.contains(\"Transcripted\") & df2[\"año_v\"].isnull()\n",
    "df2.loc[mask, \"año_v\"] = df2.loc[mask, \"año_v\"].replace({\"<NA>\": \"2017\"}, inplace=True)"
   ]
  },
  {
   "cell_type": "code",
   "execution_count": null,
   "metadata": {},
   "outputs": [],
   "source": [
    "mask = df2[\"app_name\"].str.contains(\"Transcripted\") & df2[\"año_v\"].isnull()\n",
    "df2.loc[mask, \"año_v\"] = df2.loc[mask, \"año_v\"].replace({np.nan: \"2017\"}, inplace=True)"
   ]
  },
  {
   "cell_type": "code",
   "execution_count": 522,
   "metadata": {},
   "outputs": [],
   "source": [
    "df2.dropna(subset=[\"año_v\"], inplace=True)"
   ]
  },
  {
   "cell_type": "code",
   "execution_count": 523,
   "metadata": {},
   "outputs": [
    {
     "name": "stderr",
     "output_type": "stream",
     "text": [
      "C:\\Users\\Agus_\\AppData\\Local\\Temp\\ipykernel_17952\\2079068280.py:2: UserWarning: Boolean Series key will be reindexed to match DataFrame index.\n",
      "  rows_year = df2[df[\"año_v\"] == max_year]\n"
     ]
    }
   ],
   "source": [
    "max_year = df2[\"año_v\"].max()\n",
    "rows_year = df2[df[\"año_v\"] == max_year]"
   ]
  },
  {
   "cell_type": "code",
   "execution_count": 524,
   "metadata": {},
   "outputs": [],
   "source": [
    "df2.drop(index=rows_year.index, inplace=True)"
   ]
  },
  {
   "cell_type": "code",
   "execution_count": 525,
   "metadata": {},
   "outputs": [],
   "source": [
    "df2.dropna(subset=\"price\", inplace=True)"
   ]
  },
  {
   "cell_type": "markdown",
   "metadata": {},
   "source": [
    "## Hasta acá es donde vamos a usar nuestro modelo"
   ]
  },
  {
   "cell_type": "code",
   "execution_count": null,
   "metadata": {},
   "outputs": [],
   "source": [
    "s = df2.to_csv(\"../data/csv/steam_games_modelo.csv\",index=False)"
   ]
  },
  {
   "cell_type": "markdown",
   "metadata": {},
   "source": [
    "## Lo guardo en diferentes lados para poder usarlos tanto como parquet, como csv"
   ]
  },
  {
   "cell_type": "code",
   "execution_count": null,
   "metadata": {},
   "outputs": [],
   "source": [
    "s = df2.to_parquet(\"../data/parquet/steam_games_modelo.parquet\",index=False, engine=\"pyarrow\")"
   ]
  }
 ],
 "metadata": {
  "kernelspec": {
   "display_name": "base",
   "language": "python",
   "name": "python3"
  },
  "language_info": {
   "codemirror_mode": {
    "name": "ipython",
    "version": 3
   },
   "file_extension": ".py",
   "mimetype": "text/x-python",
   "name": "python",
   "nbconvert_exporter": "python",
   "pygments_lexer": "ipython3",
   "version": "3.9.13"
  },
  "orig_nbformat": 4
 },
 "nbformat": 4,
 "nbformat_minor": 2
}
